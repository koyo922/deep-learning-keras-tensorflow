{
 "cells": [
  {
   "cell_type": "markdown",
   "metadata": {},
   "source": [
    "# Fully Connected Feed-Forward Network\n",
    "\n",
    "In this notebook we will play with Feed-Forward FC-NN (Fully Connected Neural Network) for a *classification task*: \n",
    "\n",
    "Image Classification on MNIST Dataset\n",
    "\n",
    "**RECALL**\n",
    "\n",
    "In the FC-NN, the output of each layer is computed using the activations from the previous one, as follows:\n",
    "\n",
    "$$h_{i} = \\sigma(W_i h_{i-1} + b_i)$$\n",
    "\n",
    "where ${h}_i$ is the activation vector from the $i$-th layer (or the input data for $i=0$), ${W}_i$ and ${b}_i$ are  the weight matrix and the bias vector for the $i$-th layer, respectively. \n",
    "<br><rb>\n",
    "$\\sigma(\\cdot)$ is the activation function. In our example, we will use the *ReLU* activation function for the hidden layers and *softmax* for the last layer.\n",
    "\n",
    "To regularize the model, we will also insert a Dropout layer between consecutive hidden layers. \n",
    "\n",
    "Dropout works by “dropping out” some unit activations in a given layer, that is setting them to zero with a given probability.\n",
    "\n",
    "Our loss function will be the **categorical crossentropy**."
   ]
  },
  {
   "cell_type": "markdown",
   "metadata": {},
   "source": [
    "## Model definition\n",
    "Keras supports two different kind of models: the [Sequential](http://keras.io/models/#sequential) model and the [Graph](http://keras.io/models/#graph) model. The former is used to build linear stacks of layer (so each layer has one input and one output), and the latter supports any kind of connection graph.\n",
    "\n",
    "In our case we build a Sequential model with three [Dense](http://keras.io/layers/core/#dense) (aka fully connected) layers, with some [Dropout](http://keras.io/layers/core/#dropout). Notice that the output layer has the softmax activation function. \n",
    "\n",
    "The resulting model is actually a `function` of its own inputs implemented using the Keras backend. \n",
    "\n",
    "We apply the binary crossentropy loss and choose SGD as the optimizer. \n",
    "\n",
    "Please remind that Keras supports a variety of different [optimizers](http://keras.io/optimizers/) and [loss functions](http://keras.io/objectives/), which you may want to check out. "
   ]
  },
  {
   "cell_type": "code",
   "execution_count": 1,
   "metadata": {
    "collapsed": true
   },
   "outputs": [],
   "source": [
    "import numpy as np\n",
    "import matplotlib.pyplot as plt\n",
    "\n",
    "%matplotlib inline"
   ]
  },
  {
   "cell_type": "markdown",
   "metadata": {},
   "source": [
    "## Introducing ReLU"
   ]
  },
  {
   "cell_type": "markdown",
   "metadata": {},
   "source": [
    "The **ReLu** function is defined as $f(x) = \\max(0, x),$ [1]\n",
    "\n",
    "A smooth approximation to the rectifier is the *analytic function*: $f(x) = \\ln(1 + e^x)$\n",
    "\n",
    "which is called the **softplus** function.\n",
    "\n",
    "The derivative of softplus is $f'(x) = e^x / (e^x + 1) = 1 / (1 + e^{-x})$, i.e. the **logistic function**.\n",
    "\n",
    "[1] [http://www.cs.toronto.edu/~fritz/absps/reluICML.pdf]() by G. E. Hinton "
   ]
  },
  {
   "cell_type": "markdown",
   "metadata": {},
   "source": [
    "### Note: Keep in mind this function as it is heavily used in CNN"
   ]
  },
  {
   "cell_type": "code",
   "execution_count": 2,
   "metadata": {},
   "outputs": [
    {
     "name": "stderr",
     "output_type": "stream",
     "text": [
      "Using TensorFlow backend.\n"
     ]
    }
   ],
   "source": [
    "from keras.models import Sequential\n",
    "from keras.layers.core import Dense\n",
    "from keras.optimizers import SGD\n",
    "\n",
    "nb_classes = 10\n",
    "\n",
    "# FC@512+relu -> FC@512+relu -> FC@nb_classes+softmax\n",
    "# ... your Code Here"
   ]
  },
  {
   "cell_type": "code",
   "execution_count": 3,
   "metadata": {
    "collapsed": true
   },
   "outputs": [],
   "source": [
    "# %load ../solutions/sol_321.py"
   ]
  },
  {
   "cell_type": "code",
   "execution_count": 4,
   "metadata": {
    "collapsed": true
   },
   "outputs": [],
   "source": [
    "from keras.models import Sequential\n",
    "from keras.layers.core import Dense\n",
    "from keras.optimizers import SGD\n",
    "\n",
    "model = Sequential()\n",
    "model.add(Dense(512, activation='relu', input_shape=(784,)))\n",
    "model.add(Dense(512, activation='relu'))\n",
    "model.add(Dense(10, activation='softmax'))\n",
    "\n",
    "model.compile(loss='categorical_crossentropy', optimizer=SGD(lr=0.001), \n",
    "              metrics=['accuracy'])"
   ]
  },
  {
   "cell_type": "markdown",
   "metadata": {},
   "source": [
    "## Data preparation (`keras.dataset`)\n",
    "\n",
    "We will train our model on the MNIST dataset, which consists of 60,000 28x28 grayscale images of the 10 digits, along with a test set of 10,000 images. \n",
    "\n",
    "![](../imgs/mnist.png)\n",
    "\n",
    "Since this dataset is **provided** with Keras, we just ask the `keras.dataset` model for training and test data.\n",
    "\n",
    "We will:\n",
    "\n",
    "* download the data\n",
    "* reshape data to be in vectorial form (original data are images)\n",
    "* normalize between 0 and 1.\n",
    "\n",
    "The `binary_crossentropy` loss expects a **one-hot-vector** as input, therefore we apply the `to_categorical` function from `keras.utilis` to convert integer labels to **one-hot-vectors**."
   ]
  },
  {
   "cell_type": "code",
   "execution_count": 5,
   "metadata": {
    "collapsed": true
   },
   "outputs": [],
   "source": [
    "from keras.datasets import mnist\n",
    "from keras.utils import np_utils\n",
    "\n",
    "(X_train, y_train), (X_test, y_test) = mnist.load_data()"
   ]
  },
  {
   "cell_type": "code",
   "execution_count": 6,
   "metadata": {},
   "outputs": [
    {
     "data": {
      "text/plain": [
       "(60000, 28, 28)"
      ]
     },
     "execution_count": 6,
     "metadata": {},
     "output_type": "execute_result"
    }
   ],
   "source": [
    "X_train.shape"
   ]
  },
  {
   "cell_type": "code",
   "execution_count": 7,
   "metadata": {
    "collapsed": true
   },
   "outputs": [],
   "source": [
    "X_train = X_train.reshape(60000, 784)\n",
    "X_test = X_test.reshape(10000, 784)\n",
    "X_train = X_train.astype(\"float32\")\n",
    "X_test = X_test.astype(\"float32\")\n",
    "\n",
    "# Put everything on grayscale\n",
    "X_train /= 255\n",
    "X_test /= 255\n",
    "\n",
    "# convert class vectors to binary class matrices\n",
    "Y_train = np_utils.to_categorical(y_train, 10)\n",
    "Y_test = np_utils.to_categorical(y_test, 10)"
   ]
  },
  {
   "cell_type": "markdown",
   "metadata": {},
   "source": [
    "#### Split Training and Validation Data"
   ]
  },
  {
   "cell_type": "code",
   "execution_count": 10,
   "metadata": {},
   "outputs": [],
   "source": [
    "from sklearn.model_selection import train_test_split\n",
    "\n",
    "X_train, X_val, Y_train, Y_val = train_test_split(X_train, Y_train)"
   ]
  },
  {
   "cell_type": "code",
   "execution_count": 11,
   "metadata": {},
   "outputs": [
    {
     "data": {
      "text/plain": [
       "(784,)"
      ]
     },
     "execution_count": 11,
     "metadata": {},
     "output_type": "execute_result"
    }
   ],
   "source": [
    "X_train[0].shape"
   ]
  },
  {
   "cell_type": "code",
   "execution_count": 12,
   "metadata": {},
   "outputs": [
    {
     "data": {
      "text/plain": [
       "<matplotlib.image.AxesImage at 0x122faf9b0>"
      ]
     },
     "execution_count": 12,
     "metadata": {},
     "output_type": "execute_result"
    },
    {
     "data": {
      "image/png": "[encoded data removed]",
      "text/plain": [
       "<matplotlib.figure.Figure at 0x122ee9898>"
      ]
     },
     "metadata": {},
     "output_type": "display_data"
    }
   ],
   "source": [
    "plt.imshow(X_train[0].reshape(28, 28))"
   ]
  },
  {
   "cell_type": "code",
   "execution_count": 13,
   "metadata": {},
   "outputs": [
    {
     "name": "stdout",
     "output_type": "stream",
     "text": [
      "[0 1 2 3 4 5 6 7 8 9]\n",
      "[0 0 0 0 0 0 0 0 1 0]\n"
     ]
    }
   ],
   "source": [
    "print(np.asarray(range(10)))\n",
    "print(Y_train[0].astype('int'))"
   ]
  },
  {
   "cell_type": "code",
   "execution_count": 14,
   "metadata": {},
   "outputs": [
    {
     "data": {
      "text/plain": [
       "<matplotlib.image.AxesImage at 0x11e136630>"
      ]
     },
     "execution_count": 14,
     "metadata": {},
     "output_type": "execute_result"
    },
    {
     "data": {
      "image/png": "[encoded data removed]",
      "text/plain": [
       "<matplotlib.figure.Figure at 0x115c17cc0>"
      ]
     },
     "metadata": {},
     "output_type": "display_data"
    }
   ],
   "source": [
    "plt.imshow(X_val[0].reshape(28, 28))"
   ]
  },
  {
   "cell_type": "code",
   "execution_count": 15,
   "metadata": {},
   "outputs": [
    {
     "name": "stdout",
     "output_type": "stream",
     "text": [
      "[0 1 2 3 4 5 6 7 8 9]\n",
      "[0 0 0 1 0 0 0 0 0 0]\n"
     ]
    }
   ],
   "source": [
    "print(np.asarray(range(10)))\n",
    "print(Y_val[0].astype('int'))"
   ]
  },
  {
   "cell_type": "markdown",
   "metadata": {},
   "source": [
    "## Training\n",
    "Having defined and compiled the model, it can be trained using the `fit` function. We also specify a validation dataset to monitor validation loss and accuracy."
   ]
  },
  {
   "cell_type": "code",
   "execution_count": 16,
   "metadata": {
    "scrolled": true
   },
   "outputs": [
    {
     "name": "stdout",
     "output_type": "stream",
     "text": [
      "Train on 45000 samples, validate on 15000 samples\n",
      "Epoch 1/2\n",
      "45000/45000 [==============================] - 7s - loss: 2.2010 - acc: 0.2675 - val_loss: 2.0713 - val_acc: 0.4608\n",
      "Epoch 2/2\n",
      "45000/45000 [==============================] - 6s - loss: 1.9525 - acc: 0.5740 - val_loss: 1.8319 - val_acc: 0.6666\n"
     ]
    }
   ],
   "source": [
    "network_history = model.fit(X_train, Y_train, batch_size=128, \n",
    "                            epochs=2, verbose=1, validation_data=(X_val, Y_val))"
   ]
  },
  {
   "cell_type": "markdown",
   "metadata": {},
   "source": [
    "### Plotting Network Performance Trend\n",
    "The return value of the `fit` function is a `keras.callbacks.History` object which contains the entire history of training/validation loss and accuracy, for each epoch. We can therefore plot the behaviour of loss and accuracy during the training phase."
   ]
  },
  {
   "cell_type": "code",
   "execution_count": 17,
   "metadata": {},
   "outputs": [
    {
     "data": {
      "image/png": "[encoded data removed]",
      "text/plain": [
       "<matplotlib.figure.Figure at 0x106aed828>"
      ]
     },
     "metadata": {},
     "output_type": "display_data"
    },
    {
     "data": {
      "image/png": "[encoded data removed]",
      "text/plain": [
       "<matplotlib.figure.Figure at 0x11e57ff60>"
      ]
     },
     "metadata": {},
     "output_type": "display_data"
    }
   ],
   "source": [
    "import matplotlib.pyplot as plt\n",
    "%matplotlib inline\n",
    "\n",
    "def plot_history(network_history):\n",
    "    plt.figure()\n",
    "    plt.xlabel('Epochs')\n",
    "    plt.ylabel('Loss')\n",
    "    plt.plot(network_history.history['loss'])\n",
    "    plt.plot(network_history.history['val_loss'])\n",
    "    plt.legend(['Training', 'Validation'])\n",
    "\n",
    "    plt.figure()\n",
    "    plt.xlabel('Epochs')\n",
    "    plt.ylabel('Accuracy')\n",
    "    plt.plot(network_history.history['acc'])\n",
    "    plt.plot(network_history.history['val_acc'])\n",
    "    plt.legend(['Training', 'Validation'], loc='lower right')\n",
    "    plt.show()\n",
    "\n",
    "plot_history(network_history)"
   ]
  },
  {
   "cell_type": "markdown",
   "metadata": {},
   "source": [
    "After `2` epochs, we get a `~88%` validation accuracy. \n",
    "\n",
    "* If you increase the number of epochs, you will get definitely better results."
   ]
  },
  {
   "cell_type": "markdown",
   "metadata": {},
   "source": [
    "### Quick Exercise: \n",
    "\n",
    "Try increasing the number of epochs (if you're hardware allows to)\n"
   ]
  },
  {
   "cell_type": "code",
   "execution_count": 21,
   "metadata": {},
   "outputs": [
    {
     "name": "stdout",
     "output_type": "stream",
     "text": [
      "Train on 45000 samples, validate on 15000 samples\n",
      "Epoch 1/5\n",
      "45000/45000 [==============================] - 6s - loss: 1.7416 - acc: 0.6929 - val_loss: 1.6247 - val_acc: 0.7188\n",
      "Epoch 2/5\n",
      "45000/45000 [==============================] - 6s - loss: 1.5059 - acc: 0.7373 - val_loss: 1.3944 - val_acc: 0.7556\n",
      "Epoch 3/5\n",
      "45000/45000 [==============================] - 6s - loss: 1.2878 - acc: 0.7680 - val_loss: 1.1934 - val_acc: 0.7823\n",
      "Epoch 4/5\n",
      "45000/45000 [==============================] - 6s - loss: 1.1063 - acc: 0.7898 - val_loss: 1.0331 - val_acc: 0.8031\n",
      "Epoch 5/5\n",
      "45000/45000 [==============================] - 6s - loss: 0.9649 - acc: 0.8072 - val_loss: 0.9105 - val_acc: 0.8146\n"
     ]
    }
   ],
   "source": [
    "# Your code here\n",
    "model.compile(loss='categorical_crossentropy', optimizer=SGD(lr=0.001), \n",
    "              metrics=['accuracy'])\n",
    "network_history = model.fit(X_train, Y_train, batch_size=128, \n",
    "                            epochs=5, verbose=1, validation_data=(X_val, Y_val))"
   ]
  },
  {
   "cell_type": "markdown",
   "metadata": {},
   "source": [
    "## Introducing the Dropout Layer"
   ]
  },
  {
   "cell_type": "markdown",
   "metadata": {},
   "source": [
    "The **dropout layers** have the very specific function to *drop out* a random set of activations in that layers by setting them to zero in the forward pass. Simple as that. \n",
    "\n",
    "It allows to avoid *overfitting* but has to be used **only** at training time and **not** at test time. "
   ]
  },
  {
   "cell_type": "markdown",
   "metadata": {},
   "source": [
    "```python\n",
    "\n",
    "keras.layers.core.Dropout(rate, noise_shape=None, seed=None)\n",
    "```\n",
    "\n",
    "Applies Dropout to the input.\n",
    "\n",
    "Dropout consists in randomly setting a fraction rate of input units to 0 at each update during training time, which helps prevent overfitting.\n",
    "\n",
    "Arguments\n",
    "\n",
    "* rate: float between 0 and 1. Fraction of the input units to drop.\n",
    "* noise_shape: 1D integer tensor representing the shape of the binary dropout mask that will be multiplied with the input. For instance, if your inputs have shape  (batch_size, timesteps, features) and you want the dropout mask to be the same for all timesteps, you can use noise_shape=(batch_size, 1, features).\n",
    "* seed: A Python integer to use as random seed."
   ]
  },
  {
   "cell_type": "markdown",
   "metadata": {},
   "source": [
    "**Note** Keras guarantess automatically that this layer is **not** used in **Inference** (i.e. Prediction) phase\n",
    "(thus only used in **training** as it should be!)\n",
    "\n",
    "See `keras.backend.in_train_phase` function"
   ]
  },
  {
   "cell_type": "code",
   "execution_count": 18,
   "metadata": {},
   "outputs": [],
   "source": [
    "from keras.layers.core import Dropout\n",
    "\n",
    "## Pls note **where** the `K.in_train_phase` is actually called!!\n",
    "Dropout??"
   ]
  },
  {
   "cell_type": "code",
   "execution_count": 19,
   "metadata": {
    "collapsed": true
   },
   "outputs": [],
   "source": [
    "from keras import backend as K\n",
    "\n",
    "K.in_train_phase?"
   ]
  },
  {
   "cell_type": "markdown",
   "metadata": {},
   "source": [
    "### Exercise:\n",
    "\n",
    "Try modifying the previous example network adding a Dropout layer:"
   ]
  },
  {
   "cell_type": "code",
   "execution_count": 20,
   "metadata": {
    "collapsed": true
   },
   "outputs": [],
   "source": [
    "from keras.layers.core import Dropout\n",
    "\n",
    "# FC@512+relu -> DropOut(0.2) -> FC@512+relu -> DropOut(0.2) -> FC@nb_classes+softmax\n",
    "# ... your Code Here"
   ]
  },
  {
   "cell_type": "code",
   "execution_count": 21,
   "metadata": {
    "collapsed": true
   },
   "outputs": [],
   "source": [
    "model = Sequential()\n",
    "model.add(Dense(512, input_shape=(784,), activation='relu'))\n",
    "model.add(Dropout(0.2))\n",
    "model.add(Dense(512, activation='relu'))\n",
    "model.add(Dropout(0.2))\n",
    "model.add(Dense(nb_classes, activation='softmax'))\n",
    "model.compile(optimizer=SGD(), loss='categorical_crossentropy', metrics=['accuracy'])"
   ]
  },
  {
   "cell_type": "code",
   "execution_count": 22,
   "metadata": {
    "collapsed": true
   },
   "outputs": [
    {
     "name": "stdout",
     "output_type": "stream",
     "text": [
      "from keras.models import Sequential\r\n",
      "from keras.layers.core import Dense, Dropout\r\n",
      "from keras.optimizers import SGD\r\n",
      "\r\n",
      "model = Sequential()\r\n",
      "model.add(Dense(512, activation='relu', input_shape=(784,)))\r\n",
      "model.add(Dropout(0.2))\r\n",
      "model.add(Dense(512, activation='relu'))\r\n",
      "model.add(Dropout(0.2))\r\n",
      "model.add(Dense(10, activation='softmax'))\r\n",
      "\r\n",
      "model.compile(loss='categorical_crossentropy', optimizer=SGD(), \r\n",
      "              metrics=['accuracy'])"
     ]
    }
   ],
   "source": [
    "!cat ../solutions/sol_312.py"
   ]
  },
  {
   "cell_type": "code",
   "execution_count": null,
   "metadata": {
    "collapsed": true
   },
   "outputs": [],
   "source": [
    "# %load ../solutions/sol_312.py"
   ]
  },
  {
   "cell_type": "code",
   "execution_count": 23,
   "metadata": {
    "collapsed": true
   },
   "outputs": [
    {
     "name": "stdout",
     "output_type": "stream",
     "text": [
      "Train on 45000 samples, validate on 15000 samples\n",
      "Epoch 1/4\n",
      "41600/45000 [==========================>...] - ETA: 0s - loss: 1.4714 - acc: 0.6250"
     ]
    },
    {
     "ename": "KeyboardInterrupt",
     "evalue": "",
     "output_type": "error",
     "traceback": [
      "\u001b[0;31m---------------------------------------------------------------------------\u001b[0m",
      "\u001b[0;31mKeyboardInterrupt\u001b[0m                         Traceback (most recent call last)",
      "\u001b[0;32m<ipython-input-23-e06e4b06393b>\u001b[0m in \u001b[0;36m<module>\u001b[0;34m()\u001b[0m\n\u001b[1;32m      1\u001b[0m network_history = model.fit(X_train, Y_train, batch_size=128, \n\u001b[0;32m----> 2\u001b[0;31m                             epochs=4, verbose=1, validation_data=(X_val, Y_val))\n\u001b[0m\u001b[1;32m      3\u001b[0m \u001b[0mplot_history\u001b[0m\u001b[0;34m(\u001b[0m\u001b[0mnetwork_history\u001b[0m\u001b[0;34m)\u001b[0m\u001b[0;34m\u001b[0m\u001b[0m\n",
      "\u001b[0;32m/Users/qianweishuo/anaconda3/lib/python3.5/site-packages/keras/models.py\u001b[0m in \u001b[0;36mfit\u001b[0;34m(self, x, y, batch_size, epochs, verbose, callbacks, validation_split, validation_data, shuffle, class_weight, sample_weight, initial_epoch, **kwargs)\u001b[0m\n\u001b[1;32m    868\u001b[0m                               \u001b[0mclass_weight\u001b[0m\u001b[0;34m=\u001b[0m\u001b[0mclass_weight\u001b[0m\u001b[0;34m,\u001b[0m\u001b[0;34m\u001b[0m\u001b[0m\n\u001b[1;32m    869\u001b[0m                               \u001b[0msample_weight\u001b[0m\u001b[0;34m=\u001b[0m\u001b[0msample_weight\u001b[0m\u001b[0;34m,\u001b[0m\u001b[0;34m\u001b[0m\u001b[0m\n\u001b[0;32m--> 870\u001b[0;31m                               initial_epoch=initial_epoch)\n\u001b[0m\u001b[1;32m    871\u001b[0m \u001b[0;34m\u001b[0m\u001b[0m\n\u001b[1;32m    872\u001b[0m     def evaluate(self, x, y, batch_size=32, verbose=1,\n",
      "\u001b[0;32m/Users/qianweishuo/anaconda3/lib/python3.5/site-packages/keras/engine/training.py\u001b[0m in \u001b[0;36mfit\u001b[0;34m(self, x, y, batch_size, epochs, verbose, callbacks, validation_split, validation_data, shuffle, class_weight, sample_weight, initial_epoch, **kwargs)\u001b[0m\n\u001b[1;32m   1505\u001b[0m                               \u001b[0mval_f\u001b[0m\u001b[0;34m=\u001b[0m\u001b[0mval_f\u001b[0m\u001b[0;34m,\u001b[0m \u001b[0mval_ins\u001b[0m\u001b[0;34m=\u001b[0m\u001b[0mval_ins\u001b[0m\u001b[0;34m,\u001b[0m \u001b[0mshuffle\u001b[0m\u001b[0;34m=\u001b[0m\u001b[0mshuffle\u001b[0m\u001b[0;34m,\u001b[0m\u001b[0;34m\u001b[0m\u001b[0m\n\u001b[1;32m   1506\u001b[0m                               \u001b[0mcallback_metrics\u001b[0m\u001b[0;34m=\u001b[0m\u001b[0mcallback_metrics\u001b[0m\u001b[0;34m,\u001b[0m\u001b[0;34m\u001b[0m\u001b[0m\n\u001b[0;32m-> 1507\u001b[0;31m                               initial_epoch=initial_epoch)\n\u001b[0m\u001b[1;32m   1508\u001b[0m \u001b[0;34m\u001b[0m\u001b[0m\n\u001b[1;32m   1509\u001b[0m     \u001b[0;32mdef\u001b[0m \u001b[0mevaluate\u001b[0m\u001b[0;34m(\u001b[0m\u001b[0mself\u001b[0m\u001b[0;34m,\u001b[0m \u001b[0mx\u001b[0m\u001b[0;34m,\u001b[0m \u001b[0my\u001b[0m\u001b[0;34m,\u001b[0m \u001b[0mbatch_size\u001b[0m\u001b[0;34m=\u001b[0m\u001b[0;36m32\u001b[0m\u001b[0;34m,\u001b[0m \u001b[0mverbose\u001b[0m\u001b[0;34m=\u001b[0m\u001b[0;36m1\u001b[0m\u001b[0;34m,\u001b[0m \u001b[0msample_weight\u001b[0m\u001b[0;34m=\u001b[0m\u001b[0;32mNone\u001b[0m\u001b[0;34m)\u001b[0m\u001b[0;34m:\u001b[0m\u001b[0;34m\u001b[0m\u001b[0m\n",
      "\u001b[0;32m/Users/qianweishuo/anaconda3/lib/python3.5/site-packages/keras/engine/training.py\u001b[0m in \u001b[0;36m_fit_loop\u001b[0;34m(self, f, ins, out_labels, batch_size, epochs, verbose, callbacks, val_f, val_ins, shuffle, callback_metrics, initial_epoch)\u001b[0m\n\u001b[1;32m   1154\u001b[0m                 \u001b[0mbatch_logs\u001b[0m\u001b[0;34m[\u001b[0m\u001b[0;34m'size'\u001b[0m\u001b[0;34m]\u001b[0m \u001b[0;34m=\u001b[0m \u001b[0mlen\u001b[0m\u001b[0;34m(\u001b[0m\u001b[0mbatch_ids\u001b[0m\u001b[0;34m)\u001b[0m\u001b[0;34m\u001b[0m\u001b[0m\n\u001b[1;32m   1155\u001b[0m                 \u001b[0mcallbacks\u001b[0m\u001b[0;34m.\u001b[0m\u001b[0mon_batch_begin\u001b[0m\u001b[0;34m(\u001b[0m\u001b[0mbatch_index\u001b[0m\u001b[0;34m,\u001b[0m \u001b[0mbatch_logs\u001b[0m\u001b[0;34m)\u001b[0m\u001b[0;34m\u001b[0m\u001b[0m\n\u001b[0;32m-> 1156\u001b[0;31m                 \u001b[0mouts\u001b[0m \u001b[0;34m=\u001b[0m \u001b[0mf\u001b[0m\u001b[0;34m(\u001b[0m\u001b[0mins_batch\u001b[0m\u001b[0;34m)\u001b[0m\u001b[0;34m\u001b[0m\u001b[0m\n\u001b[0m\u001b[1;32m   1157\u001b[0m                 \u001b[0;32mif\u001b[0m \u001b[0;32mnot\u001b[0m \u001b[0misinstance\u001b[0m\u001b[0;34m(\u001b[0m\u001b[0mouts\u001b[0m\u001b[0;34m,\u001b[0m \u001b[0mlist\u001b[0m\u001b[0;34m)\u001b[0m\u001b[0;34m:\u001b[0m\u001b[0;34m\u001b[0m\u001b[0m\n\u001b[1;32m   1158\u001b[0m                     \u001b[0mouts\u001b[0m \u001b[0;34m=\u001b[0m \u001b[0;34m[\u001b[0m\u001b[0mouts\u001b[0m\u001b[0;34m]\u001b[0m\u001b[0;34m\u001b[0m\u001b[0m\n",
      "\u001b[0;32m/Users/qianweishuo/anaconda3/lib/python3.5/site-packages/keras/backend/tensorflow_backend.py\u001b[0m in \u001b[0;36m__call__\u001b[0;34m(self, inputs)\u001b[0m\n\u001b[1;32m   2267\u001b[0m         updated = session.run(self.outputs + [self.updates_op],\n\u001b[1;32m   2268\u001b[0m                               \u001b[0mfeed_dict\u001b[0m\u001b[0;34m=\u001b[0m\u001b[0mfeed_dict\u001b[0m\u001b[0;34m,\u001b[0m\u001b[0;34m\u001b[0m\u001b[0m\n\u001b[0;32m-> 2269\u001b[0;31m                               **self.session_kwargs)\n\u001b[0m\u001b[1;32m   2270\u001b[0m         \u001b[0;32mreturn\u001b[0m \u001b[0mupdated\u001b[0m\u001b[0;34m[\u001b[0m\u001b[0;34m:\u001b[0m\u001b[0mlen\u001b[0m\u001b[0;34m(\u001b[0m\u001b[0mself\u001b[0m\u001b[0;34m.\u001b[0m\u001b[0moutputs\u001b[0m\u001b[0;34m)\u001b[0m\u001b[0;34m]\u001b[0m\u001b[0;34m\u001b[0m\u001b[0m\n\u001b[1;32m   2271\u001b[0m \u001b[0;34m\u001b[0m\u001b[0m\n",
      "\u001b[0;32m/Users/qianweishuo/anaconda3/lib/python3.5/site-packages/tensorflow/python/client/session.py\u001b[0m in \u001b[0;36mrun\u001b[0;34m(self, fetches, feed_dict, options, run_metadata)\u001b[0m\n\u001b[1;32m    787\u001b[0m     \u001b[0;32mtry\u001b[0m\u001b[0;34m:\u001b[0m\u001b[0;34m\u001b[0m\u001b[0m\n\u001b[1;32m    788\u001b[0m       result = self._run(None, fetches, feed_dict, options_ptr,\n\u001b[0;32m--> 789\u001b[0;31m                          run_metadata_ptr)\n\u001b[0m\u001b[1;32m    790\u001b[0m       \u001b[0;32mif\u001b[0m \u001b[0mrun_metadata\u001b[0m\u001b[0;34m:\u001b[0m\u001b[0;34m\u001b[0m\u001b[0m\n\u001b[1;32m    791\u001b[0m         \u001b[0mproto_data\u001b[0m \u001b[0;34m=\u001b[0m \u001b[0mtf_session\u001b[0m\u001b[0;34m.\u001b[0m\u001b[0mTF_GetBuffer\u001b[0m\u001b[0;34m(\u001b[0m\u001b[0mrun_metadata_ptr\u001b[0m\u001b[0;34m)\u001b[0m\u001b[0;34m\u001b[0m\u001b[0m\n",
      "\u001b[0;32m/Users/qianweishuo/anaconda3/lib/python3.5/site-packages/tensorflow/python/client/session.py\u001b[0m in \u001b[0;36m_run\u001b[0;34m(self, handle, fetches, feed_dict, options, run_metadata)\u001b[0m\n\u001b[1;32m    995\u001b[0m     \u001b[0;32mif\u001b[0m \u001b[0mfinal_fetches\u001b[0m \u001b[0;32mor\u001b[0m \u001b[0mfinal_targets\u001b[0m\u001b[0;34m:\u001b[0m\u001b[0;34m\u001b[0m\u001b[0m\n\u001b[1;32m    996\u001b[0m       results = self._do_run(handle, final_targets, final_fetches,\n\u001b[0;32m--> 997\u001b[0;31m                              feed_dict_string, options, run_metadata)\n\u001b[0m\u001b[1;32m    998\u001b[0m     \u001b[0;32melse\u001b[0m\u001b[0;34m:\u001b[0m\u001b[0;34m\u001b[0m\u001b[0m\n\u001b[1;32m    999\u001b[0m       \u001b[0mresults\u001b[0m \u001b[0;34m=\u001b[0m \u001b[0;34m[\u001b[0m\u001b[0;34m]\u001b[0m\u001b[0;34m\u001b[0m\u001b[0m\n",
      "\u001b[0;32m/Users/qianweishuo/anaconda3/lib/python3.5/site-packages/tensorflow/python/client/session.py\u001b[0m in \u001b[0;36m_do_run\u001b[0;34m(self, handle, target_list, fetch_list, feed_dict, options, run_metadata)\u001b[0m\n\u001b[1;32m   1130\u001b[0m     \u001b[0;32mif\u001b[0m \u001b[0mhandle\u001b[0m \u001b[0;32mis\u001b[0m \u001b[0;32mNone\u001b[0m\u001b[0;34m:\u001b[0m\u001b[0;34m\u001b[0m\u001b[0m\n\u001b[1;32m   1131\u001b[0m       return self._do_call(_run_fn, self._session, feed_dict, fetch_list,\n\u001b[0;32m-> 1132\u001b[0;31m                            target_list, options, run_metadata)\n\u001b[0m\u001b[1;32m   1133\u001b[0m     \u001b[0;32melse\u001b[0m\u001b[0;34m:\u001b[0m\u001b[0;34m\u001b[0m\u001b[0m\n\u001b[1;32m   1134\u001b[0m       return self._do_call(_prun_fn, self._session, handle, feed_dict,\n",
      "\u001b[0;32m/Users/qianweishuo/anaconda3/lib/python3.5/site-packages/tensorflow/python/client/session.py\u001b[0m in \u001b[0;36m_do_call\u001b[0;34m(self, fn, *args)\u001b[0m\n\u001b[1;32m   1137\u001b[0m   \u001b[0;32mdef\u001b[0m \u001b[0m_do_call\u001b[0m\u001b[0;34m(\u001b[0m\u001b[0mself\u001b[0m\u001b[0;34m,\u001b[0m \u001b[0mfn\u001b[0m\u001b[0;34m,\u001b[0m \u001b[0;34m*\u001b[0m\u001b[0margs\u001b[0m\u001b[0;34m)\u001b[0m\u001b[0;34m:\u001b[0m\u001b[0;34m\u001b[0m\u001b[0m\n\u001b[1;32m   1138\u001b[0m     \u001b[0;32mtry\u001b[0m\u001b[0;34m:\u001b[0m\u001b[0;34m\u001b[0m\u001b[0m\n\u001b[0;32m-> 1139\u001b[0;31m       \u001b[0;32mreturn\u001b[0m \u001b[0mfn\u001b[0m\u001b[0;34m(\u001b[0m\u001b[0;34m*\u001b[0m\u001b[0margs\u001b[0m\u001b[0;34m)\u001b[0m\u001b[0;34m\u001b[0m\u001b[0m\n\u001b[0m\u001b[1;32m   1140\u001b[0m     \u001b[0;32mexcept\u001b[0m \u001b[0merrors\u001b[0m\u001b[0;34m.\u001b[0m\u001b[0mOpError\u001b[0m \u001b[0;32mas\u001b[0m \u001b[0me\u001b[0m\u001b[0;34m:\u001b[0m\u001b[0;34m\u001b[0m\u001b[0m\n\u001b[1;32m   1141\u001b[0m       \u001b[0mmessage\u001b[0m \u001b[0;34m=\u001b[0m \u001b[0mcompat\u001b[0m\u001b[0;34m.\u001b[0m\u001b[0mas_text\u001b[0m\u001b[0;34m(\u001b[0m\u001b[0me\u001b[0m\u001b[0;34m.\u001b[0m\u001b[0mmessage\u001b[0m\u001b[0;34m)\u001b[0m\u001b[0;34m\u001b[0m\u001b[0m\n",
      "\u001b[0;32m/Users/qianweishuo/anaconda3/lib/python3.5/site-packages/tensorflow/python/client/session.py\u001b[0m in \u001b[0;36m_run_fn\u001b[0;34m(session, feed_dict, fetch_list, target_list, options, run_metadata)\u001b[0m\n\u001b[1;32m   1119\u001b[0m         return tf_session.TF_Run(session, options,\n\u001b[1;32m   1120\u001b[0m                                  \u001b[0mfeed_dict\u001b[0m\u001b[0;34m,\u001b[0m \u001b[0mfetch_list\u001b[0m\u001b[0;34m,\u001b[0m \u001b[0mtarget_list\u001b[0m\u001b[0;34m,\u001b[0m\u001b[0;34m\u001b[0m\u001b[0m\n\u001b[0;32m-> 1121\u001b[0;31m                                  status, run_metadata)\n\u001b[0m\u001b[1;32m   1122\u001b[0m \u001b[0;34m\u001b[0m\u001b[0m\n\u001b[1;32m   1123\u001b[0m     \u001b[0;32mdef\u001b[0m \u001b[0m_prun_fn\u001b[0m\u001b[0;34m(\u001b[0m\u001b[0msession\u001b[0m\u001b[0;34m,\u001b[0m \u001b[0mhandle\u001b[0m\u001b[0;34m,\u001b[0m \u001b[0mfeed_dict\u001b[0m\u001b[0;34m,\u001b[0m \u001b[0mfetch_list\u001b[0m\u001b[0;34m)\u001b[0m\u001b[0;34m:\u001b[0m\u001b[0;34m\u001b[0m\u001b[0m\n",
      "\u001b[0;31mKeyboardInterrupt\u001b[0m: "
     ]
    }
   ],
   "source": [
    "network_history = model.fit(X_train, Y_train, batch_size=128, \n",
    "                            epochs=4, verbose=1, validation_data=(X_val, Y_val))\n",
    "plot_history(network_history)"
   ]
  },
  {
   "cell_type": "markdown",
   "metadata": {},
   "source": [
    "* If you continue training, at some point the validation loss will start to increase: that is when the model starts to **overfit**. \n",
    "\n",
    "It is always necessary to monitor training and validation loss during the training of any kind of Neural Network, either to detect overfitting or to evaluate the behaviour of the model **(any clue on how to do it??)**"
   ]
  },
  {
   "cell_type": "code",
   "execution_count": 27,
   "metadata": {
    "scrolled": false
   },
   "outputs": [
    {
     "name": "stdout",
     "output_type": "stream",
     "text": [
      "Train on 45000 samples, validate on 10000 samples\n",
      "Epoch 1/100\n",
      "45000/45000 [==============================] - 7s - loss: 1.3834 - acc: 0.6506 - val_loss: 0.6622 - val_acc: 0.8494\n",
      "Epoch 2/100\n",
      "45000/45000 [==============================] - 7s - loss: 0.6146 - acc: 0.8317 - val_loss: 0.4310 - val_acc: 0.8862\n",
      "Epoch 3/100\n",
      "45000/45000 [==============================] - 6s - loss: 0.4733 - acc: 0.8639 - val_loss: 0.3617 - val_acc: 0.8997\n",
      "Epoch 4/100\n",
      "45000/45000 [==============================] - 7s - loss: 0.4153 - acc: 0.8788 - val_loss: 0.3261 - val_acc: 0.9080\n",
      "Epoch 5/100\n",
      "45000/45000 [==============================] - 7s - loss: 0.3787 - acc: 0.8907 - val_loss: 0.3024 - val_acc: 0.9134\n",
      "Epoch 6/100\n",
      "45000/45000 [==============================] - 6s - loss: 0.3512 - acc: 0.8976 - val_loss: 0.2853 - val_acc: 0.9199\n",
      "Epoch 7/100\n",
      "45000/45000 [==============================] - 7s - loss: 0.3286 - acc: 0.9050 - val_loss: 0.2701 - val_acc: 0.9217\n",
      "Epoch 8/100\n",
      "45000/45000 [==============================] - 7s - loss: 0.3145 - acc: 0.9082 - val_loss: 0.2603 - val_acc: 0.9250\n",
      "Epoch 9/100\n",
      "45000/45000 [==============================] - 7s - loss: 0.2984 - acc: 0.9128 - val_loss: 0.2466 - val_acc: 0.9297\n",
      "Epoch 10/100\n",
      "45000/45000 [==============================] - 7s - loss: 0.2849 - acc: 0.9178 - val_loss: 0.2369 - val_acc: 0.9304\n",
      "Epoch 11/100\n",
      "45000/45000 [==============================] - 7s - loss: 0.2725 - acc: 0.9214 - val_loss: 0.2281 - val_acc: 0.9337\n",
      "Epoch 00010: early stopping\n"
     ]
    },
    {
     "data": {
      "image/png": "[encoded data removed]",
      "text/plain": [
       "<matplotlib.figure.Figure at 0x1306d80f0>"
      ]
     },
     "metadata": {},
     "output_type": "display_data"
    },
    {
     "data": {
      "image/png": "[encoded data removed]",
      "text/plain": [
       "<matplotlib.figure.Figure at 0x131f37d68>"
      ]
     },
     "metadata": {},
     "output_type": "display_data"
    }
   ],
   "source": [
    "# %load solutions/sol23.py\n",
    "from keras.callbacks import EarlyStopping\n",
    "\n",
    "early_stop = EarlyStopping(monitor='val_acc', min_delta=0.01, patience=2, verbose=1)\n",
    "\n",
    "model = Sequential()\n",
    "model.add(Dense(512, activation='relu', input_shape=(784,)))\n",
    "model.add(Dropout(0.2))\n",
    "model.add(Dense(512, activation='relu'))\n",
    "model.add(Dropout(0.2))\n",
    "model.add(Dense(10, activation='softmax'))\n",
    "\n",
    "model.compile(loss='categorical_crossentropy', optimizer=SGD(), \n",
    "              metrics=['accuracy'])\n",
    "    \n",
    "network_history = model.fit(X_train, Y_train, validation_data = (X_test, Y_test), epochs=100, \n",
    "          batch_size=128, verbose=True, callbacks=[early_stop]) \n",
    "plot_history(network_history)"
   ]
  },
  {
   "cell_type": "markdown",
   "metadata": {},
   "source": [
    "---"
   ]
  },
  {
   "cell_type": "markdown",
   "metadata": {},
   "source": [
    "# Inspecting Layers"
   ]
  },
  {
   "cell_type": "code",
   "execution_count": 28,
   "metadata": {},
   "outputs": [
    {
     "name": "stdout",
     "output_type": "stream",
     "text": [
      "_________________________________________________________________\n",
      "Layer (type)                 Output Shape              Param #   \n",
      "=================================================================\n",
      "dense_16 (Dense)             (None, 512)               401920    \n",
      "_________________________________________________________________\n",
      "dropout_9 (Dropout)          (None, 512)               0         \n",
      "_________________________________________________________________\n",
      "dense_17 (Dense)             (None, 512)               262656    \n",
      "_________________________________________________________________\n",
      "dropout_10 (Dropout)         (None, 512)               0         \n",
      "_________________________________________________________________\n",
      "dense_18 (Dense)             (None, 10)                5130      \n",
      "=================================================================\n",
      "Total params: 669,706\n",
      "Trainable params: 669,706\n",
      "Non-trainable params: 0\n",
      "_________________________________________________________________\n"
     ]
    }
   ],
   "source": [
    "# We already used `summary`\n",
    "model.summary()"
   ]
  },
  {
   "cell_type": "markdown",
   "metadata": {},
   "source": [
    "### `model.layers` is iterable"
   ]
  },
  {
   "cell_type": "code",
   "execution_count": 29,
   "metadata": {},
   "outputs": [
    {
     "name": "stdout",
     "output_type": "stream",
     "text": [
      "Model Input Tensors:  Tensor(\"dense_16_input:0\", shape=(?, 784), dtype=float32)\n",
      "\n",
      "Layers - Network Configuration:\n",
      "\n",
      "dense_16 True\n",
      "Layer Configuration:\n",
      "{'kernel_constraint': None, 'units': 512, 'activation': 'relu', 'use_bias': True, 'dtype': 'float32', 'bias_initializer': {'class_name': 'Zeros', 'config': {}}, 'batch_input_shape': (None, 784), 'trainable': True, 'activity_regularizer': None, 'kernel_regularizer': None, 'name': 'dense_16', 'kernel_initializer': {'class_name': 'VarianceScaling', 'config': {'distribution': 'uniform', 'seed': None, 'scale': 1.0, 'mode': 'fan_avg'}}, 'bias_constraint': None, 'bias_regularizer': None}\n",
      "----------------------------------------\n",
      "dropout_9 True\n",
      "Layer Configuration:\n",
      "{'name': 'dropout_9', 'trainable': True, 'rate': 0.2}\n",
      "----------------------------------------\n",
      "dense_17 True\n",
      "Layer Configuration:\n",
      "{'kernel_constraint': None, 'units': 512, 'activation': 'relu', 'use_bias': True, 'bias_regularizer': None, 'bias_initializer': {'class_name': 'Zeros', 'config': {}}, 'trainable': True, 'activity_regularizer': None, 'kernel_regularizer': None, 'name': 'dense_17', 'kernel_initializer': {'class_name': 'VarianceScaling', 'config': {'distribution': 'uniform', 'seed': None, 'scale': 1.0, 'mode': 'fan_avg'}}, 'bias_constraint': None}\n",
      "----------------------------------------\n",
      "dropout_10 True\n",
      "Layer Configuration:\n",
      "{'name': 'dropout_10', 'trainable': True, 'rate': 0.2}\n",
      "----------------------------------------\n",
      "dense_18 True\n",
      "Layer Configuration:\n",
      "{'kernel_constraint': None, 'units': 10, 'activation': 'softmax', 'use_bias': True, 'bias_regularizer': None, 'bias_initializer': {'class_name': 'Zeros', 'config': {}}, 'trainable': True, 'activity_regularizer': None, 'kernel_regularizer': None, 'name': 'dense_18', 'kernel_initializer': {'class_name': 'VarianceScaling', 'config': {'distribution': 'uniform', 'seed': None, 'scale': 1.0, 'mode': 'fan_avg'}}, 'bias_constraint': None}\n",
      "----------------------------------------\n",
      "Model Output Tensors:  Tensor(\"dense_18/Softmax:0\", shape=(?, 10), dtype=float32)\n"
     ]
    }
   ],
   "source": [
    "print('Model Input Tensors: ', model.input, end='\\n\\n')\n",
    "print('Layers - Network Configuration:', end='\\n\\n')\n",
    "for layer in model.layers:\n",
    "    print(layer.name, layer.trainable)\n",
    "    print('Layer Configuration:')\n",
    "    print(layer.get_config(), end='\\n{}\\n'.format('----'*10))\n",
    "print('Model Output Tensors: ', model.output)"
   ]
  },
  {
   "cell_type": "markdown",
   "metadata": {},
   "source": [
    "## Extract hidden layer representation of the given data"
   ]
  },
  {
   "cell_type": "markdown",
   "metadata": {},
   "source": [
    "One **simple** way to do it is to use the weights of your model to build a new model that's truncated at the layer you want to read. \n",
    "\n",
    "Then you can run the `._predict(X_batch)` method to get the activations for a batch of inputs."
   ]
  },
  {
   "cell_type": "code",
   "execution_count": 30,
   "metadata": {
    "collapsed": true
   },
   "outputs": [],
   "source": [
    "model_truncated = Sequential()\n",
    "model_truncated.add(Dense(512, activation='relu', input_shape=(784,)))\n",
    "model_truncated.add(Dropout(0.2))\n",
    "model_truncated.add(Dense(512, activation='relu'))\n",
    "\n",
    "for i, layer in enumerate(model_truncated.layers):\n",
    "    layer.set_weights(model.layers[i].get_weights())\n",
    "\n",
    "model_truncated.compile(loss='categorical_crossentropy', optimizer=SGD(), \n",
    "              metrics=['accuracy'])"
   ]
  },
  {
   "cell_type": "code",
   "execution_count": 31,
   "metadata": {},
   "outputs": [
    {
     "data": {
      "text/plain": [
       "True"
      ]
     },
     "execution_count": 31,
     "metadata": {},
     "output_type": "execute_result"
    }
   ],
   "source": [
    "# Check\n",
    "np.all(model_truncated.layers[0].get_weights()[0] == model.layers[0].get_weights()[0])"
   ]
  },
  {
   "cell_type": "code",
   "execution_count": 32,
   "metadata": {
    "collapsed": true
   },
   "outputs": [],
   "source": [
    "hidden_features = model_truncated.predict(X_train)"
   ]
  },
  {
   "cell_type": "code",
   "execution_count": 33,
   "metadata": {},
   "outputs": [
    {
     "data": {
      "text/plain": [
       "(45000, 512)"
      ]
     },
     "execution_count": 33,
     "metadata": {},
     "output_type": "execute_result"
    }
   ],
   "source": [
    "hidden_features.shape"
   ]
  },
  {
   "cell_type": "code",
   "execution_count": 34,
   "metadata": {},
   "outputs": [
    {
     "data": {
      "text/plain": [
       "(45000, 784)"
      ]
     },
     "execution_count": 34,
     "metadata": {},
     "output_type": "execute_result"
    }
   ],
   "source": [
    "X_train.shape"
   ]
  },
  {
   "cell_type": "markdown",
   "metadata": {},
   "source": [
    "#### Hint: Alternative Method to get activations \n",
    "\n",
    "(Using `keras.backend` `function` on Tensors)"
   ]
  },
  {
   "cell_type": "markdown",
   "metadata": {
    "collapsed": true
   },
   "source": [
    "```python\n",
    "def get_activations(model, layer, X_batch):\n",
    "    activations_f = K.function([model.layers[0].input, K.learning_phase()], [layer.output,])\n",
    "    activations = activations_f((X_batch, False))\n",
    "    return activations\n",
    "```"
   ]
  },
  {
   "cell_type": "markdown",
   "metadata": {},
   "source": [
    "---"
   ]
  },
  {
   "cell_type": "markdown",
   "metadata": {},
   "source": [
    "### Generate the Embedding of Hidden Features"
   ]
  },
  {
   "cell_type": "code",
   "execution_count": 35,
   "metadata": {},
   "outputs": [
    {
     "name": "stdout",
     "output_type": "stream",
     "text": [
      "True\n",
      "False\n",
      "False\n"
     ]
    }
   ],
   "source": [
    "X = hidden_features\n",
    "print(np.isfinite(X).all())# True\n",
    "print(np.isnan(X).all()) # False\n",
    "print(np.isinf(X).all()) # False"
   ]
  },
  {
   "cell_type": "code",
   "execution_count": 82,
   "metadata": {},
   "outputs": [
    {
     "data": {
      "text/plain": [
       "<module 'sklearn' from '/Users/qianweishuo/anaconda3/lib/python3.5/site-packages/sklearn/__init__.py'>"
      ]
     },
     "execution_count": 82,
     "metadata": {},
     "output_type": "execute_result"
    }
   ],
   "source": [
    "from imp import reload\n",
    "import numpy\n",
    "import numpy as np\n",
    "reload(np)\n",
    "reload(numpy)\n",
    "import sklearn\n",
    "reload(sklearn)"
   ]
  },
  {
   "cell_type": "code",
   "execution_count": 37,
   "metadata": {},
   "outputs": [
    {
     "data": {
      "text/plain": [
       "('0.19.0', '1.13.3')"
      ]
     },
     "execution_count": 37,
     "metadata": {},
     "output_type": "execute_result"
    }
   ],
   "source": [
    "import sklearn\n",
    "sklearn.__version__, np.__version__"
   ]
  },
  {
   "cell_type": "code",
   "execution_count": 38,
   "metadata": {
    "scrolled": true
   },
   "outputs": [],
   "source": [
    "from sklearn.manifold import TSNE\n",
    "\n",
    "tsne = TSNE(n_components=2)\n",
    "X_tsne = tsne.fit_transform(hidden_features[:1000]) ## Reduced for computational issues"
   ]
  },
  {
   "cell_type": "code",
   "execution_count": 39,
   "metadata": {
    "collapsed": true
   },
   "outputs": [],
   "source": [
    "colors_map = np.argmax(Y_train, axis=1)"
   ]
  },
  {
   "cell_type": "code",
   "execution_count": 40,
   "metadata": {},
   "outputs": [
    {
     "data": {
      "text/plain": [
       "(1000, 2)"
      ]
     },
     "execution_count": 40,
     "metadata": {},
     "output_type": "execute_result"
    }
   ],
   "source": [
    "X_tsne.shape"
   ]
  },
  {
   "cell_type": "code",
   "execution_count": 41,
   "metadata": {},
   "outputs": [
    {
     "data": {
      "text/plain": [
       "10"
      ]
     },
     "execution_count": 41,
     "metadata": {},
     "output_type": "execute_result"
    }
   ],
   "source": [
    "nb_classes"
   ]
  },
  {
   "cell_type": "code",
   "execution_count": 42,
   "metadata": {},
   "outputs": [
    {
     "data": {
      "text/plain": [
       "(array([    5,    12,    20, ..., 44984, 44990, 44995]),)"
      ]
     },
     "execution_count": 42,
     "metadata": {},
     "output_type": "execute_result"
    }
   ],
   "source": [
    "np.where(colors_map==6)"
   ]
  },
  {
   "cell_type": "code",
   "execution_count": 43,
   "metadata": {},
   "outputs": [
    {
     "data": {
      "image/png": "[encoded data removed]",
      "text/plain": [
       "<matplotlib.figure.Figure at 0x13a9e0668>"
      ]
     },
     "metadata": {},
     "output_type": "display_data"
    }
   ],
   "source": [
    "colors = np.array([x for x in 'b-g-r-c-m-y-k-purple-coral-lime'.split('-')])\n",
    "colors_map = colors_map[:1000]\n",
    "plt.figure(figsize=(10,10))\n",
    "for cl in range(nb_classes):\n",
    "    indices = np.where(colors_map==cl)\n",
    "    plt.scatter(X_tsne[indices,0], X_tsne[indices, 1], c=colors[cl], label=cl)\n",
    "plt.legend()\n",
    "plt.show()"
   ]
  },
  {
   "cell_type": "markdown",
   "metadata": {},
   "source": [
    "## Using Bokeh (Interactive Chart)"
   ]
  },
  {
   "cell_type": "code",
   "execution_count": 45,
   "metadata": {},
   "outputs": [
    {
     "data": {
      "text/html": [
       "\n",
       "    <div class=\"bk-root\">\n",
       "        <a href=\"https://bokeh.pydata.org\" target=\"_blank\" class=\"bk-logo bk-logo-small bk-logo-notebook\"></a>\n",
       "        <span id=\"f5177731-43e7-4d27-8c0e-ec46dcf1583b\">Loading BokehJS ...</span>\n",
       "    </div>"
      ]
     },
     "metadata": {},
     "output_type": "display_data"
    },
    {
     "data": {
      "application/javascript": [
       "\n",
       "(function(root) {\n",
       "  function now() {\n",
       "    return new Date();\n",
       "  }\n",
       "\n",
       "  var force = true;\n",
       "\n",
       "  if (typeof (root._bokeh_onload_callbacks) === \"undefined\" || force === true) {\n",
       "    root._bokeh_onload_callbacks = [];\n",
       "    root._bokeh_is_loading = undefined;\n",
       "  }\n",
       "\n",
       "  var JS_MIME_TYPE = 'application/javascript';\n",
       "  var HTML_MIME_TYPE = 'text/html';\n",
       "  var EXEC_MIME_TYPE = 'application/vnd.bokehjs_exec.v0+json';\n",
       "  var CLASS_NAME = 'output_bokeh rendered_html';\n",
       "\n",
       "  /**\n",
       "   * Render data to the DOM node\n",
       "   */\n",
       "  function render(props, node) {\n",
       "    var script = document.createElement(\"script\");\n",
       "    node.appendChild(script);\n",
       "  }\n",
       "\n",
       "  /**\n",
       "   * Handle when an output is cleared or removed\n",
       "   */\n",
       "  function handleClearOutput(event, handle) {\n",
       "    var cell = handle.cell;\n",
       "\n",
       "    var id = cell.output_area._bokeh_element_id;\n",
       "    var server_id = cell.output_area._bokeh_server_id;\n",
       "    // Clean up Bokeh references\n",
       "    if (id !== undefined) {\n",
       "      Bokeh.index[id].model.document.clear();\n",
       "      delete Bokeh.index[id];\n",
       "    }\n",
       "\n",
       "    if (server_id !== undefined) {\n",
       "      // Clean up Bokeh references\n",
       "      var cmd = \"from bokeh.io import _state; print(_state.uuid_to_server['\" + server_id + \"'].get_sessions()[0].document.roots[0]._id)\";\n",
       "      cell.notebook.kernel.execute(cmd, {\n",
       "        iopub: {\n",
       "          output: function(msg) {\n",
       "            var element_id = msg.content.text.trim();\n",
       "            Bokeh.index[element_id].model.document.clear();\n",
       "            delete Bokeh.index[element_id];\n",
       "          }\n",
       "        }\n",
       "      });\n",
       "      // Destroy server and session\n",
       "      var cmd = \"from bokeh import io; io._destroy_server('\" + server_id + \"')\";\n",
       "      cell.notebook.kernel.execute(cmd);\n",
       "    }\n",
       "  }\n",
       "\n",
       "  /**\n",
       "   * Handle when a new output is added\n",
       "   */\n",
       "  function handleAddOutput(event, handle) {\n",
       "    var output_area = handle.output_area;\n",
       "    var output = handle.output;\n",
       "\n",
       "    // limit handleAddOutput to display_data with EXEC_MIME_TYPE content only\n",
       "    if ((output.output_type != \"display_data\") || (!output.data.hasOwnProperty(EXEC_MIME_TYPE))) {\n",
       "      return\n",
       "    }\n",
       "\n",
       "    var toinsert = output_area.element.find(`.${CLASS_NAME.split(' ')[0]}`);\n",
       "\n",
       "    if (output.metadata[EXEC_MIME_TYPE][\"id\"] !== undefined) {\n",
       "      toinsert[0].firstChild.textContent = output.data[JS_MIME_TYPE];\n",
       "      // store reference to embed id on output_area\n",
       "      output_area._bokeh_element_id = output.metadata[EXEC_MIME_TYPE][\"id\"];\n",
       "    }\n",
       "    if (output.metadata[EXEC_MIME_TYPE][\"server_id\"] !== undefined) {\n",
       "      var bk_div = document.createElement(\"div\");\n",
       "      bk_div.innerHTML = output.data[HTML_MIME_TYPE];\n",
       "      var script_attrs = bk_div.children[0].attributes;\n",
       "      for (var i = 0; i < script_attrs.length; i++) {\n",
       "        toinsert[0].firstChild.setAttribute(script_attrs[i].name, script_attrs[i].value);\n",
       "      }\n",
       "      // store reference to server id on output_area\n",
       "      output_area._bokeh_server_id = output.metadata[EXEC_MIME_TYPE][\"server_id\"];\n",
       "    }\n",
       "  }\n",
       "\n",
       "  function register_renderer(events, OutputArea) {\n",
       "\n",
       "    function append_mime(data, metadata, element) {\n",
       "      // create a DOM node to render to\n",
       "      var toinsert = this.create_output_subarea(\n",
       "        metadata,\n",
       "        CLASS_NAME,\n",
       "        EXEC_MIME_TYPE\n",
       "      );\n",
       "      this.keyboard_manager.register_events(toinsert);\n",
       "      // Render to node\n",
       "      var props = {data: data, metadata: metadata[EXEC_MIME_TYPE]};\n",
       "      render(props, toinsert[0]);\n",
       "      element.append(toinsert);\n",
       "      return toinsert\n",
       "    }\n",
       "\n",
       "    /* Handle when an output is cleared or removed */\n",
       "    events.on('clear_output.CodeCell', handleClearOutput);\n",
       "    events.on('delete.Cell', handleClearOutput);\n",
       "\n",
       "    /* Handle when a new output is added */\n",
       "    events.on('output_added.OutputArea', handleAddOutput);\n",
       "\n",
       "    /**\n",
       "     * Register the mime type and append_mime function with output_area\n",
       "     */\n",
       "    OutputArea.prototype.register_mime_type(EXEC_MIME_TYPE, append_mime, {\n",
       "      /* Is output safe? */\n",
       "      safe: true,\n",
       "      /* Index of renderer in `output_area.display_order` */\n",
       "      index: 0\n",
       "    });\n",
       "  }\n",
       "\n",
       "  // register the mime type if in Jupyter Notebook environment and previously unregistered\n",
       "  if (root.Jupyter !== undefined) {\n",
       "    var events = require('base/js/events');\n",
       "    var OutputArea = require('notebook/js/outputarea').OutputArea;\n",
       "\n",
       "    if (OutputArea.prototype.mime_types().indexOf(EXEC_MIME_TYPE) == -1) {\n",
       "      register_renderer(events, OutputArea);\n",
       "    }\n",
       "  }\n",
       "\n",
       "  \n",
       "  if (typeof (root._bokeh_timeout) === \"undefined\" || force === true) {\n",
       "    root._bokeh_timeout = Date.now() + 5000;\n",
       "    root._bokeh_failed_load = false;\n",
       "  }\n",
       "\n",
       "  var NB_LOAD_WARNING = {'data': {'text/html':\n",
       "     \"<div style='background-color: #fdd'>\\n\"+\n",
       "     \"<p>\\n\"+\n",
       "     \"BokehJS does not appear to have successfully loaded. If loading BokehJS from CDN, this \\n\"+\n",
       "     \"may be due to a slow or bad network connection. Possible fixes:\\n\"+\n",
       "     \"</p>\\n\"+\n",
       "     \"<ul>\\n\"+\n",
       "     \"<li>re-rerun `output_notebook()` to attempt to load from CDN again, or</li>\\n\"+\n",
       "     \"<li>use INLINE resources instead, as so:</li>\\n\"+\n",
       "     \"</ul>\\n\"+\n",
       "     \"<code>\\n\"+\n",
       "     \"from bokeh.resources import INLINE\\n\"+\n",
       "     \"output_notebook(resources=INLINE)\\n\"+\n",
       "     \"</code>\\n\"+\n",
       "     \"</div>\"}};\n",
       "\n",
       "  function display_loaded() {\n",
       "    var el = document.getElementById(\"f5177731-43e7-4d27-8c0e-ec46dcf1583b\");\n",
       "    if (el != null) {\n",
       "      el.textContent = \"BokehJS is loading...\";\n",
       "    }\n",
       "    if (root.Bokeh !== undefined) {\n",
       "      if (el != null) {\n",
       "        el.textContent = \"BokehJS \" + root.Bokeh.version + \" successfully loaded.\";\n",
       "      }\n",
       "    } else if (Date.now() < root._bokeh_timeout) {\n",
       "      setTimeout(display_loaded, 100)\n",
       "    }\n",
       "  }\n",
       "\n",
       "\n",
       "  function run_callbacks() {\n",
       "    try {\n",
       "      root._bokeh_onload_callbacks.forEach(function(callback) { callback() });\n",
       "    }\n",
       "    finally {\n",
       "      delete root._bokeh_onload_callbacks\n",
       "    }\n",
       "    console.info(\"Bokeh: all callbacks have finished\");\n",
       "  }\n",
       "\n",
       "  function load_libs(js_urls, callback) {\n",
       "    root._bokeh_onload_callbacks.push(callback);\n",
       "    if (root._bokeh_is_loading > 0) {\n",
       "      console.log(\"Bokeh: BokehJS is being loaded, scheduling callback at\", now());\n",
       "      return null;\n",
       "    }\n",
       "    if (js_urls == null || js_urls.length === 0) {\n",
       "      run_callbacks();\n",
       "      return null;\n",
       "    }\n",
       "    console.log(\"Bokeh: BokehJS not loaded, scheduling load and callback at\", now());\n",
       "    root._bokeh_is_loading = js_urls.length;\n",
       "    for (var i = 0; i < js_urls.length; i++) {\n",
       "      var url = js_urls[i];\n",
       "      var s = document.createElement('script');\n",
       "      s.src = url;\n",
       "      s.async = false;\n",
       "      s.onreadystatechange = s.onload = function() {\n",
       "        root._bokeh_is_loading--;\n",
       "        if (root._bokeh_is_loading === 0) {\n",
       "          console.log(\"Bokeh: all BokehJS libraries loaded\");\n",
       "          run_callbacks()\n",
       "        }\n",
       "      };\n",
       "      s.onerror = function() {\n",
       "        console.warn(\"failed to load library \" + url);\n",
       "      };\n",
       "      console.log(\"Bokeh: injecting script tag for BokehJS library: \", url);\n",
       "      document.getElementsByTagName(\"head\")[0].appendChild(s);\n",
       "    }\n",
       "  };var element = document.getElementById(\"f5177731-43e7-4d27-8c0e-ec46dcf1583b\");\n",
       "  if (element == null) {\n",
       "    console.log(\"Bokeh: ERROR: autoload.js configured with elementid 'f5177731-43e7-4d27-8c0e-ec46dcf1583b' but no matching script tag was found. \")\n",
       "    return false;\n",
       "  }\n",
       "\n",
       "  var js_urls = [\"https://cdn.pydata.org/bokeh/release/bokeh-0.12.9.min.js\", \"https://cdn.pydata.org/bokeh/release/bokeh-widgets-0.12.9.min.js\", \"https://cdn.pydata.org/bokeh/release/bokeh-tables-0.12.9.min.js\", \"https://cdn.pydata.org/bokeh/release/bokeh-gl-0.12.9.min.js\"];\n",
       "\n",
       "  var inline_js = [\n",
       "    function(Bokeh) {\n",
       "      Bokeh.set_log_level(\"info\");\n",
       "    },\n",
       "    \n",
       "    function(Bokeh) {\n",
       "      \n",
       "    },\n",
       "    function(Bokeh) {\n",
       "      console.log(\"Bokeh: injecting CSS: https://cdn.pydata.org/bokeh/release/bokeh-0.12.9.min.css\");\n",
       "      Bokeh.embed.inject_css(\"https://cdn.pydata.org/bokeh/release/bokeh-0.12.9.min.css\");\n",
       "      console.log(\"Bokeh: injecting CSS: https://cdn.pydata.org/bokeh/release/bokeh-widgets-0.12.9.min.css\");\n",
       "      Bokeh.embed.inject_css(\"https://cdn.pydata.org/bokeh/release/bokeh-widgets-0.12.9.min.css\");\n",
       "      console.log(\"Bokeh: injecting CSS: https://cdn.pydata.org/bokeh/release/bokeh-tables-0.12.9.min.css\");\n",
       "      Bokeh.embed.inject_css(\"https://cdn.pydata.org/bokeh/release/bokeh-tables-0.12.9.min.css\");\n",
       "    }\n",
       "  ];\n",
       "\n",
       "  function run_inline_js() {\n",
       "    \n",
       "    if ((root.Bokeh !== undefined) || (force === true)) {\n",
       "      for (var i = 0; i < inline_js.length; i++) {\n",
       "        inline_js[i].call(root, root.Bokeh);\n",
       "      }if (force === true) {\n",
       "        display_loaded();\n",
       "      }} else if (Date.now() < root._bokeh_timeout) {\n",
       "      setTimeout(run_inline_js, 100);\n",
       "    } else if (!root._bokeh_failed_load) {\n",
       "      console.log(\"Bokeh: BokehJS failed to load within specified timeout.\");\n",
       "      root._bokeh_failed_load = true;\n",
       "    } else if (force !== true) {\n",
       "      var cell = $(document.getElementById(\"f5177731-43e7-4d27-8c0e-ec46dcf1583b\")).parents('.cell').data().cell;\n",
       "      cell.output_area.append_execute_result(NB_LOAD_WARNING)\n",
       "    }\n",
       "\n",
       "  }\n",
       "\n",
       "  if (root._bokeh_is_loading === 0) {\n",
       "    console.log(\"Bokeh: BokehJS loaded, going straight to plotting\");\n",
       "    run_inline_js();\n",
       "  } else {\n",
       "    load_libs(js_urls, function() {\n",
       "      console.log(\"Bokeh: BokehJS plotting callback run at\", now());\n",
       "      run_inline_js();\n",
       "    });\n",
       "  }\n",
       "}(window));"
      ],
      "application/vnd.bokehjs_load.v0+json": "\n(function(root) {\n  function now() {\n    return new Date();\n  }\n\n  var force = true;\n\n  if (typeof (root._bokeh_onload_callbacks) === \"undefined\" || force === true) {\n    root._bokeh_onload_callbacks = [];\n    root._bokeh_is_loading = undefined;\n  }\n\n  \n\n  \n  if (typeof (root._bokeh_timeout) === \"undefined\" || force === true) {\n    root._bokeh_timeout = Date.now() + 5000;\n    root._bokeh_failed_load = false;\n  }\n\n  var NB_LOAD_WARNING = {'data': {'text/html':\n     \"<div style='background-color: #fdd'>\\n\"+\n     \"<p>\\n\"+\n     \"BokehJS does not appear to have successfully loaded. If loading BokehJS from CDN, this \\n\"+\n     \"may be due to a slow or bad network connection. Possible fixes:\\n\"+\n     \"</p>\\n\"+\n     \"<ul>\\n\"+\n     \"<li>re-rerun `output_notebook()` to attempt to load from CDN again, or</li>\\n\"+\n     \"<li>use INLINE resources instead, as so:</li>\\n\"+\n     \"</ul>\\n\"+\n     \"<code>\\n\"+\n     \"from bokeh.resources import INLINE\\n\"+\n     \"output_notebook(resources=INLINE)\\n\"+\n     \"</code>\\n\"+\n     \"</div>\"}};\n\n  function display_loaded() {\n    var el = document.getElementById(\"f5177731-43e7-4d27-8c0e-ec46dcf1583b\");\n    if (el != null) {\n      el.textContent = \"BokehJS is loading...\";\n    }\n    if (root.Bokeh !== undefined) {\n      if (el != null) {\n        el.textContent = \"BokehJS \" + root.Bokeh.version + \" successfully loaded.\";\n      }\n    } else if (Date.now() < root._bokeh_timeout) {\n      setTimeout(display_loaded, 100)\n    }\n  }\n\n\n  function run_callbacks() {\n    try {\n      root._bokeh_onload_callbacks.forEach(function(callback) { callback() });\n    }\n    finally {\n      delete root._bokeh_onload_callbacks\n    }\n    console.info(\"Bokeh: all callbacks have finished\");\n  }\n\n  function load_libs(js_urls, callback) {\n    root._bokeh_onload_callbacks.push(callback);\n    if (root._bokeh_is_loading > 0) {\n      console.log(\"Bokeh: BokehJS is being loaded, scheduling callback at\", now());\n      return null;\n    }\n    if (js_urls == null || js_urls.length === 0) {\n      run_callbacks();\n      return null;\n    }\n    console.log(\"Bokeh: BokehJS not loaded, scheduling load and callback at\", now());\n    root._bokeh_is_loading = js_urls.length;\n    for (var i = 0; i < js_urls.length; i++) {\n      var url = js_urls[i];\n      var s = document.createElement('script');\n      s.src = url;\n      s.async = false;\n      s.onreadystatechange = s.onload = function() {\n        root._bokeh_is_loading--;\n        if (root._bokeh_is_loading === 0) {\n          console.log(\"Bokeh: all BokehJS libraries loaded\");\n          run_callbacks()\n        }\n      };\n      s.onerror = function() {\n        console.warn(\"failed to load library \" + url);\n      };\n      console.log(\"Bokeh: injecting script tag for BokehJS library: \", url);\n      document.getElementsByTagName(\"head\")[0].appendChild(s);\n    }\n  };var element = document.getElementById(\"f5177731-43e7-4d27-8c0e-ec46dcf1583b\");\n  if (element == null) {\n    console.log(\"Bokeh: ERROR: autoload.js configured with elementid 'f5177731-43e7-4d27-8c0e-ec46dcf1583b' but no matching script tag was found. \")\n    return false;\n  }\n\n  var js_urls = [\"https://cdn.pydata.org/bokeh/release/bokeh-0.12.9.min.js\", \"https://cdn.pydata.org/bokeh/release/bokeh-widgets-0.12.9.min.js\", \"https://cdn.pydata.org/bokeh/release/bokeh-tables-0.12.9.min.js\", \"https://cdn.pydata.org/bokeh/release/bokeh-gl-0.12.9.min.js\"];\n\n  var inline_js = [\n    function(Bokeh) {\n      Bokeh.set_log_level(\"info\");\n    },\n    \n    function(Bokeh) {\n      \n    },\n    function(Bokeh) {\n      console.log(\"Bokeh: injecting CSS: https://cdn.pydata.org/bokeh/release/bokeh-0.12.9.min.css\");\n      Bokeh.embed.inject_css(\"https://cdn.pydata.org/bokeh/release/bokeh-0.12.9.min.css\");\n      console.log(\"Bokeh: injecting CSS: https://cdn.pydata.org/bokeh/release/bokeh-widgets-0.12.9.min.css\");\n      Bokeh.embed.inject_css(\"https://cdn.pydata.org/bokeh/release/bokeh-widgets-0.12.9.min.css\");\n      console.log(\"Bokeh: injecting CSS: https://cdn.pydata.org/bokeh/release/bokeh-tables-0.12.9.min.css\");\n      Bokeh.embed.inject_css(\"https://cdn.pydata.org/bokeh/release/bokeh-tables-0.12.9.min.css\");\n    }\n  ];\n\n  function run_inline_js() {\n    \n    if ((root.Bokeh !== undefined) || (force === true)) {\n      for (var i = 0; i < inline_js.length; i++) {\n        inline_js[i].call(root, root.Bokeh);\n      }if (force === true) {\n        display_loaded();\n      }} else if (Date.now() < root._bokeh_timeout) {\n      setTimeout(run_inline_js, 100);\n    } else if (!root._bokeh_failed_load) {\n      console.log(\"Bokeh: BokehJS failed to load within specified timeout.\");\n      root._bokeh_failed_load = true;\n    } else if (force !== true) {\n      var cell = $(document.getElementById(\"f5177731-43e7-4d27-8c0e-ec46dcf1583b\")).parents('.cell').data().cell;\n      cell.output_area.append_execute_result(NB_LOAD_WARNING)\n    }\n\n  }\n\n  if (root._bokeh_is_loading === 0) {\n    console.log(\"Bokeh: BokehJS loaded, going straight to plotting\");\n    run_inline_js();\n  } else {\n    load_libs(js_urls, function() {\n      console.log(\"Bokeh: BokehJS plotting callback run at\", now());\n      run_inline_js();\n    });\n  }\n}(window));"
     },
     "metadata": {},
     "output_type": "display_data"
    }
   ],
   "source": [
    "from bokeh.plotting import figure, output_notebook, show\n",
    "\n",
    "output_notebook()"
   ]
  },
  {
   "cell_type": "code",
   "execution_count": 46,
   "metadata": {},
   "outputs": [
    {
     "data": {
      "text/html": [
       "\n",
       "<div class=\"bk-root\">\n",
       "    <div class=\"bk-plotdiv\" id=\"3f36d7ec-deba-4538-97f5-62ae72bf4974\"></div>\n",
       "</div>"
      ]
     },
     "metadata": {},
     "output_type": "display_data"
    },
    {
     "data": {
      "application/javascript": [
       "(function(root) {\n",
       "  function embed_document(root) {\n",
       "    var docs_json = {\"227a5438-d080-4911-9351-6256e139475b\":{\"roots\":{\"references\":[{\"attributes\":{\"fill_alpha\":{\"value\":0.4},\"fill_color\":{\"value\":\"cyan\"},\"line_alpha\":{\"value\":0.4},\"line_color\":{\"value\":\"cyan\"},\"size\":{\"units\":\"screen\",\"value\":7},\"x\":{\"field\":\"x\"},\"y\":{\"field\":\"y\"}},\"id\":\"90aaa45d-c212-4d47-a639-70cb73e57066\",\"type\":\"Circle\"},{\"attributes\":{},\"id\":\"69a9ed8b-8a31-4665-865b-b5deba2a4265\",\"type\":\"BasicTickFormatter\"},{\"attributes\":{\"data_source\":{\"id\":\"4a9fd87d-1b73-46f4-bca7-0c3e760aa4cf\",\"type\":\"ColumnDataSource\"},\"glyph\":{\"id\":\"ce52a683-677d-444c-9092-75d08a641063\",\"type\":\"Circle\"},\"hover_glyph\":null,\"muted_glyph\":null,\"nonselection_glyph\":{\"id\":\"b006044e-0d4e-47dc-bae0-68c1e9600cfb\",\"type\":\"Circle\"},\"selection_glyph\":null,\"view\":{\"id\":\"4e7f89e3-35c8-48bd-b130-417897d43404\",\"type\":\"CDSView\"}},\"id\":\"9ad902eb-8c61-4f7a-a7a7-b81609b577f8\",\"type\":\"GlyphRenderer\"},{\"attributes\":{\"label\":{\"value\":\"6\"},\"renderers\":[{\"id\":\"dd0a80d3-c8ff-4e42-87b8-afa78433827a\",\"type\":\"GlyphRenderer\"}]},\"id\":\"04f3c56e-247d-4916-a5ad-c3ef5a37d786\",\"type\":\"LegendItem\"},{\"attributes\":{\"callback\":null,\"column_names\":[\"y\",\"x\"],\"data\":{\"x\":{\"__ndarray__\":\"BLf5wZrW9MFWChLCLGrNwaBMCMKDrN/BhdkXwlF2+MG9mBvCnbkVwlEGn0CeLqrBBoYQwtTPycHanR3Cw1YMwgguE8JtxvPBouwUwvI5CML0VQzCv7YSwlunHMLMkd/BybEfwt5rF8L6GL/BAp4iwl7JCcLxKMfB3qcAwvZGEcJK1w3CoeLywXxOF8J2VQTCQLEGwkzYHcIPvA7CNK0OwmA/A8Ke3AjCPNz3wT8/88H/pCLCcmbxwUwiEMIFxhrCWp+VwQV1FMI81A7C7VwBwsthD8KiTBPCtAwOwjtrHcLVixLCQx4KwgKN4sEp1PLBcAQEwtn5v8F9EADCzr4HwlrD78G/7xnCo8IAwtuP1sF0Jw3Crv8Fwp3E5cEroyLCcWgfwomuJsJebiTCt1IBwqhIF8LtHevB8RYIwvgFCMKlrerBgmkKwrLc58E0aBTCic7rwX8W4ME8OA/CfuAEwv1sFsJwMBXC4/gBwmFbAcKEKPrBwocgwhPAC8KE9sXB/sblwY2FCMJBwgTC\",\"dtype\":\"float32\",\"shape\":[99]},\"y\":{\"__ndarray__\":\"c7qiwL/Ytb9ErOU/XnMgQfO8gT4x+ey/2wPlwJI3MsBj8pm/Jr61vycTTcFL4gxB92GJQHpdr0Acscm+ncQswG+Co8B5DJ1A7+Q4P7cyV8DCuBZAfvb0wMC2osB4klk/TIKUwGPDp75oZ6xAwj7cvyxy2UATSRtBl85MwDWdmkAezgrAFqiAwEbfAMCnMb0/+pGMwLklecB63HbAgxD3P19UD79YwdO+yDSuwDPoxUBTHfi97yOFwAvQu8AiflXA04MFwg4vIMA2rC2/rpxwwJbY2sDLvt7AtycCwQRCOD8k1G5AibCfv5Y7zb9X+hu/vFqOv8Xpl0DKZNy/q2roP9QqlsAj6OXApGXUwE4CVL48jpnAPAvywM2htr+1J5/A2QGRvsrGEL9W94C/XcqiQAGDjz/HUt+92Bd7vyBgbkBrkNI/QTyYwIQYaz8ZHnHA8PUFwERdKcAFsy+/Fvk1wMV6gsBjosDAVIctwIeuskDqSKJAy2NZwFrNgz65nSRAPOgQwGK+KUBestzA\",\"dtype\":\"float32\",\"shape\":[99]}}},\"id\":\"f22ffef9-e754-401e-bfeb-68f0538075ed\",\"type\":\"ColumnDataSource\"},{\"attributes\":{\"label\":{\"value\":\"5\"},\"renderers\":[{\"id\":\"3e2cc2b8-f83c-46a3-bd5a-2883bed9fd55\",\"type\":\"GlyphRenderer\"}]},\"id\":\"e099d83f-71b6-4778-a957-e70ffc420875\",\"type\":\"LegendItem\"},{\"attributes\":{\"active_drag\":\"auto\",\"active_inspect\":\"auto\",\"active_scroll\":\"auto\",\"active_tap\":\"auto\",\"tools\":[{\"id\":\"8c587b3d-f2d9-4a52-8583-d16b71faf531\",\"type\":\"PanTool\"},{\"id\":\"954e3c8c-bfd5-491d-9028-811b5f20a0cf\",\"type\":\"WheelZoomTool\"},{\"id\":\"8b70944e-065f-4c21-82ad-7402f8a69205\",\"type\":\"BoxZoomTool\"},{\"id\":\"dfc0b5b1-5318-45db-854d-5d2f8874b352\",\"type\":\"SaveTool\"},{\"id\":\"5953ad34-2826-4a7a-9bbb-b71721a54bb6\",\"type\":\"ResetTool\"},{\"id\":\"994f1432-e455-422e-b31a-9e97c915d5fa\",\"type\":\"HelpTool\"}]},\"id\":\"a7d2a755-57bd-470a-beec-59feb6098305\",\"type\":\"Toolbar\"},{\"attributes\":{\"fill_alpha\":{\"value\":0.1},\"fill_color\":{\"value\":\"#1f77b4\"},\"line_alpha\":{\"value\":0.1},\"line_color\":{\"value\":\"#1f77b4\"},\"size\":{\"units\":\"screen\",\"value\":7},\"x\":{\"field\":\"x\"},\"y\":{\"field\":\"y\"}},\"id\":\"90d6a7e1-1688-4c5d-bb42-cdb09641f4bd\",\"type\":\"Circle\"},{\"attributes\":{\"fill_alpha\":{\"value\":0.4},\"fill_color\":{\"value\":\"coral\"},\"line_alpha\":{\"value\":0.4},\"line_color\":{\"value\":\"coral\"},\"size\":{\"units\":\"screen\",\"value\":7},\"x\":{\"field\":\"x\"},\"y\":{\"field\":\"y\"}},\"id\":\"a66dd94a-e61e-4ead-89b7-c91340f23c91\",\"type\":\"Circle\"},{\"attributes\":{\"source\":{\"id\":\"ff3c76d4-0b45-4a07-8b0c-92b65314bfdc\",\"type\":\"ColumnDataSource\"}},\"id\":\"004061ab-b776-4c48-a851-6df6fde90db2\",\"type\":\"CDSView\"},{\"attributes\":{\"fill_alpha\":{\"value\":0.4},\"fill_color\":{\"value\":\"lime\"},\"line_alpha\":{\"value\":0.4},\"line_color\":{\"value\":\"lime\"},\"size\":{\"units\":\"screen\",\"value\":7},\"x\":{\"field\":\"x\"},\"y\":{\"field\":\"y\"}},\"id\":\"6dfceff8-bf99-4830-89e7-70063486984b\",\"type\":\"Circle\"},{\"attributes\":{\"callback\":null,\"column_names\":[\"y\",\"x\"],\"data\":{\"x\":{\"__ndarray__\":\"4ZWjQQi/b0HAJG1BwzhpQeeEn0F+PWhBBhk0QU4Ch0GucCBBi1GTQYmhoUFyIC9BkhRsQXWNdEGfNp5BaXOLQQhUjkGpQqRBs46vQWkwkEGrXqdBx9qAQRGEX0H2wmxBOiCsQTIVEkH6EbVBfMWYQZURpUEJ3BFBF5+oQflrx0HvCy5BtG6yQewVlkFESolB1gmnQTTUiUHpnDpBP6+BQS38ZEEH/HxBSb6iQe07lkF4vAdBCmzOQf3xSUEDcIlBUKOGQVbzl0Er9pBBsXqfQZBwr0EUVrVB6J1mQdV8l0EugnVBhxxCQR4KV0HWhYVB63GDQZZ5l8FgGatB7D6iQYFxOUF971ZB51iXQYgHW0EM3rNBJV67QeU6dkHRtHNBNL2QQZxTlkEGoHVB7aiaQTabZ0Gm55lBKMeQQeJbm0ESVq2/dauuQZD/gEHM5wNBw/9pQbj5k0FzuJ1BYnayQYtqxEFSJgdB7CmWQXVguEHZ6IZBpD+9QQq+PUEGj4NBhRrBPdYeVUGyj7FB/kV4QRHIn0EeEUZB\",\"dtype\":\"float32\",\"shape\":[102]},\"y\":{\"__ndarray__\":\"puaDQVA+pkEV64dBSrluQeyKcEF7XctBMK3FQVEgV0FyuaxBxPmtQUv4YUHhE9BBXJGwQf6FmUF2qL9BuDm9QXZ5EEAK0cNBmCN5Qc70rUHzVlNBFBqWQe6a0UG6M85B3tZvQRIwwEGJTKVBR/vOQaBQwUGut7BBrl9/QfYYpkFx8dFBOayxQUukcEGHnrBBu2ybQQVBnEG2ILhBcoWPQaocwUGpRJFB6TiuQXYBvkHgz7NB6HWRQQBaz0G2P6ZBlZylQRbiWUFSPChADKOlQbVyo0FUGbhB6nS4QfoAsUHHiotBL26hQTE3mUHAWlBBYT1KQaTzy0HBxWNBjMibQbJMuUHDuKpBTeyeQcvCrkG7ho9B4UZ/QakSrkHC5rxBFWOeQebSgUHGhclBsHDIQcl3q0H+K5FBkv2MQRPbz0GxdvXAg2m5QYgjvEG7qbRBJzJtQc8AWEFDO6RBD4JqQctbiEGnYqZBAjm9QQ8BYUFZ0MBBloaHQeFHj0FUMoRB7/xfwMaRoEH2c55BmWCkQT4IZUFq9I1B\",\"dtype\":\"float32\",\"shape\":[102]}}},\"id\":\"df684cfc-07d7-4afc-91da-1441a2e65692\",\"type\":\"ColumnDataSource\"},{\"attributes\":{},\"id\":\"dfc0b5b1-5318-45db-854d-5d2f8874b352\",\"type\":\"SaveTool\"},{\"attributes\":{\"dimension\":1,\"plot\":{\"id\":\"cbba5776-f798-4762-a800-9385150ca096\",\"subtype\":\"Figure\",\"type\":\"Plot\"},\"ticker\":{\"id\":\"b9d046b8-230c-405a-9633-b11dd9a69054\",\"type\":\"BasicTicker\"}},\"id\":\"729e2011-f617-4eb2-a3f6-8cef218ae0c5\",\"type\":\"Grid\"},{\"attributes\":{\"source\":{\"id\":\"e579fef6-32e5-4f7b-bbb2-ffaddc14b731\",\"type\":\"ColumnDataSource\"}},\"id\":\"b556e5cc-dca4-4ce7-92e6-50994aabe37f\",\"type\":\"CDSView\"},{\"attributes\":{\"data_source\":{\"id\":\"df684cfc-07d7-4afc-91da-1441a2e65692\",\"type\":\"ColumnDataSource\"},\"glyph\":{\"id\":\"90aaa45d-c212-4d47-a639-70cb73e57066\",\"type\":\"Circle\"},\"hover_glyph\":null,\"muted_glyph\":null,\"nonselection_glyph\":{\"id\":\"90d6a7e1-1688-4c5d-bb42-cdb09641f4bd\",\"type\":\"Circle\"},\"selection_glyph\":null,\"view\":{\"id\":\"4cee21bd-ddc1-48c7-bece-4993a3ac5659\",\"type\":\"CDSView\"}},\"id\":\"2051f674-1e1c-421a-ac76-654789d4efad\",\"type\":\"GlyphRenderer\"},{\"attributes\":{\"formatter\":{\"id\":\"80c7e550-f954-4441-aa9a-90467a56e930\",\"type\":\"BasicTickFormatter\"},\"plot\":{\"id\":\"cbba5776-f798-4762-a800-9385150ca096\",\"subtype\":\"Figure\",\"type\":\"Plot\"},\"ticker\":{\"id\":\"b9d046b8-230c-405a-9633-b11dd9a69054\",\"type\":\"BasicTicker\"}},\"id\":\"823132fb-44a4-4fbb-a478-363037fb97b4\",\"type\":\"LinearAxis\"},{\"attributes\":{\"fill_alpha\":{\"value\":0.4},\"fill_color\":{\"value\":\"green\"},\"line_alpha\":{\"value\":0.4},\"line_color\":{\"value\":\"green\"},\"size\":{\"units\":\"screen\",\"value\":7},\"x\":{\"field\":\"x\"},\"y\":{\"field\":\"y\"}},\"id\":\"d58a953a-1701-4904-826d-3a2a5cc6a7d4\",\"type\":\"Circle\"},{\"attributes\":{\"fill_alpha\":{\"value\":0.4},\"fill_color\":{\"value\":\"magenta\"},\"line_alpha\":{\"value\":0.4},\"line_color\":{\"value\":\"magenta\"},\"size\":{\"units\":\"screen\",\"value\":7},\"x\":{\"field\":\"x\"},\"y\":{\"field\":\"y\"}},\"id\":\"803cdd49-016b-42ac-8307-95e5413a5395\",\"type\":\"Circle\"},{\"attributes\":{\"fill_alpha\":{\"value\":0.4},\"fill_color\":{\"value\":\"black\"},\"line_alpha\":{\"value\":0.4},\"size\":{\"units\":\"screen\",\"value\":7},\"x\":{\"field\":\"x\"},\"y\":{\"field\":\"y\"}},\"id\":\"9c010adc-d389-4c57-b3cc-ee8f0530c57c\",\"type\":\"Circle\"},{\"attributes\":{\"fill_alpha\":{\"value\":0.1},\"fill_color\":{\"value\":\"#1f77b4\"},\"line_alpha\":{\"value\":0.1},\"line_color\":{\"value\":\"#1f77b4\"},\"size\":{\"units\":\"screen\",\"value\":7},\"x\":{\"field\":\"x\"},\"y\":{\"field\":\"y\"}},\"id\":\"280d1123-caf5-4931-b2f3-2d09e91d891d\",\"type\":\"Circle\"},{\"attributes\":{\"fill_alpha\":{\"value\":0.4},\"fill_color\":{\"value\":\"blue\"},\"line_alpha\":{\"value\":0.4},\"line_color\":{\"value\":\"blue\"},\"size\":{\"units\":\"screen\",\"value\":7},\"x\":{\"field\":\"x\"},\"y\":{\"field\":\"y\"}},\"id\":\"92a74c82-4854-4344-9fcb-2c39ddb6f028\",\"type\":\"Circle\"},{\"attributes\":{\"label\":{\"value\":\"0\"},\"renderers\":[{\"id\":\"097dea6c-cc09-49f4-b5e3-7423ee24e404\",\"type\":\"GlyphRenderer\"}]},\"id\":\"2756ffc6-fbe5-44a9-b355-87a94b9eb999\",\"type\":\"LegendItem\"},{\"attributes\":{\"callback\":null,\"column_names\":[\"y\",\"x\"],\"data\":{\"x\":{\"__ndarray__\":\"Pj1HwTqsucAIQUE/vepKwIEjGECWCJ3AKMCtv3EDrcFtRf4/8lyUwOf/dcH1JoJAFd2mvloYbcBwhgRAHNlCQGdAqcB+H8m/aggWQPBYOsFzkc9B6dZ6wAxdFMCxfc/AXuNZQK5T2L9av+3A680ywK0xl78Q0ojA9Ct9wYeU1UEvt8vA6aSwwLEkW8H7aYJAMi1PP38zu8Bm1pHAlzCNwSHzCsHDnJU/uSc4wV2NcD/8sVRAwPKMv5pXkMBuaMvAQy2UwLyd2b8R3TTAeFd5QIFzA8H6ukbAVo4IQB4XlMDKTE7AvGElQEsry7/4MEDBoHRBwI98V8EyCl1ArcJLwP03hsAG2WrB66o/QB/TOUBIDKTAQ/NvwUqEmMCL0K3AsTrHwcxpp77qfG8/M7Cwv0BmpsF1DhDBk5+FP9llOMAIYae/qsTxP6TzJMEEIW3BNckXwCGaR8HeOB7A3qONvw8lOD5p7oC/T+05QKORqD+yuhjBT+OFwA==\",\"dtype\":\"float32\",\"shape\":[94]},\"y\":{\"__ndarray__\":\"4lsLwa0AacELwHbBPm5QwX48WsEJfxvBkHwxwe7C8MCTK4LBHnOIwUkWB8GT/IPBMOA5wbHJXMEcASTBkEGDwXSiG8EdkJfBsLEtwU6GncF0tIbBnVCEwXmoc8HQDmnBQOK+wAQEa8G08nzB6AxywffrLsGwx8rA8aY9wUAgjUFq3YjB66wYwZZFy8BBFo7BtwlQwYfFQcG4gI3BcaK7Qd2HmsG0RDTBqeWjwevcH8H+a0XB8uOIwVG+ScHW5ojBa3+GwaKLFcHdbY/BM4FNwdAChcHhA4PA0b06wfXPj8FN1JjAaC2CwRg/zj+QDwHBO3g2wei5IsEZz4zBqsDDwPTJX8H+9hfBA95UwVnpN8GNi/DA4N8jwc4rA8IWLXTBfpVjQGMLJ8G+1TzBqtMEwd/oAMH+LZzBtq5rwcuMicEPd3jBCP1lwYQVncGHVRLBmICSwbNHCsF9ok/BXeNlwZPZQ8Fk+oDBzFFgwYEohME6EabBp8EawQ==\",\"dtype\":\"float32\",\"shape\":[94]}}},\"id\":\"4a9fd87d-1b73-46f4-bca7-0c3e760aa4cf\",\"type\":\"ColumnDataSource\"},{\"attributes\":{\"callback\":null,\"column_names\":[\"y\",\"x\"],\"data\":{\"x\":{\"__ndarray__\":\"JaICwmgF68G5BOzBwtX1wXtmC8LYSPbB4+XZwZhZzMG3ktvB9n8EwiEuBsLLMQ7CnX8Awl2zx8HyY/XB5GYDwqF2xMEuFALCmK/VwUMFEcLZLQzC8IQNwjg1EsKg1cLBlg2/wQkJ+cFKpsLBDXDewQxtCcIf0gbCkzvxwd/g78HZ1w7CHSnTwfDA9sGrdQXCrccNwiUiCsKXzgbCUuTpwaMrFsLNb9bB8bXnwd4lBcLg0NDBg673wdWO28FHGurBsg6xwaFpAsK2T9XBElP+wXIyBMIoRr/B4yDuwXKZEsJTqQbCwJEMwt4k78F0KefBwisMwlJkBsIY1P3BkeAAwv5O8sGhUQfC53ALwt3X9sFRhL7B/igWwr0VCcI7OMfBSY0OwtSABcJ4Yt9BlT6xwQT18cGzzmvBsLDxwRclz8HLt+7B2T73wdTdE8JiTvvBrzTGwY3zBcLneQrCFwAFwmJL6cEE4gHC4hzgwQMOCMJl+xDC3lhAwVJXzsG3v73BNOPCwWtv2sGAQQbC\",\"dtype\":\"float32\",\"shape\":[99]},\"y\":{\"__ndarray__\":\"FTJ/QSepgkFydRxBdvW1QUu9X0GnJlRBRB6NQV73iEH1yCpBQsewwJwWRkF2JaFB13crQSbNe0H/lX5ByoFQQSq3UkFaq3FBhGtuQQy2SUHq441BaT2bQTwjjUFfYTpBNH4WQR7FBUAXW2RBoHqJQVU3j0HVACBB+NGOQTLrFkGYQy5Bs+ZlQc13j0GO75pBDbqpQeyAJkHfIVlB6KY7QcJHnUErIaNBJYqUQQcCtEH+YDZBmKsPQbGhcEEfMiZBLgVQQQZQDkE3vH1BYKlyQWiyG0Gzm1lBxpKQQfefiUFmophBjF0yQV/KiEHolTtBXalXQeB9oMCklGFBPamNQRRylUE84qZBN4ahQclga0H973NBE9C8QJLRvUDVJYlBOuSmQRhqNEHVQg9B5RbBQOPZpkEVp+DBvG2mQdDnc0FdojNBdK4hQdWZpEFyFjtBEiRwQThiqUGO1khBF+SSQUJtjUEp8KVBm/CNQTB3EkF0VJdB6eo1wvd650CYs2pBh6siQVfomEHCSJdB\",\"dtype\":\"float32\",\"shape\":[99]}}},\"id\":\"e579fef6-32e5-4f7b-bbb2-ffaddc14b731\",\"type\":\"ColumnDataSource\"},{\"attributes\":{\"fill_alpha\":{\"value\":0.1},\"fill_color\":{\"value\":\"#1f77b4\"},\"line_alpha\":{\"value\":0.1},\"line_color\":{\"value\":\"#1f77b4\"},\"size\":{\"units\":\"screen\",\"value\":7},\"x\":{\"field\":\"x\"},\"y\":{\"field\":\"y\"}},\"id\":\"9fe7f912-0bc1-438f-84c4-5bf33a73fe2a\",\"type\":\"Circle\"},{\"attributes\":{},\"id\":\"a573239d-f473-4f3e-be95-35deaa185d85\",\"type\":\"LinearScale\"},{\"attributes\":{\"label\":{\"value\":\"2\"},\"renderers\":[{\"id\":\"9ad902eb-8c61-4f7a-a7a7-b81609b577f8\",\"type\":\"GlyphRenderer\"}]},\"id\":\"6f4ac68d-5260-4b86-a7b2-aba641ba2ffa\",\"type\":\"LegendItem\"},{\"attributes\":{\"data_source\":{\"id\":\"e579fef6-32e5-4f7b-bbb2-ffaddc14b731\",\"type\":\"ColumnDataSource\"},\"glyph\":{\"id\":\"6dfceff8-bf99-4830-89e7-70063486984b\",\"type\":\"Circle\"},\"hover_glyph\":null,\"muted_glyph\":null,\"nonselection_glyph\":{\"id\":\"157f8b3e-6a78-446c-92ad-2947bf9d5afc\",\"type\":\"Circle\"},\"selection_glyph\":null,\"view\":{\"id\":\"b556e5cc-dca4-4ce7-92e6-50994aabe37f\",\"type\":\"CDSView\"}},\"id\":\"cb60f466-9a82-401d-bf19-25aa2c494894\",\"type\":\"GlyphRenderer\"},{\"attributes\":{\"source\":{\"id\":\"85fc030f-6ba9-4e1c-af81-3230ef61ccfb\",\"type\":\"ColumnDataSource\"}},\"id\":\"3cf0f772-178d-4a62-be78-c9958b4868c2\",\"type\":\"CDSView\"},{\"attributes\":{\"callback\":null,\"column_names\":[\"y\",\"x\"],\"data\":{\"x\":{\"__ndarray__\":\"veiVQXhCx0ENuMJBlIyHQdGgskHMQZ5BLAmyQaHMrkEjeJdBNAa6QYa+gkGOKrtB+x3CQXh81kGa3tlBYOjEQQPkoEEc0atBoPi1Qcx7nkGow6lBzaDUQR3AqUEGL8RB4u6OQZGJyEFBIqJBIBiQQaIDkUHhcoNBXmWOQelEnEHVL6tBQQuiQa7wn0H7KZJBOqOpQfnNsEHviaVBztLSQbcCtUE109ZBbweJQVYGh0GDrb1BTFesQVxMu0HXGK5BG56XQS71zkEOo85BCDW5QYaNiUH71JVBXR+2QUwMnkFOWcpBXt6UQVu3wkHhm81BoH6oQcQTwUH2CdBBQ6DUQT5Yu0GcTIFBnrrPQebysEEr74tBfPSzQVbuu0HHIdpBB/bMQRmJsUHS+b9B/E2TQTQKnkFJQp1BynK+Qa41pEEQyqFBZ8qlQXOk00GibMtBdTeZQUv1qcGbab9B1UK2QXh7rkEnrsJB1BC5QW1IsUEWlKpBP62OQXpzt0E=\",\"dtype\":\"float32\",\"shape\":[95]},\"y\":{\"__ndarray__\":\"QKubwYzyx8Hv2a3BfuVtwagCbsEzR5/BK140wU7COsHTUaPBGtp7wayidMHgkb3Bsp+UwVP8lcGxQrfBrEOnweJ+dsEFZcjBPwWIwZjrWMGuql/BBoS/wV8zuMFNRYTBXb+RwV5pZsFbS7jBQ4mZwU8RncHEfLjBbduvwbFqhcFMAKvBO4SawcJZv8GuyrvBYyXJwQEBy8HFi9DBvKC1wQC3tcGB+aTBV/qbwdZtu8F0+cnBuxjywNoaqMEEk1LBgQhpwYEmn8Ge4cPBJhZ3wVRai8EtrL3B1n/YwaDahMFuSqHBp/KdwYwrlcGFx7TBM5Svwd/2TMFZiKbB3N2qwYiQYcGMjKzBDx1mwTFhosFq0qLBOfPDwWOcmcFVD5rBHD20wW3oYcE8vtHBHzd8wTL4XMF1KbnBsFBSwVQgTMEOfpfB/83Xwa9oXMFZlpLBAva0wcTs+cDOEp3B32OtwRcHcsE92IrBGjXVwVjrosGFeNbBCdOxwYbygME=\",\"dtype\":\"float32\",\"shape\":[95]}}},\"id\":\"ff3c76d4-0b45-4a07-8b0c-92b65314bfdc\",\"type\":\"ColumnDataSource\"},{\"attributes\":{\"callback\":null,\"column_names\":[\"y\",\"x\"],\"data\":{\"x\":{\"__ndarray__\":\"qHS5QZ+80EFHEYLBFS7xQUgK8UF7rt9BejivQcSwu0Hi4u5B/iPHQdtQ2UHRB8hBXJmuQZPt00Gg1NVB/mafQfXu2EGi0O5BVYDaQYk83EG+GdBBF1HEQdcm0UHdgcpBcZwMQif+e8B1XMpBX0O5Qfho50GttLFBu7aWQaIX20EodMVBF34IQl0CCkLqmrVBhVilQXbb7EGMH8ZBqhrsQR7B6kF88u9BCpHWQcwiwkEsRuFBuuTfQefNzkG28ZxBadawQXSHhkGeVO5BM2frQTEE10EUoe5B3rTmQSRG3kGPrZdBN66bQZ1S0UFpjOVBw/q/QVexxEFLvK1BxNUNQmmyvUHIUdRBlhMHQjELwUGh681B63jTQTo52UGwpppBw8jfQRqusEER0+5Bz07JQWlk1kE3SFLBKf/iQZej7UFry8hBsejPQe9J6kE=\",\"dtype\":\"float32\",\"shape\":[83]},\"y\":{\"__ndarray__\":\"7R0AQV67hkC1wAbCJz7eQFp3VkDQG+5AJJ0WwVgWn0BKA9NAYyFDQLiJhr9P4R5BbxQXQP+zLcBwjto/Zv4mQGE5v0A+pDfAE0XCPtnMicDvfYs+WyMrQQObAkEi8gFBDoPaPkutAMKYxhFBEqD+QDjIsb8sX/ZA5kVIQHMoL8Ah921Bu50EPZXctr+vA5W/Snoxwa4Fe8DPwW9BC7j3P+ilW790r+dAPE3KQNvw90AFWxpBwRF7QOCABUAlVLbAPIXwP5McbkFYd/c+RLUjQYwPPEGKL+q/Ehy/QIwfAkGSkm9A8ZeowEV0c0BgAEvAllr3QEe+UkFFyfVAH8jrPupoLkCblEtAEJuMv3i2q0DfDBtBN+wUQbyH+L8hwElBn2NNwOGyWUHOusm//z3QQOTuoD/cXibBIWm8Pz6PMj/FDy3AM8DuQBUZIUE=\",\"dtype\":\"float32\",\"shape\":[83]}}},\"id\":\"86be2a96-9b8a-4dda-8afb-40dccbd63a8c\",\"type\":\"ColumnDataSource\"},{\"attributes\":{\"fill_alpha\":{\"value\":0.4},\"fill_color\":{\"value\":\"red\"},\"line_alpha\":{\"value\":0.4},\"line_color\":{\"value\":\"red\"},\"size\":{\"units\":\"screen\",\"value\":7},\"x\":{\"field\":\"x\"},\"y\":{\"field\":\"y\"}},\"id\":\"ce52a683-677d-444c-9092-75d08a641063\",\"type\":\"Circle\"},{\"attributes\":{\"callback\":null},\"id\":\"584034ac-f63b-4310-b688-ffb8c6543a8a\",\"type\":\"DataRange1d\"},{\"attributes\":{\"source\":{\"id\":\"4a9fd87d-1b73-46f4-bca7-0c3e760aa4cf\",\"type\":\"ColumnDataSource\"}},\"id\":\"4e7f89e3-35c8-48bd-b130-417897d43404\",\"type\":\"CDSView\"},{\"attributes\":{\"fill_alpha\":{\"value\":0.4},\"fill_color\":{\"value\":\"purple\"},\"line_alpha\":{\"value\":0.4},\"line_color\":{\"value\":\"purple\"},\"size\":{\"units\":\"screen\",\"value\":7},\"x\":{\"field\":\"x\"},\"y\":{\"field\":\"y\"}},\"id\":\"4b72433d-9cd7-4ee8-8d3f-f4b7996bdf01\",\"type\":\"Circle\"},{\"attributes\":{\"callback\":null,\"column_names\":[\"y\",\"x\"],\"data\":{\"x\":{\"__ndarray__\":\"7oOmvUCEgEBo7Zy/voLIQGaQDECcJwJBIFzbP7Xjl0BwOsrAa6lwQKB7XL2aTSRB+87RQHCjoD+wSwjB1WDlQBq5GUFWN0dAt+u1P+k7CEHAV2pAeQanwIBbrkATqehA/CEHQOj+yUBnrO1AXaSdQAfG1L/H0zu/L92lQB2SX0Ag+Mw/9+lbwT6PgT+mHos/McCuQRffnj8o93VAOlwkQOk16UCpq7Q+Z1UNQVFxxMBjnZRB32M3QJcEb0DIQ96/yeDwvAYrgkD537tAdGeLQPXGLkD/2j/Bp+2BwFxWHEEQfubA4JBrQUBuT8G+JRRBBtG8wQ9cIkEsEAdBZ0qMQFY47j+UOzjA3QOxwKp8KUB9a4vAWvuGQQpqBsBkkdRAg7lnQdzig8HFxTFALzizQGBIi0EEV3xASXk3wWD/d8AFOC5A0PokQG5ME0B1jbvBZq3hP7ubs7/xOLzB0SCcQNlDv0CdTpFAe7/cQML5Jj9FTMxAN0Wev1IR1EDdEIlBnaCMQQore0Bwy9DAVHYMQaLhbkANR4Q+qxLGQdKWhUBx2JlA9rxoQVfUKkBw0g1AvNjhvlN/KUBmU5/Ayo2dQC7tykA=\",\"dtype\":\"float32\",\"shape\":[113]},\"y\":{\"__ndarray__\":\"z0YCQXUBlEDflGlA45CQQMbH8j+WwSZA7JbTQFLjlkCJN8vACPzav64/ckDCBYNAhrANQR+hiEAYWuXBXtUSP3STIEHVLLQ/gogtQTNCxEC0we8/w4G7QLnE4kB8TM1AlbvrQLOyF71f+o0/v1UFwA6A5UCiEIzAxOY7QVTVsUCvSgZBYlbZwW6rOUHd2aM/dUBOP4WI+0DhlxdBCP3SQFl+W0Aqj8+9KQusv/JixEBZaEjBpppSQM0t20BkDnNAb96FQMAExkD7kto/hpJkQGY5lECITBJB9t2eQGknH0Fc+PLB5UOswCAA8cFJB9m/rbbWP1BZ6b+2VsRAmJIZQZBaDkEpRD3AxLjpQEjWNkEVZaBAos8xwe2C8kDkoQdB4C3dwCoFtEDXubZAaYUeQa3RLcEFQcS/IAkPQSaL3kBaJQtBDgsJvrJQuT+oEBtAmDtuQGvqrUBKM0tB/08uQSwTxEBRNPtAiPmdPx/Su0BiRTFAQnWkQLOaaL9CtHLA6znHQfgnK0G9Z+nBm1wmQbOtAEHNjkZAjFulPuNCzD9E2ABB+LWswAckHEEV7IG/rYuXQGGZKEClp9dA2jeaP6xnrj8=\",\"dtype\":\"float32\",\"shape\":[113]}}},\"id\":\"414148bc-b57a-4ab5-959a-5993a975484a\",\"type\":\"ColumnDataSource\"},{\"attributes\":{\"fill_alpha\":{\"value\":0.1},\"fill_color\":{\"value\":\"#1f77b4\"},\"line_alpha\":{\"value\":0.1},\"line_color\":{\"value\":\"#1f77b4\"},\"size\":{\"units\":\"screen\",\"value\":7},\"x\":{\"field\":\"x\"},\"y\":{\"field\":\"y\"}},\"id\":\"9c530343-24d6-4aed-9e7a-391a4b5cac28\",\"type\":\"Circle\"},{\"attributes\":{\"source\":{\"id\":\"df684cfc-07d7-4afc-91da-1441a2e65692\",\"type\":\"ColumnDataSource\"}},\"id\":\"4cee21bd-ddc1-48c7-bece-4993a3ac5659\",\"type\":\"CDSView\"},{\"attributes\":{\"label\":{\"value\":\"7\"},\"renderers\":[{\"id\":\"8f27d2f6-4a98-423c-bcf1-dcdf5131f46d\",\"type\":\"GlyphRenderer\"}]},\"id\":\"36d6c779-11cc-4207-9ca1-01d80ba1326a\",\"type\":\"LegendItem\"},{\"attributes\":{\"data_source\":{\"id\":\"86be2a96-9b8a-4dda-8afb-40dccbd63a8c\",\"type\":\"ColumnDataSource\"},\"glyph\":{\"id\":\"232b1224-337a-4bc5-a6fd-06bacdd938dc\",\"type\":\"Circle\"},\"hover_glyph\":null,\"muted_glyph\":null,\"nonselection_glyph\":{\"id\":\"280d1123-caf5-4931-b2f3-2d09e91d891d\",\"type\":\"Circle\"},\"selection_glyph\":null,\"view\":{\"id\":\"8741002b-a466-446b-ac44-19ea295c50eb\",\"type\":\"CDSView\"}},\"id\":\"3e2cc2b8-f83c-46a3-bd5a-2883bed9fd55\",\"type\":\"GlyphRenderer\"},{\"attributes\":{\"data_source\":{\"id\":\"e9c7ab5e-19de-4bde-887a-5fc0492248a9\",\"type\":\"ColumnDataSource\"},\"glyph\":{\"id\":\"d58a953a-1701-4904-826d-3a2a5cc6a7d4\",\"type\":\"Circle\"},\"hover_glyph\":null,\"muted_glyph\":null,\"nonselection_glyph\":{\"id\":\"8c4751f2-c183-4091-ad60-f4490a3dfb17\",\"type\":\"Circle\"},\"selection_glyph\":null,\"view\":{\"id\":\"f2ae685a-f809-408f-8c20-a7ffa26ad5a8\",\"type\":\"CDSView\"}},\"id\":\"5b9a3617-12a2-4f6c-b227-ed775a9e67fb\",\"type\":\"GlyphRenderer\"},{\"attributes\":{\"fill_alpha\":{\"value\":0.1},\"fill_color\":{\"value\":\"#1f77b4\"},\"line_alpha\":{\"value\":0.1},\"line_color\":{\"value\":\"#1f77b4\"},\"size\":{\"units\":\"screen\",\"value\":7},\"x\":{\"field\":\"x\"},\"y\":{\"field\":\"y\"}},\"id\":\"b0b2c69a-8b32-4397-abc5-9b465d2d9782\",\"type\":\"Circle\"},{\"attributes\":{\"fill_alpha\":{\"value\":0.4},\"fill_color\":{\"value\":\"yellow\"},\"line_alpha\":{\"value\":0.4},\"line_color\":{\"value\":\"yellow\"},\"size\":{\"units\":\"screen\",\"value\":7},\"x\":{\"field\":\"x\"},\"y\":{\"field\":\"y\"}},\"id\":\"232b1224-337a-4bc5-a6fd-06bacdd938dc\",\"type\":\"Circle\"},{\"attributes\":{\"items\":[{\"id\":\"2756ffc6-fbe5-44a9-b355-87a94b9eb999\",\"type\":\"LegendItem\"},{\"id\":\"03754e5b-b5c4-41df-8e10-87aade4a3585\",\"type\":\"LegendItem\"},{\"id\":\"6f4ac68d-5260-4b86-a7b2-aba641ba2ffa\",\"type\":\"LegendItem\"},{\"id\":\"17eba46b-9fcd-4dd0-b2a4-6dcf7c87f111\",\"type\":\"LegendItem\"},{\"id\":\"6a4a510e-0294-4fe6-91ba-b8e468564950\",\"type\":\"LegendItem\"},{\"id\":\"e099d83f-71b6-4778-a957-e70ffc420875\",\"type\":\"LegendItem\"},{\"id\":\"04f3c56e-247d-4916-a5ad-c3ef5a37d786\",\"type\":\"LegendItem\"},{\"id\":\"36d6c779-11cc-4207-9ca1-01d80ba1326a\",\"type\":\"LegendItem\"},{\"id\":\"a84c0db9-5af9-4183-9cdc-0104e2c90750\",\"type\":\"LegendItem\"},{\"id\":\"551a79f9-f348-4dde-9053-6314b0325d9f\",\"type\":\"LegendItem\"}],\"location\":\"bottom_right\",\"plot\":{\"id\":\"cbba5776-f798-4762-a800-9385150ca096\",\"subtype\":\"Figure\",\"type\":\"Plot\"}},\"id\":\"ca6e6391-6a99-493a-bb79-bd6812d90708\",\"type\":\"Legend\"},{\"attributes\":{\"source\":{\"id\":\"e9c7ab5e-19de-4bde-887a-5fc0492248a9\",\"type\":\"ColumnDataSource\"}},\"id\":\"f2ae685a-f809-408f-8c20-a7ffa26ad5a8\",\"type\":\"CDSView\"},{\"attributes\":{\"overlay\":{\"id\":\"66b3351d-2a7f-4cd7-863a-8e0c33cab5fb\",\"type\":\"BoxAnnotation\"}},\"id\":\"8b70944e-065f-4c21-82ad-7402f8a69205\",\"type\":\"BoxZoomTool\"},{\"attributes\":{},\"id\":\"31b3a095-7d41-42bc-8bef-a74378b59bfa\",\"type\":\"BasicTicker\"},{\"attributes\":{\"below\":[{\"id\":\"474a10b2-1008-405e-a9c9-d1f7fb333be8\",\"type\":\"LinearAxis\"}],\"left\":[{\"id\":\"823132fb-44a4-4fbb-a478-363037fb97b4\",\"type\":\"LinearAxis\"}],\"renderers\":[{\"id\":\"474a10b2-1008-405e-a9c9-d1f7fb333be8\",\"type\":\"LinearAxis\"},{\"id\":\"7094c677-d817-4a22-8142-3137126e1fbf\",\"type\":\"Grid\"},{\"id\":\"823132fb-44a4-4fbb-a478-363037fb97b4\",\"type\":\"LinearAxis\"},{\"id\":\"729e2011-f617-4eb2-a3f6-8cef218ae0c5\",\"type\":\"Grid\"},{\"id\":\"66b3351d-2a7f-4cd7-863a-8e0c33cab5fb\",\"type\":\"BoxAnnotation\"},{\"id\":\"ca6e6391-6a99-493a-bb79-bd6812d90708\",\"type\":\"Legend\"},{\"id\":\"097dea6c-cc09-49f4-b5e3-7423ee24e404\",\"type\":\"GlyphRenderer\"},{\"id\":\"5b9a3617-12a2-4f6c-b227-ed775a9e67fb\",\"type\":\"GlyphRenderer\"},{\"id\":\"9ad902eb-8c61-4f7a-a7a7-b81609b577f8\",\"type\":\"GlyphRenderer\"},{\"id\":\"2051f674-1e1c-421a-ac76-654789d4efad\",\"type\":\"GlyphRenderer\"},{\"id\":\"f8cc592f-d4a6-43d3-8b3b-875310f50c24\",\"type\":\"GlyphRenderer\"},{\"id\":\"3e2cc2b8-f83c-46a3-bd5a-2883bed9fd55\",\"type\":\"GlyphRenderer\"},{\"id\":\"dd0a80d3-c8ff-4e42-87b8-afa78433827a\",\"type\":\"GlyphRenderer\"},{\"id\":\"8f27d2f6-4a98-423c-bcf1-dcdf5131f46d\",\"type\":\"GlyphRenderer\"},{\"id\":\"144add40-8fdf-4ada-8d43-b207a50574ad\",\"type\":\"GlyphRenderer\"},{\"id\":\"cb60f466-9a82-401d-bf19-25aa2c494894\",\"type\":\"GlyphRenderer\"}],\"title\":{\"id\":\"ccebce3f-0257-40fa-8a8c-f65ce97b74d7\",\"type\":\"Title\"},\"toolbar\":{\"id\":\"a7d2a755-57bd-470a-beec-59feb6098305\",\"type\":\"Toolbar\"},\"x_range\":{\"id\":\"0b082680-007c-48ed-a325-caf4af294aeb\",\"type\":\"DataRange1d\"},\"x_scale\":{\"id\":\"fb37c16f-e7b2-408f-b608-1ba4272e1e2b\",\"type\":\"LinearScale\"},\"y_range\":{\"id\":\"584034ac-f63b-4310-b688-ffb8c6543a8a\",\"type\":\"DataRange1d\"},\"y_scale\":{\"id\":\"a573239d-f473-4f3e-be95-35deaa185d85\",\"type\":\"LinearScale\"}},\"id\":\"cbba5776-f798-4762-a800-9385150ca096\",\"subtype\":\"Figure\",\"type\":\"Plot\"},{\"attributes\":{\"plot\":null,\"text\":\"\"},\"id\":\"ccebce3f-0257-40fa-8a8c-f65ce97b74d7\",\"type\":\"Title\"},{\"attributes\":{},\"id\":\"b9d046b8-230c-405a-9633-b11dd9a69054\",\"type\":\"BasicTicker\"},{\"attributes\":{\"label\":{\"value\":\"9\"},\"renderers\":[{\"id\":\"cb60f466-9a82-401d-bf19-25aa2c494894\",\"type\":\"GlyphRenderer\"}]},\"id\":\"551a79f9-f348-4dde-9053-6314b0325d9f\",\"type\":\"LegendItem\"},{\"attributes\":{\"source\":{\"id\":\"414148bc-b57a-4ab5-959a-5993a975484a\",\"type\":\"ColumnDataSource\"}},\"id\":\"8b7c7ebb-85b1-487c-99cb-3adef50a6db8\",\"type\":\"CDSView\"},{\"attributes\":{\"label\":{\"value\":\"8\"},\"renderers\":[{\"id\":\"144add40-8fdf-4ada-8d43-b207a50574ad\",\"type\":\"GlyphRenderer\"}]},\"id\":\"a84c0db9-5af9-4183-9cdc-0104e2c90750\",\"type\":\"LegendItem\"},{\"attributes\":{},\"id\":\"8c587b3d-f2d9-4a52-8583-d16b71faf531\",\"type\":\"PanTool\"},{\"attributes\":{\"data_source\":{\"id\":\"85fc030f-6ba9-4e1c-af81-3230ef61ccfb\",\"type\":\"ColumnDataSource\"},\"glyph\":{\"id\":\"4b72433d-9cd7-4ee8-8d3f-f4b7996bdf01\",\"type\":\"Circle\"},\"hover_glyph\":null,\"muted_glyph\":null,\"nonselection_glyph\":{\"id\":\"9fe7f912-0bc1-438f-84c4-5bf33a73fe2a\",\"type\":\"Circle\"},\"selection_glyph\":null,\"view\":{\"id\":\"3cf0f772-178d-4a62-be78-c9958b4868c2\",\"type\":\"CDSView\"}},\"id\":\"8f27d2f6-4a98-423c-bcf1-dcdf5131f46d\",\"type\":\"GlyphRenderer\"},{\"attributes\":{\"fill_alpha\":{\"value\":0.1},\"fill_color\":{\"value\":\"#1f77b4\"},\"line_alpha\":{\"value\":0.1},\"line_color\":{\"value\":\"#1f77b4\"},\"size\":{\"units\":\"screen\",\"value\":7},\"x\":{\"field\":\"x\"},\"y\":{\"field\":\"y\"}},\"id\":\"157f8b3e-6a78-446c-92ad-2947bf9d5afc\",\"type\":\"Circle\"},{\"attributes\":{\"label\":{\"value\":\"1\"},\"renderers\":[{\"id\":\"5b9a3617-12a2-4f6c-b227-ed775a9e67fb\",\"type\":\"GlyphRenderer\"}]},\"id\":\"03754e5b-b5c4-41df-8e10-87aade4a3585\",\"type\":\"LegendItem\"},{\"attributes\":{\"fill_alpha\":{\"value\":0.1},\"fill_color\":{\"value\":\"#1f77b4\"},\"line_alpha\":{\"value\":0.1},\"line_color\":{\"value\":\"#1f77b4\"},\"size\":{\"units\":\"screen\",\"value\":7},\"x\":{\"field\":\"x\"},\"y\":{\"field\":\"y\"}},\"id\":\"0ad0ab16-c04d-46cb-83ba-c4a217593ca4\",\"type\":\"Circle\"},{\"attributes\":{},\"id\":\"80c7e550-f954-4441-aa9a-90467a56e930\",\"type\":\"BasicTickFormatter\"},{\"attributes\":{\"data_source\":{\"id\":\"e2c30aa9-829b-42ac-b4bc-28301b92a2b4\",\"type\":\"ColumnDataSource\"},\"glyph\":{\"id\":\"92a74c82-4854-4344-9fcb-2c39ddb6f028\",\"type\":\"Circle\"},\"hover_glyph\":null,\"muted_glyph\":null,\"nonselection_glyph\":{\"id\":\"0ad0ab16-c04d-46cb-83ba-c4a217593ca4\",\"type\":\"Circle\"},\"selection_glyph\":null,\"view\":{\"id\":\"724d194d-e237-473b-9c0f-bcaff81b0625\",\"type\":\"CDSView\"}},\"id\":\"097dea6c-cc09-49f4-b5e3-7423ee24e404\",\"type\":\"GlyphRenderer\"},{\"attributes\":{\"bottom_units\":\"screen\",\"fill_alpha\":{\"value\":0.5},\"fill_color\":{\"value\":\"lightgrey\"},\"left_units\":\"screen\",\"level\":\"overlay\",\"line_alpha\":{\"value\":1.0},\"line_color\":{\"value\":\"black\"},\"line_dash\":[4,4],\"line_width\":{\"value\":2},\"plot\":null,\"render_mode\":\"css\",\"right_units\":\"screen\",\"top_units\":\"screen\"},\"id\":\"66b3351d-2a7f-4cd7-863a-8e0c33cab5fb\",\"type\":\"BoxAnnotation\"},{\"attributes\":{\"data_source\":{\"id\":\"f22ffef9-e754-401e-bfeb-68f0538075ed\",\"type\":\"ColumnDataSource\"},\"glyph\":{\"id\":\"803cdd49-016b-42ac-8307-95e5413a5395\",\"type\":\"Circle\"},\"hover_glyph\":null,\"muted_glyph\":null,\"nonselection_glyph\":{\"id\":\"b0b2c69a-8b32-4397-abc5-9b465d2d9782\",\"type\":\"Circle\"},\"selection_glyph\":null,\"view\":{\"id\":\"4cb4e4fe-0d98-4062-9f65-e199b9b169a4\",\"type\":\"CDSView\"}},\"id\":\"f8cc592f-d4a6-43d3-8b3b-875310f50c24\",\"type\":\"GlyphRenderer\"},{\"attributes\":{\"data_source\":{\"id\":\"414148bc-b57a-4ab5-959a-5993a975484a\",\"type\":\"ColumnDataSource\"},\"glyph\":{\"id\":\"a66dd94a-e61e-4ead-89b7-c91340f23c91\",\"type\":\"Circle\"},\"hover_glyph\":null,\"muted_glyph\":null,\"nonselection_glyph\":{\"id\":\"9c530343-24d6-4aed-9e7a-391a4b5cac28\",\"type\":\"Circle\"},\"selection_glyph\":null,\"view\":{\"id\":\"8b7c7ebb-85b1-487c-99cb-3adef50a6db8\",\"type\":\"CDSView\"}},\"id\":\"144add40-8fdf-4ada-8d43-b207a50574ad\",\"type\":\"GlyphRenderer\"},{\"attributes\":{\"source\":{\"id\":\"86be2a96-9b8a-4dda-8afb-40dccbd63a8c\",\"type\":\"ColumnDataSource\"}},\"id\":\"8741002b-a466-446b-ac44-19ea295c50eb\",\"type\":\"CDSView\"},{\"attributes\":{},\"id\":\"994f1432-e455-422e-b31a-9e97c915d5fa\",\"type\":\"HelpTool\"},{\"attributes\":{},\"id\":\"fb37c16f-e7b2-408f-b608-1ba4272e1e2b\",\"type\":\"LinearScale\"},{\"attributes\":{\"callback\":null,\"column_names\":[\"y\",\"x\"],\"data\":{\"x\":{\"__ndarray__\":\"eMckQvAjLUIPSzxCKos0Qo5hTkK1yjpCpihBQg8/R0L0ijBCAEVQQnfkQkKvaVVCliysQbLgNkIRE01C+jBOQuHKL0I08lNCST8rQod+H0Kh3DdCJEtIQvTrUEKU0xBCsqI+QkK9HUIReilCYGc+QlzjREKOxCZCuFoRQglWR0JrX0ZCIQA7QvxhJ0K1+j1CbyckQkK2UkJCsEBCWzoaQrupVEKROEZCNK02QhXBOkJq5EdCr/k0Qh3CIEL4tUhC/FVKQhOLTkIa/DhCt7BPQqOtJkJngDdC3zMtQpmlPULvFCBCrqk6Qgg7N0Ku4SdCnCNJQthpGULz4ktCZsQ6QiByKkJBRkNC+ctBQpizQEJ1m01CWlE7QvtBSUKH/TJCzIU8QtamvUEjUzBClUYmQmsrQ0JYMjpCyzErQuVaNUItyC9C47JAQixyVULJcSpC0K8uQs/ELELWXzxCeXotQseMOkLF6kRC1poWQmpYMkKC/UVCNxdBQjltUkI=\",\"dtype\":\"float32\",\"shape\":[95]},\"y\":{\"__ndarray__\":\"hfCAP2KY+j43vFPAkHMUQFB0MEAFm4JAhmmVQBdH0EDV10hApV3tv4Y4jr8dz2BA58S2v2eHQECrqJS/gXbWPwKNz795HtK+KdRmQMmVlT8wpZzAMSZLv4Mh1T9tInDAerV3QPypuL+Fi7u/8C3UQFWGD79FOX9Ai3J+wC2uw0D4pS1An1QMPzcIgT/uIiPAlO4JPdvXokD6geo/YLiGv3ggsj8l+HtAYNKKPpMq1UBvpcg/GCoywIPdG8DVQcQ+oC8OwFEIi75qLJJA/IhEvsQ/BkC9DCrApmq9v297gL/XRw3AbZJCQJ0NB0DeW20+4MVgQAs8qT8JJu0+cRMsv8FWpj/ju6NAJXMKQMh7aEAmKmxAsOH9P/zixb/VNtY/Y/enQKamEcGHBi/APSN6QJmBHb8dupBAzoz/vyDWhT95+bRASq0oP67sUr65er8/I21nwKlXv0BBBwvA3aK7QPEeN8Bcrdo//ER5wCxCU0CW3llAdClmwKDtg0A=\",\"dtype\":\"float32\",\"shape\":[95]}}},\"id\":\"e2c30aa9-829b-42ac-b4bc-28301b92a2b4\",\"type\":\"ColumnDataSource\"},{\"attributes\":{\"fill_alpha\":{\"value\":0.1},\"fill_color\":{\"value\":\"#1f77b4\"},\"line_alpha\":{\"value\":0.1},\"line_color\":{\"value\":\"#1f77b4\"},\"size\":{\"units\":\"screen\",\"value\":7},\"x\":{\"field\":\"x\"},\"y\":{\"field\":\"y\"}},\"id\":\"8c4751f2-c183-4091-ad60-f4490a3dfb17\",\"type\":\"Circle\"},{\"attributes\":{\"formatter\":{\"id\":\"69a9ed8b-8a31-4665-865b-b5deba2a4265\",\"type\":\"BasicTickFormatter\"},\"plot\":{\"id\":\"cbba5776-f798-4762-a800-9385150ca096\",\"subtype\":\"Figure\",\"type\":\"Plot\"},\"ticker\":{\"id\":\"31b3a095-7d41-42bc-8bef-a74378b59bfa\",\"type\":\"BasicTicker\"}},\"id\":\"474a10b2-1008-405e-a9c9-d1f7fb333be8\",\"type\":\"LinearAxis\"},{\"attributes\":{\"fill_alpha\":{\"value\":0.1},\"fill_color\":{\"value\":\"#1f77b4\"},\"line_alpha\":{\"value\":0.1},\"line_color\":{\"value\":\"#1f77b4\"},\"size\":{\"units\":\"screen\",\"value\":7},\"x\":{\"field\":\"x\"},\"y\":{\"field\":\"y\"}},\"id\":\"b006044e-0d4e-47dc-bae0-68c1e9600cfb\",\"type\":\"Circle\"},{\"attributes\":{\"source\":{\"id\":\"e2c30aa9-829b-42ac-b4bc-28301b92a2b4\",\"type\":\"ColumnDataSource\"}},\"id\":\"724d194d-e237-473b-9c0f-bcaff81b0625\",\"type\":\"CDSView\"},{\"attributes\":{},\"id\":\"5953ad34-2826-4a7a-9bbb-b71721a54bb6\",\"type\":\"ResetTool\"},{\"attributes\":{\"source\":{\"id\":\"f22ffef9-e754-401e-bfeb-68f0538075ed\",\"type\":\"ColumnDataSource\"}},\"id\":\"4cb4e4fe-0d98-4062-9f65-e199b9b169a4\",\"type\":\"CDSView\"},{\"attributes\":{\"label\":{\"value\":\"3\"},\"renderers\":[{\"id\":\"2051f674-1e1c-421a-ac76-654789d4efad\",\"type\":\"GlyphRenderer\"}]},\"id\":\"17eba46b-9fcd-4dd0-b2a4-6dcf7c87f111\",\"type\":\"LegendItem\"},{\"attributes\":{\"callback\":null,\"column_names\":[\"y\",\"x\"],\"data\":{\"x\":{\"__ndarray__\":\"KThzwWp0gsFk79LBOZWLwXbMj8EMRtrB/vWDwVk8mcE21pfB5en1wQ15jcGMtanBazl8wS8fYcGBdWTB3+yAwVoLY8FiIK7BFyOXwbnoccGU+LnBCTSQwfxensHWh3LBKOxgwVEUiMHN2nHBWGqMwS2ImcHYpr/B3q7iwawqrMHho6/BlvZXwUHggMEBu6nB4vTOwQOfpcFIiILBTZ6LwUQjfcHn3j/BrO16weuliMEYrorBwiaEwVcvlsE3Q13BENSvwQbhssHPJlTBtPqVwc+GrMHN66XB+ImmweCVi8EfGaHBU0Cxwfg6XMGJo4/BUx54wXFSqMETdKPBx5hDwY0eXcHPZ2jB6UChwcCQosHkB6DBIqJ4wY5dpcFMnJLBT0Zjwbp/PMH7p6vBF7+IwRnNwcH9VobBE7dlwcp3acFwa6/BrjxSwY8/3cE5hILB5xq1wVMbnMHHhp3B0qSawRFEk8EaZ7LBH6iGwb+wD0IQYXXBciC2wbMn2cE=\",\"dtype\":\"float32\",\"shape\":[95]},\"y\":{\"__ndarray__\":\"V8oBQu7IuEHoOzlBE6v7QQ8+2kFPYPtAfeu4QXmtC0Lj4ANCX94tQYUkBEKyM9tB3hGzQYOQ0EFr4d9BNnjZQZGOxEEMTtpBTQz8QbQu/UHLCAJCWmKwQfbCw0E+Z+XBOVinQRHrq0GvJvRBi5rTQfSe9kGBUwBCodO5QInXiUGG+QlC31nRQTSAwkGRPgRCGZ1NQQM0jEFbKwNCUzH1QbGgx0GwQc5BC/S7QWxQ30FNEupBdWjXQQT7w0Gr0MlBDAzUQb5070FBifFBg1TpQaht5EGE7AVChA0KQgWx8UFYzwZCT4kDQgYRxkGXeqhBFfX6QRLy90FUxfJBvPCvQWcwrUERh+FB2o7QQZpv/EGRAQNCzoPoQZQ5CkL9df5Bv9TXQQIis0HFJMlBil0EQuwFbEA0c/hB8JUDQpO870HLnfdBMsO/QTqj1kCXfexBt8r5QSdb10G5ZuhBZP+wQXxzs0Fll/RBYsntQekYHcBAze1BLurhQR6r+kA=\",\"dtype\":\"float32\",\"shape\":[95]}}},\"id\":\"85fc030f-6ba9-4e1c-af81-3230ef61ccfb\",\"type\":\"ColumnDataSource\"},{\"attributes\":{\"fill_alpha\":{\"value\":0.1},\"fill_color\":{\"value\":\"#1f77b4\"},\"line_alpha\":{\"value\":0.1},\"line_color\":{\"value\":\"#1f77b4\"},\"size\":{\"units\":\"screen\",\"value\":7},\"x\":{\"field\":\"x\"},\"y\":{\"field\":\"y\"}},\"id\":\"f1cfcdc6-cd09-410f-8d23-e0a673d2d274\",\"type\":\"Circle\"},{\"attributes\":{\"label\":{\"value\":\"4\"},\"renderers\":[{\"id\":\"f8cc592f-d4a6-43d3-8b3b-875310f50c24\",\"type\":\"GlyphRenderer\"}]},\"id\":\"6a4a510e-0294-4fe6-91ba-b8e468564950\",\"type\":\"LegendItem\"},{\"attributes\":{\"callback\":null},\"id\":\"0b082680-007c-48ed-a325-caf4af294aeb\",\"type\":\"DataRange1d\"},{\"attributes\":{\"callback\":null,\"column_names\":[\"y\",\"x\"],\"data\":{\"x\":{\"__ndarray__\":\"f5N7wZHXUMHQVYjBxw2HwUxBKcEWe4TBxtcnwW9wZ8FvNUHBNY6WwQKdjsGFNonBpO93wTORWMEKXzjBXYRkwdAQqMFwzC/B2G+bwYXaMsHkox3BpFCPwR79RMFjOoHBXjmawXi0N8FGyOvAMQI0wQqBZcG51obBy3aRwXudD8EfRxrBmhuIwb6Hj8H8So3BBtCcwZkVi8Gg+4nBs60lwTfOEsGNYsnBYV1awZHT48Ae0UvBzUYRwWVkLsGLj5nBjhuTwcpYbcEiIgLBaWChwXupicHzdeDBGgo6wR1hAsHkjk3BOLGXwanKicH2ywTBaMyIwd0UWMG0NRzB08NJwT2MFcF03aPBZ1CDwYKwY8Hv2z7BbxCGwai6WcFrnu7A7NeUwblLEcHdVGvBkYVOwTpZccFSJwPBC4v2wO98m8GxoaHBTzWLwQ2ODMGckYPBHdWMwTU2LsHOhgnB7/Z8wadYOsElfSPB3+WcwaR9gsEYgCzBNAYGwQ1qQsHRwZvB42hHwYrCOcHUFOvBMlXxwKks0cCcbx9BfZupwVNkRsElj1HB3zyHwe8QNcE4DJ7BrUk5waI9Q8HrC1TBDIIPwTWvlcEaODzBwPAYwabygcFu/QjBbn3HwBjcfsEp8G/BU4hqwf0bEsHqalrBndCDwULWZ8E=\",\"dtype\":\"float32\",\"shape\":[125]},\"y\":{\"__ndarray__\":\"m8EgwuKWEsLWSyXCr+oXwv695sHQ3hDCCMgXwgilF8If3DXCNXHhwRgj0cFjuxDCrBj9wbueIcK6s/7BklcPwrGYxsFcTQ7CqPvfwQwSJcKTBBbCHCLgwT6ZGMKU0BnCbk/swQZv9cHKfgzC8/H2wbPMEMJ+Ud7B4L0KwiSv78FrsBPCpf8dwow53cGxURzCCQbHwcQb7cEXRBTCY6Ycwr1z7sFMVY5BsjEJwjNJCcKVVw7Cn14NwmdIFcIFocTBmerSwd2EF8IdaQfCynXdwZiS5MHa5VdB8fkpwidNCMJboCzCBwXqwSFDHMK2uhfCQ1b8wQkDJcK4tAfChxQVwp1d+MGb+9/BrjIpwgh1FMKU4STCzlX5weu0AsLkqRzCmlvBwcfxG8JpxC7CEogCwoKAEsImpQ3ColUXwot/28HMpe3BrZrXwWwNAMIg9xXC0E8BwkX3AcI0YRPCdrYNwolRDMIArw7CscjQwZLaE8I+tPzBz4/5wS3LA8LvwMDBPvALwn+KK8LmOmRBEZoRwrxSFMJtRQDAPCrowXUFK8LKyyfC1ubmwesdEsJ2QdfBJh8ewuqTHcLQIRHCUooowt/bysETLSTCi1fwwSOl9sHqDyXCoO4Vwo1KKMLFsSfCKQckwuxz/8EdfhjCx0oJwpl0KsI=\",\"dtype\":\"float32\",\"shape\":[125]}}},\"id\":\"e9c7ab5e-19de-4bde-887a-5fc0492248a9\",\"type\":\"ColumnDataSource\"},{\"attributes\":{\"plot\":{\"id\":\"cbba5776-f798-4762-a800-9385150ca096\",\"subtype\":\"Figure\",\"type\":\"Plot\"},\"ticker\":{\"id\":\"31b3a095-7d41-42bc-8bef-a74378b59bfa\",\"type\":\"BasicTicker\"}},\"id\":\"7094c677-d817-4a22-8142-3137126e1fbf\",\"type\":\"Grid\"},{\"attributes\":{\"data_source\":{\"id\":\"ff3c76d4-0b45-4a07-8b0c-92b65314bfdc\",\"type\":\"ColumnDataSource\"},\"glyph\":{\"id\":\"9c010adc-d389-4c57-b3cc-ee8f0530c57c\",\"type\":\"Circle\"},\"hover_glyph\":null,\"muted_glyph\":null,\"nonselection_glyph\":{\"id\":\"f1cfcdc6-cd09-410f-8d23-e0a673d2d274\",\"type\":\"Circle\"},\"selection_glyph\":null,\"view\":{\"id\":\"004061ab-b776-4c48-a851-6df6fde90db2\",\"type\":\"CDSView\"}},\"id\":\"dd0a80d3-c8ff-4e42-87b8-afa78433827a\",\"type\":\"GlyphRenderer\"},{\"attributes\":{},\"id\":\"954e3c8c-bfd5-491d-9028-811b5f20a0cf\",\"type\":\"WheelZoomTool\"}],\"root_ids\":[\"cbba5776-f798-4762-a800-9385150ca096\"]},\"title\":\"Bokeh Application\",\"version\":\"0.12.9\"}};\n",
       "    var render_items = [{\"docid\":\"227a5438-d080-4911-9351-6256e139475b\",\"elementid\":\"3f36d7ec-deba-4538-97f5-62ae72bf4974\",\"modelid\":\"cbba5776-f798-4762-a800-9385150ca096\"}];\n",
       "\n",
       "    root.Bokeh.embed.embed_items(docs_json, render_items);\n",
       "  }\n",
       "\n",
       "  if (root.Bokeh !== undefined) {\n",
       "    embed_document(root);\n",
       "  } else {\n",
       "    var attempts = 0;\n",
       "    var timer = setInterval(function(root) {\n",
       "      if (root.Bokeh !== undefined) {\n",
       "        embed_document(root);\n",
       "        clearInterval(timer);\n",
       "      }\n",
       "      attempts++;\n",
       "      if (attempts > 100) {\n",
       "        console.log(\"Bokeh: ERROR: Unable to embed document because BokehJS library is missing\")\n",
       "        clearInterval(timer);\n",
       "      }\n",
       "    }, 10, root)\n",
       "  }\n",
       "})(window);"
      ],
      "application/vnd.bokehjs_exec.v0+json": ""
     },
     "metadata": {
      "application/vnd.bokehjs_exec.v0+json": {
       "id": "cbba5776-f798-4762-a800-9385150ca096"
      }
     },
     "output_type": "display_data"
    }
   ],
   "source": [
    "p = figure(plot_width=600, plot_height=600)\n",
    "\n",
    "colors = [x for x in 'blue-green-red-cyan-magenta-yellow-black-purple-coral-lime'.split('-')]\n",
    "colors_map = colors_map[:1000]\n",
    "for cl in range(nb_classes):\n",
    "    indices = np.where(colors_map==cl)\n",
    "    p.circle(X_tsne[indices, 0].ravel(), X_tsne[indices, 1].ravel(), size=7, \n",
    "             color=colors[cl], alpha=0.4, legend=str(cl))\n",
    "\n",
    "# show the results\n",
    "p.legend.location = 'bottom_right'\n",
    "show(p)"
   ]
  },
  {
   "cell_type": "markdown",
   "metadata": {},
   "source": [
    "#### Note: We used `default` TSNE parameters. Better results can be achieved by tuning TSNE Hyper-parameters"
   ]
  },
  {
   "cell_type": "markdown",
   "metadata": {},
   "source": [
    "## Exercise 1: \n",
    "\n",
    "### Try with a different algorithm to create the manifold"
   ]
  },
  {
   "cell_type": "code",
   "execution_count": 47,
   "metadata": {
    "collapsed": true
   },
   "outputs": [],
   "source": [
    "from sklearn.manifold import MDS"
   ]
  },
  {
   "cell_type": "code",
   "execution_count": 48,
   "metadata": {
    "collapsed": true
   },
   "outputs": [],
   "source": [
    "## Your code here\n",
    "mds = MDS(n_components=2)\n",
    "X_mds = mds.fit_transform(hidden_features[:1000]) ## Reduced for computational issues"
   ]
  },
  {
   "cell_type": "code",
   "execution_count": 49,
   "metadata": {},
   "outputs": [
    {
     "data": {
      "text/html": [
       "\n",
       "<div class=\"bk-root\">\n",
       "    <div class=\"bk-plotdiv\" id=\"bfd02469-2b31-43eb-8264-6452d4091c5f\"></div>\n",
       "</div>"
      ]
     },
     "metadata": {},
     "output_type": "display_data"
    },
    {
     "data": {
      "application/javascript": [
       "(function(root) {\n",
       "  function embed_document(root) {\n",
       "    var docs_json = {\"023452ea-df1e-4928-a9fe-6ceedc077664\":{\"roots\":{\"references\":[{\"attributes\":{\"data_source\":{\"id\":\"8a017f3d-596e-4ea0-9aeb-4042bcbfb8b5\",\"type\":\"ColumnDataSource\"},\"glyph\":{\"id\":\"ddaebef3-e184-4a31-a847-ee1d698f1d00\",\"type\":\"Circle\"},\"hover_glyph\":null,\"muted_glyph\":null,\"nonselection_glyph\":{\"id\":\"183b4ab9-146f-46e9-9f7e-54c27911ca1f\",\"type\":\"Circle\"},\"selection_glyph\":null,\"view\":{\"id\":\"58b931a4-5421-4e17-99de-85a7b16c5103\",\"type\":\"CDSView\"}},\"id\":\"cd31b51f-017f-4d34-a5db-15a97830ff6f\",\"type\":\"GlyphRenderer\"},{\"attributes\":{\"callback\":null},\"id\":\"4e4ad247-c6d5-4155-9cfd-a49faf27d04d\",\"type\":\"DataRange1d\"},{\"attributes\":{\"callback\":null,\"column_names\":[\"y\",\"x\"],\"data\":{\"x\":{\"__ndarray__\":\"xVdxyVI6BcC3TOPp7fHxv9/MJPDsfP+/G2usS2899b8hKNZ2lUPsv2EKP3GPTLa/w34f+GJnnj8GeNN0E7zpPy7+PtRT//2/Eqx0TFjsF8A0sZu5amQBwGGN0GlT4gPAmjUFrKfoAMAvO6rEEm/qP01SOxDRauy/4L+fEZTB97+BVpeEmBjXvyJQcKCWDwXAHmjnfLoP6r+AiAj5AnsNwL/1K9e2XgbA/VHt2IqTB8DzofT8YQwVwDsFJXuXoeC/iaBQ2KjeBsBMxDR6S4sPwF309IFa69Q/hMHxTMUX6L/bNbDZMd0GwJlDH0/NahDAwWIf+hIwxD/2KgXeg4L0v/dZXfKXBg3A9vl6uDG+8L8Yfm04At7uv4OZwFx6kQTAT8dBEbyyBsBCemx2/wQOwNr74c3vT5O/+u8/mR9l+r95qrsAJwcTwFyjvY1CmxdA/ywjCdTz1L/NfjDB6yb7v3G32dbktta/qYt0yWwv7r8pAv17nCvvv03kAWrPk/C/ty14ifoPAUBUjy3QGX0KwAwLi/rbhMW/kgPCZSWG+b/31d45ut4GwILEWjIibfA/VNFT/PWu4r8BipnibaMdwNwZaHIKsQHA1ROqhLWWC8DqXHmSZw7bv62TmYxIq/S/Wo0kbSs4/7/Dri+J4pQQwIvUWkE+gPG/eV9zTlWh8L9MCzRvZI/8v5Wk2zD4AwPAWrGisTAtDMAWHDlRrBvRP6jiUakWDvY/P8OS2F/lDsDuC7ffD44NwMn8Tp7l9Pg/SEibu6t/AsDwQDGpwkX+v+KXUNq2NBBAb/TwnoAR2j+wAwyESTf3vzhm1fNAMwRAUoSafFMf978VsDW8xWTRP406IUANYOm/SV522Dhd/78jEAf/WckGwDyiLQI2U/W/LYKjHRsOzD+bjvuRK+kBwKQEAvd57Pu/6sA0VB3A+b94P2KKlPjXvwcw7OgvA++/o3tpZrAMnr92Ky7asE8MwPmcvR66kQ/AVYw8X+PCEkAr2B5LiQbyv9XFqm3ImdE/EEAA7vN/7r9Up3yb4Q3RP2JGyeOdzwDA\",\"dtype\":\"float64\",\"shape\":[99]},\"y\":{\"__ndarray__\":\"swexl/3eGcDfMG7D6D4ZwJM69+B9BRDA8P3cUndMJMC4LXXrg+AbwEDEkXD29QzABd6r3cN7HcBONEoINfUXwOULkK28NhvAqO8D6v48BsD3Br7w8qwQwJQS7xlLVyDAR8anblEZFsBILkvqFzsVwCMEJzTA3xbAB9nnSC6uF8CvP4skWKwRwPvT5bqzxxfAsuctero7EsAzQ7W0i/EewBdt1UVPdxrAfxMXcqlBIMCrj/l7EzAfwHa6JSTjxg3AYvqd7XSfDMCh7zmD6/0NwDSVrwp0bRPAgfkNqqONGsCismwO2wYZwGNxuy/dlBbAfrIF5wcMIMA9yAMeQHYQwP58SD707g7AIkyKnTOnFsDnStghmPQfwKDBDjUc6xvA6kmz9ivmIMBquyuMuNYbwIGC/udFghHAVnc3r+QHFsAPiIXNu+IhwNt0MgHlCB/AsrWManK7IMA26f8GmWkmwLdKxMCoTRTAMi9Zc6pvGMCZZTtDzk8MwJxbjeClaxPAEFsf0RFWEcBS84JJSE8IwA8IflBRABPAA5bOKfjJFsDtE4WqLCQSwKFW6KjpnxXALB8QW1BbIMAvY4o82IQSwHjnoY6E6xnAjneOGYDiE8Bgfp89fJodwFqNqkmU1g/A+vZtiGgjGsBBJAyqG74JwHiKqdjhSRbAamiLXhqaHsBvrU63gpMgwGqE/axSxCDA6KE7Ig14IMDn0PrKb1kXwGPnL/bm4xXA1V9FmE46HcDQWeoiigYWwBPvdWQz4xbAdn3qeFoBHsB9GoOsL4QQwBpbAJsqVBBA3l8RURLOA8AkC3FzeIMhwFtqXpifvgHArBdFQRNhIsDB+9P/oKAWwHF5+bjh+hzAiYJl44EJE8BUpuqT4x4jwCmvzx1aIR3AFCV/u6iYFsDYsyzrECMcwOiHA8GBKBbAlkyz0H87GsCvVKyLSYEZwFYFA8H8aSHAPpiYZPPBHMCq8LwX72gbwGq0SndtMCHA1ela1+z4EMAz56SbLB8JwDkaO8UJmBTANdVlC6c/D8BUBCRn4EYcwLxIC9Q3QBnA\",\"dtype\":\"float64\",\"shape\":[99]}}},\"id\":\"a540087e-51f3-48c3-b4bd-2a2df27eb0fa\",\"type\":\"ColumnDataSource\"},{\"attributes\":{\"source\":{\"id\":\"8a017f3d-596e-4ea0-9aeb-4042bcbfb8b5\",\"type\":\"ColumnDataSource\"}},\"id\":\"58b931a4-5421-4e17-99de-85a7b16c5103\",\"type\":\"CDSView\"},{\"attributes\":{\"callback\":null,\"column_names\":[\"y\",\"x\"],\"data\":{\"x\":{\"__ndarray__\":\"9rnlXEOIDEBva3eUwmIIQO9ct+DwqYI/HJUdW8nTD0Bs/y8VU5ACQP9YMr92ctG/CPIv9jHKBkCeIAvUx6TRvy6JdFIN/QdAAYTSsfXU8L9YgMRetZIFQOgYSbFdkP4/0rUdE3Gl9T897QXl+LgTQI37f5ye9xJAZcXCK52JDEDbvPWzEh0VQNr+G1WZqPk/ykmmeppPCEBycgRzd70RQACsDk2hLus/GWU0DrUREkBDyhCvY7gCQAexr2444QNAtaBDeVBgEUCcUOZpNOoEQLMip3wJAgtA6HZA8gUqAUAnfOfxgEUMQNar1GLL4vi/ACjLasf4EcAg+pkDaSzuP+IQKsUh+OQ/vRYMtnqBGEBANRK+dRYOQKF9hfIPpb2/LJB0yzEX5z91joOumCXJPxaGS0ogWhRA3OLeXZ9SG0CdeGjuVI4RQEDNSPSQYB9Aq6gjAKbEC0CZ5mAvIc8RQFmovMvGFRRAa79Fp+aZCEDdHdlCcJoHQMwT49c3bxVAe+38X+5N8T/DdftEfvnlPykOTb6yMh5Aqb7NHsSYCEAcjkS+jpn3P8Mab9gE6fw/coNW/+O2/T9BaNdDkHgWQJZqabi3pvo/qbs7r9nU9j8d0Db/AGcOQKMI2b0xQgZAb8YT4T8fEkCjOd+AJWn9P0dAZ1A4DgBAAr+kFYzN8j8plAz8FrAKQINcXNFJiw9AaPGMVzam/z+oDZsbsrX5P3qqlYSfEQJAqLuEf5UIEUB2iH4Km3X8P4BZ8eDa+g5AuKl05Ed/EED2pWFrr3kOQLCt5dyq+whAwJItyjCzBkD0INiYynAAwO5/vMQ1rhBAPkjVdv1JDkDSQvslpeASQMNLsVlivfI/2IWVJKK4DUB6HX/zgPUDwC7q2558FBJAFCXc31yc4D+su6grSTwLQAfH3g12ygxAyItJHQv1EkAYr1kBbhobQKWxriEbIvE/yTjroVLWEUAygGNmKXoWwA8NT92vRxZAlI01K1459j/uwR0hqCPUPw==\",\"dtype\":\"float64\",\"shape\":[95]},\"y\":{\"__ndarray__\":\"x8JXLm2mI8DxcIU+O50VwDWan2+HfBjAcF6H9aIoIMCNjxSFVrYcwJ6ij5vdRQ/Ax2V1TiCwEsDHtxsNTzohwEWvdHZsLx/AmepwsMoLGsCLwQBe9+AkwJd0QDsL4hvA9neg3sK/DcDdFamOiyQawE8VxgbjjiDAX0rogUBRHcAzEPPPc04XwPWuxfiMax/AxMEXfjqpIsCyORUDwEUkwGq6thtV9CHAQWTX2ntFFsCkWuIKhU0RwHIyQ67YpAnAibNaoqXiGMBFeOgZz84WwC47W5G6LyLAe6j4wKGcGMB2BbSoaqEkwEGfFoE/SSHAARamwSilHsAf0XnS1DYTwDOzbWcdnRTA0mwqMAIOHcAE8dxTMNIZwKz+DUSxICLAhROPamr6FsAJDQRWyMAVwPiY9MMcSiPAo3sWigfcIcBlQmkQ7RwdwCiuRnhwshTAMNBdH8ucFsDusqOs/GUbwPvme/6hNB3Ay/Z0FzSxGcCkiNi3BXYXwIOL8UXndRjALgwr81oxG8BAK6IHX5MhwPxczlw/WR/AX8/J2P3oHsDYx3eMJgodwK7/i+uyOSHA9FDPne5fHsBhw21scXsgwAVflePn4hrAxQdZIFdTI8Di/7mAoBoWwFgQExzYDBTAi+2orVbeIsBGnh2hdzEhwEM4CFdpvCPAWDeZGNJrE8AnjvCE+lsZwOgyZCcgcyDANNxp9o72FcAETlN/FZEkwIONh2R58x/AatmUBZJ4IMDyfcNz7csgwDobixLBPyXAOBp8PGcYHcDn2j4VGxYewG8OqRknkBfAze4bv9fKI8CIyYR00lEGwMmJKUDaFiHAwFZHlhbCIsD4jcjb/PghwAHbNfvJ6iDAZInV9ck1GMCjEmLtMy8QwEpyhC2vwSDAUsp7DbuMIMDSoFGx2FAawJ8HfzIEOiHAaYEPgretHsBiw8Y5wl8ZwOCRhs6AjR3Az6ebEyOsIcASwHf4Q/bbvzg1jgi/JCLAITfr7rq+IMB7e7N/4d0RwA==\",\"dtype\":\"float64\",\"shape\":[95]}}},\"id\":\"6b14c14e-0fc8-4d45-b1c4-ecc84ada8a47\",\"type\":\"ColumnDataSource\"},{\"attributes\":{\"data_source\":{\"id\":\"2bef4b05-55e5-4987-b2ae-7e3413700bce\",\"type\":\"ColumnDataSource\"},\"glyph\":{\"id\":\"74353291-903f-46b4-86ff-71e73971556a\",\"type\":\"Circle\"},\"hover_glyph\":null,\"muted_glyph\":null,\"nonselection_glyph\":{\"id\":\"f79bb109-b146-4fab-8c45-bbc15c1d4034\",\"type\":\"Circle\"},\"selection_glyph\":null,\"view\":{\"id\":\"8b637833-4645-4553-a312-1b2d40313298\",\"type\":\"CDSView\"}},\"id\":\"9326981d-29b1-4bb1-b42b-ebb44edc6e58\",\"type\":\"GlyphRenderer\"},{\"attributes\":{\"fill_alpha\":{\"value\":0.4},\"fill_color\":{\"value\":\"red\"},\"line_alpha\":{\"value\":0.4},\"line_color\":{\"value\":\"red\"},\"size\":{\"units\":\"screen\",\"value\":7},\"x\":{\"field\":\"x\"},\"y\":{\"field\":\"y\"}},\"id\":\"c5623539-540d-436e-8d86-795edb7a4b8a\",\"type\":\"Circle\"},{\"attributes\":{\"data_source\":{\"id\":\"343ce1e8-91dd-4ea9-bd68-5565ecf6d692\",\"type\":\"ColumnDataSource\"},\"glyph\":{\"id\":\"71e3170a-3985-48a7-a1bf-b0adcb36bce5\",\"type\":\"Circle\"},\"hover_glyph\":null,\"muted_glyph\":null,\"nonselection_glyph\":{\"id\":\"4e40790e-5aab-4f5d-885a-62d44fb4e810\",\"type\":\"Circle\"},\"selection_glyph\":null,\"view\":{\"id\":\"57c8a544-3c9d-4b48-86cd-32d429ddca5b\",\"type\":\"CDSView\"}},\"id\":\"b1689927-aa1d-4071-9cf6-c818e25e23b6\",\"type\":\"GlyphRenderer\"},{\"attributes\":{},\"id\":\"1677ce6c-8a79-4067-b54e-7490edaaee84\",\"type\":\"BasicTicker\"},{\"attributes\":{\"callback\":null,\"column_names\":[\"y\",\"x\"],\"data\":{\"x\":{\"__ndarray__\":\"vCy9L0dUDEBcxSRLRfwTQAYneZ5BSBtAAbUHIjEZB0A15LPzK5IJQHjaa0MVGyBA0AeEZm7oJEAuGlGdHRQDQKMO906oXSFAlb8yOA8zF0ABJHNo1hcGQPjd5jtvrSNAYLL+zwNvH0AD8WH7kbQRQN/I/tUp+xhAN/jb/ZP5FkCnkcNlhyMLwNVrvf1ekx9AOFVvSD6N/j8kO+FD8kMZQFRa13PMyPM/uIvdzjt4B0CEGLdcwt0gQDacYaTPMR5AWQ1BqQMEBUBPs64W02IZQNMxmx4w0BZA2npNYGvyIkB+n1dofOsaQNRec/5RKiBAqjyucsgADkD26CReQU0RQOKkKpTsCiJAPYzR649XGUAvAGGMPdYNQN5xNbx3yh9AZWXR0MlREECeOy6ympcRQP/2vj22MRZANrxkW85tDkBBY5w/efwdQHM8BWC7hRJA39MwINXhGUACUJITIoIaQETxrhwvLxpALArwZVW7BEDxzSRpa4omQMeS8yz8ihdAMCa9uPx4GEBPYCAm2vUAQFXArUADFvW/UWyUJQdIHEAv0tXLWAcaQNCyKgeYCB9Az40WMAO4HUD5beJ3LTkRQNENu+1JewtAYY06xyFvF0BZyNlPx/kPQKQ2TRVfWP0/StuiuxmF/D9lEmpn+z4BQOAnQleiIBBAnn8TxrJ+FEAOHudx/88bQMSwZa8yzSBAIgqlsIIzGUBfr+mVdLIgQHotsawVCwlAYhu0XpL8FUClt5DrH5UbQEW2y1Ni0CJASlS75VhDGkAxSW/r+hAEQMFNRXRViBtAAcy6vncUI0CPMkbX0yccQJkCT8+7lBNAAZUaPk63CkCF1HDfPookQD9YVOLhSCBA8hX2Vn4UIEBUf0gABfIZQIslrdAX7RJAKujcIUC0/T++mBTyDw4BQCVjOYwyZhdAlFMA5JrRDkDIj6Rlxn75P6UfH0Z7nglAps0Frwh2F0ABWNMyX936P/PVy+YuqBdA0PcpJzL/E0A8hxS8DtoUQKq6oGSsuRdA2bZaGev1EED9Bf2pe3MWQMsP4nN2kxFAUG/w33zEFkAmD6HINQ8NQOhDh5LU9gNA\",\"dtype\":\"float64\",\"shape\":[102]},\"y\":{\"__ndarray__\":\"M2SS6PEL+j8OEXFw3hUAQAbm1Wgp5Ok/kdK78PxK6r/E+a3L4VsGQMXQteqq/RdAI5glGhSJ5z9ayuWkVOfTPwwbmwm29wPAd4rogZyYDUAKXwIIFlYAQBMMij4tigNAUrfRsoVmAUCqklItNVv1P0L/Wv3SfBBAUW2EUmXCEkBR/1YErq/qv2bHni9B+QtA8UuVL04zBECNXn73KQEKQFgVLU4LEQlAcv1hK/jb/D9IplG2mnkbQKLXHFQjARZAiAMCTXKd/z9JikarJ/8ZQKR++4GG1xVAvjL4B7Y5FUDb/fNNH7wOQDbdHYpMdPU/ew1kmDDYB0CtmqmIkPwaQK0cRG7wLxNAxVL0td1oGEDCXl6jIv78P1gLoHnpMxJAKsL6RVb/EEBwhXaN8VAEQHkvgsDimwZAVHwpFhud+z83HHuSi0QKQAfUAM+pd/M/O6Zm5dQ1HkC3G5lZRVAUQJjZh1c/IPg/1SqIpsiwIUB6dMue5wAUQBv4kN88vxBASSrj6fzEB0A92Zxr6yzpP2ahbODLDPG/pvWvhknWE0BPskSlZoYMQBL767Bg2yBArgWYpTIjAkDY8ONwL7sUQLngy4xbGMq/Ymq5qfpOAUBNa4t15a7rP5EXMLlSO4S/7EUE3bdE57+vWZYVCpcOwBmCmn2trAlAmNHH56LIEEBJ2VaOIUcAQB/gly74q9o/0fiwsHGrBEAxCtcSpmECQGQjnpdGeBZAlb8s9P4GFkAm6T72Su0FQLOMfbLSXghADQwaI5dVCUCL3c+Solv0PyCCfwEJ9BNA2VeUnkAqB0Dt45CWunwBQFpQ2OylRwhAi6qCHwLX8z+kypJi/5sUQPX/aiA1cNk/NkbzOVQwGkD/58jvKSgQQJvQlEyfUBLAGvEc8Bhl2b8enz3jZ1Tyv7ZzOMuMtxJAMZ3H6lOCDUABdXV3Ov8VQKdXsdGpQgtAzv4fUWI+CkB1rSCL1+QQQIfuBnhnkBdAQV/fuNS+FkDelcoer2UQwNGS7DdLNO0/G0zPegTc1T8+KqJ/z/oAQBPGHLU+7QZAriPH1iJWBkDikMHjdg4BQFOma4ISpOM/\",\"dtype\":\"float64\",\"shape\":[102]}}},\"id\":\"71f3bbc3-5e11-444f-a9ed-e48f54426f45\",\"type\":\"ColumnDataSource\"},{\"attributes\":{\"below\":[{\"id\":\"30192e71-9662-42f9-9bd7-c016b2349f6f\",\"type\":\"LinearAxis\"}],\"left\":[{\"id\":\"3c9bcf05-6c09-497d-b443-3398c1281bbd\",\"type\":\"LinearAxis\"}],\"renderers\":[{\"id\":\"30192e71-9662-42f9-9bd7-c016b2349f6f\",\"type\":\"LinearAxis\"},{\"id\":\"2af52106-7048-4151-804c-5b270cee501a\",\"type\":\"Grid\"},{\"id\":\"3c9bcf05-6c09-497d-b443-3398c1281bbd\",\"type\":\"LinearAxis\"},{\"id\":\"a70b89ec-9398-487a-b4ad-0c083d37d431\",\"type\":\"Grid\"},{\"id\":\"d6e4c23d-cdea-42be-803c-e0885c77e9f2\",\"type\":\"BoxAnnotation\"},{\"id\":\"d8bd07d4-74b9-4bbb-b515-c5f0c104c83c\",\"type\":\"Legend\"},{\"id\":\"fa6e6e76-124c-462f-a1a5-aacca58e9972\",\"type\":\"GlyphRenderer\"},{\"id\":\"90541bd6-6b80-452a-ad2e-e5204c4f3da5\",\"type\":\"GlyphRenderer\"},{\"id\":\"405bbce5-f854-4725-bd3e-016ba026b242\",\"type\":\"GlyphRenderer\"},{\"id\":\"19fff30c-f980-4794-8f0b-17a7840e2d68\",\"type\":\"GlyphRenderer\"},{\"id\":\"9326981d-29b1-4bb1-b42b-ebb44edc6e58\",\"type\":\"GlyphRenderer\"},{\"id\":\"b1689927-aa1d-4071-9cf6-c818e25e23b6\",\"type\":\"GlyphRenderer\"},{\"id\":\"4f6091be-f975-4fb4-9e5e-283f164da66c\",\"type\":\"GlyphRenderer\"},{\"id\":\"bf2e108d-e24d-45e0-9a9d-d7e231465bfd\",\"type\":\"GlyphRenderer\"},{\"id\":\"cd31b51f-017f-4d34-a5db-15a97830ff6f\",\"type\":\"GlyphRenderer\"},{\"id\":\"88ef2418-dd9d-4017-850a-374afa5c7bf1\",\"type\":\"GlyphRenderer\"}],\"title\":{\"id\":\"9247bd10-4fbd-4662-bb9f-0d723e7cf136\",\"type\":\"Title\"},\"toolbar\":{\"id\":\"6fbb7ff1-8a7f-48e5-bfee-9bef529ee0c7\",\"type\":\"Toolbar\"},\"x_range\":{\"id\":\"4e4ad247-c6d5-4155-9cfd-a49faf27d04d\",\"type\":\"DataRange1d\"},\"x_scale\":{\"id\":\"5d87cb47-001f-4af4-a035-8a55d1098c24\",\"type\":\"LinearScale\"},\"y_range\":{\"id\":\"6ff6da80-ea3a-4d96-80b8-6d2c904225cf\",\"type\":\"DataRange1d\"},\"y_scale\":{\"id\":\"b704e287-9c12-42ad-b587-854293e949cf\",\"type\":\"LinearScale\"}},\"id\":\"ced7aa4d-4e59-450d-a92c-c9525df24aaf\",\"subtype\":\"Figure\",\"type\":\"Plot\"},{\"attributes\":{\"fill_alpha\":{\"value\":0.1},\"fill_color\":{\"value\":\"#1f77b4\"},\"line_alpha\":{\"value\":0.1},\"line_color\":{\"value\":\"#1f77b4\"},\"size\":{\"units\":\"screen\",\"value\":7},\"x\":{\"field\":\"x\"},\"y\":{\"field\":\"y\"}},\"id\":\"5417adf1-157c-4a5b-bada-be04e2d5022a\",\"type\":\"Circle\"},{\"attributes\":{\"callback\":null,\"column_names\":[\"y\",\"x\"],\"data\":{\"x\":{\"__ndarray__\":\"tu+DqjKcH0CJh4xjzukQQD809R+xRNm/PjTDh7lExr/IG1GyGGIJQI5QGJQEVxZAdEnwnXXSDEDZrYoE4TECQDcnIe3CZA9ACUOGA/moEkDrRFga/VTlP4l2/J03p/o/jnIcaZInA0AMBCekZsngPz05rtGU2RNARcXv+JDn5r8udN+gmujuv0dR3hY44/4/mqpYrJGmB0DnXJKGMCAUQDX6yJNVYfM/JZGZsk+u8j8oCvgsd737Py048cx9swlA18NItG5LGkDpx28rzI/QPwwGKh32WdK/dDDl6eou479BKvF/e1zzv6LvcshzNhdAGMay2C48I8B5sSavEC0NQEof2+AnZBJA6tgKMy97C0CdlkhKIpgAQOwSFcBClRNAe0L+vGND/L/Hp7gg3AgTQMYZETGtvA5AQAt6WZXwFUAFa0AAxiz7PzvUForb/xlADTPVvYnH0L8AS/Ng7bOgPwqEgSSj4Pi/MFBYPcsu4r+xBdhoz3sHQBaVLYguCwHAir6gp+OX+L8DGM+cpqQXQDDiV2HlLQdANcLalQ1MEkC3vJ+l0HX9PzwaT7oD8hzA5i90pDUx7j+CH2mBND/mv24REN+klQ5AHk1xVa7hAsDArSz0lhgEQPJH8uQesdI/AgMKMTRvCcDbmPiGud/yP37BJmAUeANA0+HNwtMsCkBxaS+vTGISQOnOzj7cZR5Ap3gQLUFJ+j92c0Yoon8CQHsDzi9ehtM/Z2sZwfs9sL+TEZy1JXQIwJa4qS/WOxVAbQo/M1mtEsD8kTzSwT/qP6z1y6Nm/QJAOE/No++k+L86DZIH/FsAwBg0Atf5fQBASnZ2QpSS4r80gNg73yUHQK5oH7BgZhZA4MEw31OmCEBSu3cDu+kHQAQI3xewEvG/FIxXC9nW8j/u+VlT84fwv0u2XMxzje8/v4+ZdFiYGMDjQomRTN73vyR2K0x7fQ5AN5rZIM9al7+HCBGsyEvGvxUPFRd6NANArbyZCiZE+r/KPaE5IuwFwKxySVlyZA/Ahv4s6yiEFkBB3NGPlmkKQGNoZcVGsgVAXwNL1y1DB0DfA015KCgRQIfUyjFNyfu/FcnZ2SSzF8Dt1C6zqtfbP9TE3VpEHAdAmK+OAlweA8Drep6bXdP5P93Gv+kKz/4/KtkjNaTc2T9v5YVMrff8P/MvR/IjpQlAXUKfrRCp9D945SEYzdH0Pw==\",\"dtype\":\"float64\",\"shape\":[113]},\"y\":{\"__ndarray__\":\"TtUp4adg9D91Ealc34wDQMamSatMwuQ/RVkGTI77DEDzw60oiunuPwJGws7x6+0/cJuwzJtNEED76Ijh7JgEQM9YXP7qrOe/EzKPvuRSFUANuj8+h2AMQARuR9+GyxRAXD5pOgJAEUBEvx3gt0AFQAJ539Orkc6/IbhFL0Vyyb83al79jNMRQEmcxYVfqPa/N+7c0yesKEC/rJkdNZQbQFzg4LJVX8C/6iaCxZl2DsADOfHVOkMDQAum2h8fVhlA0sMmeZ9LFkCaQvLs/ZsAQLRRcMKxcO6/04OvnF8OEUBMC8fXiMwWQIGXM2HDzgRAgDPaJK1y879SE224MtANQPrcAG/AdRhAVXr615U+AMDFCrljo1MkQI6hvBB6LfE/DveGf30oGUDPV8ckrA0eQFQgtCggUxpAs3vYzgu5DEDbojEFbc/YP1T2X8v3V/A/fyq5xPtb7T/OCp6mwRQMwHmlJ51BB/Q/DJjEk6Bk9z9caOxjfBoQQEzZ7jz5U8g/CBCt2iIQAUCmd9jorOv6P9HvEsRvkts/LzS48QqxDEBABJHCBAAHQNi+K/aiOAvA/ode8lzh8b/C13UwltALQG+RyAKni8o/VHwSayL07D9T+1T5tM/pvypJ8wCeKuA/7W/TVk+s+79u7jDbb0fevxOpkuETkhtAJQ0J6fVrIECK1Rv3CXkeQPtudRfMytI/FJArFjjbA8BDICiAUhklQKp+xQDvRgDAuz/EovpmAUCkeY1JZrQUwCtwzxL9pghA22jZb0fk879BLy7ofwn3v8kPVn5cNA1Axv85IxhuE0Dy57MMQ3f4P4uRmlInhAxAmmhSHKVvAsAozAK790QRwHu+2VvFQBxAy8geduAlEEDgrK5geaDmP28iPHCCjPq/sJHwwVcpA0BS1H6HeyX6P9FT8z6GsQ3Ayp3IWIM9EEAZwTwARZr5P62mwT9/fBVAhjNr9xlk6D9CAIZ57bkRQDB3sdnX1tG/Y9zFedUM8z9X2W/GcZQAQN+AMDFlTug/OaZ0gyQ3GUA4E1017YkhQPKH3L6sFvE/Bs7deiyfHUAySDKzslQYQPRZsUhJZ/o//hSE3kZuFUCgPntHa8rQPzihArNUIBFAgB8Q1lufsL8b77A0opkYQMHSCqbH5CBARkk/O2zBAUBG8I4Ydt72P/WD97DymQ3AtBVuww+FzD/A1hg4KzH+Pw==\",\"dtype\":\"float64\",\"shape\":[113]}}},\"id\":\"8a017f3d-596e-4ea0-9aeb-4042bcbfb8b5\",\"type\":\"ColumnDataSource\"},{\"attributes\":{\"fill_alpha\":{\"value\":0.4},\"fill_color\":{\"value\":\"coral\"},\"line_alpha\":{\"value\":0.4},\"line_color\":{\"value\":\"coral\"},\"size\":{\"units\":\"screen\",\"value\":7},\"x\":{\"field\":\"x\"},\"y\":{\"field\":\"y\"}},\"id\":\"ddaebef3-e184-4a31-a847-ee1d698f1d00\",\"type\":\"Circle\"},{\"attributes\":{\"source\":{\"id\":\"c19f0f25-40fd-470f-a5da-9f7099278009\",\"type\":\"ColumnDataSource\"}},\"id\":\"413655a8-a17e-4f52-90a2-db92e519077c\",\"type\":\"CDSView\"},{\"attributes\":{\"callback\":null,\"column_names\":[\"y\",\"x\"],\"data\":{\"x\":{\"__ndarray__\":\"zXwmT2EKGMB41tj6arMRwMhCVJFETRLA3UXuv9Py879QFo90wJodwDCl9zLJBBTAo56wbwiPHMBA+YLYDv0SwHj2CDO16BPAPC8gRA2uGsDIsNIiMRAOwB3eWF4MC/6/cqXCGI9KEcD/ZLzql8b2v4edOJ6cyhjA9riUcVovH8Cec4ZwcAIbwAKhYuXj1ATAb/8HWSGfFcANxcBdhaYZwKVvF9TTARHACzJETmuUGsAo6wvRZBkiwMmS1tlJhRHASVYr655EIMCrkeiWv8UZwOSnssxXzt8/53C2oaJYGcDXq9A4t9IPwCWHryB9GgXANB3OHjH1E8DIVnqJJjoWwNnmn1nDoR3A9Tr3eODWEcCHYqSSCW8YwIeW/rp2NBDA7feBdbuYEsD5jlP7yvgbwGpsHaiTHBXAqmLz+pP8FMD+dZaSQ3IRwPDhqRmzcBfADqNlgaxVFsAGJohry8f8vyncdpTjbhPAlwu49x4KEsCiAaYlTx8ZwEyoJ3iQnhnAJXqbWJRZ/D+SbhWpSpsXwHUrM8/LURnAM3S7uAceFsC6LYy+DqAbwFUNP+mNWR/AJHMLxk7GGsBsxuqd3/MLwBdslyuEWBHAGEtQh2FCHcDPFLMKmxgUwCWRpwQktxDAcvIMxWVREsBc7BRKfTbVP5mXtRWCSxLAjVBO1Az0EsAVk0qOpqQTwBEWqb/trRbAUcVk1Pj/HcDiGACLJvYOwFqLHXJHnBLA246hWYjFG8CrNLW/uMAOwPJYQkbXGBXAc5lK02lwE8Da6W3fx88YwLUDGXkHMx7AhSEyj2i9A8DWqr/o5IEfwJv0K8iLEgvAFPl/BpexGcClWMq0T/4FwCR/KDJSjwLAxY7In82cEcCQ25FQt0YJwHKXARJntRPAIU+hwCqiFsAnIAAIQQkVwMqAId1iABfAeQ2x3C7TE8BkfeZSS6kWwEFSb4ZOex3Ae5ZqKjaAFMALnqH35egNwBfu4U9YzgHA5Xig2xw4IsD+r6rHKGEawGMU1OYFtfm/IbmA/70MF8CyKxVqoK0JwM3bJy5/+hvA\",\"dtype\":\"float64\",\"shape\":[99]},\"y\":{\"__ndarray__\":\"IahL/3EBFcDm5+/sN3ELwGycfxnJZRrAj01TwB+yDcDA4+gsOFsQwCvsSy9cCQrAEH39h8guE8A2u1kI5icNwITIpA1CtxvAH3ZSbMouFMBcMYzEWwcZQMWUclXSsQLApGHBdYZwE8C1fDlCff8KwCvWEELawxXAOFH6FsnIEcCnQLrW954TwEt/QenOFxXANc9uTiNqHcB3V7tKagwSwD3N5UyrsxPA2+8x/nQsDsALfErNnZoYwD5AdjSeyAHAh17xwfvJGsB6a/ePoNcZwJmAtyqK+Q/AUYQhuOiEHsAmyPnRCAUawAkvPWOosw7A3XLvbVbfD8DWe7rn9eIWwCJoF32bEhfAa4xRQYhID8CEwEtHCv0XwDH1Vr+3MA3A8RNFAMj9CcBQBDRaqkIdwARMB1Cv8xbAAuVZfc9OGsAJe62356gRwAT48+b/3hLAUYOCHag8E8CqXjb+dgEZwKL+MrtghR7A4rXku5xgCcD1WJIpEnMRwKuK7La51xjA0ltpqTWDCsAzuJ7BHW0WwLlH3jd+yBDAnztIPhbsEcBxhv5ze00MwCoHrdHr1xDA3SAahHjZ/L8b+p47bj8awDuzoD2A9xnAweNMFkeiDMCX/01Vx1IIwMeT5MCA3wfAMyFDsmBlEsD3OSHM15oHwKQfAHgEMBDAs036pxFUEcCOuRlkAfAFwEZWmgB6RxPAmo0oRp+nBsCpDWLUj0QEwMTHu5VQyBLA+l0dpe71FMBHXnQ10LcPwByrpXBzQyDA2neQQGhxGMAo4/nHxTkhwEkQTYHlFB7Avw9JZsicFMB1Kii1EfMdwD0iSEyCZg7ASSNUyfSdC8DtMuVpnDsUwDt074YFLg/A3KQz7kS3EMCE84hTU5gKwDfpI4a8SBXAEh8E8netDcABCEB6FXkRwGYygqWYeRbANpegOKJWE8BNVuX9c+MYwKvJGwnXChTAnfQ8pvwrEsB5XeBkSg8YwK1Kbw1fqRXAjgzg/yeEGsAvVMQtW8QXwM4G+4kkdQfAs6XzpyR8EcBgSshXQLESwNHIB72aOw/A\",\"dtype\":\"float64\",\"shape\":[99]}}},\"id\":\"2bef4b05-55e5-4987-b2ae-7e3413700bce\",\"type\":\"ColumnDataSource\"},{\"attributes\":{\"source\":{\"id\":\"a540087e-51f3-48c3-b4bd-2a2df27eb0fa\",\"type\":\"ColumnDataSource\"}},\"id\":\"a69b9dc9-afd0-4841-8025-b49bc65fb133\",\"type\":\"CDSView\"},{\"attributes\":{\"active_drag\":\"auto\",\"active_inspect\":\"auto\",\"active_scroll\":\"auto\",\"active_tap\":\"auto\",\"tools\":[{\"id\":\"71550d1e-82cf-49a2-9520-13965a379a6f\",\"type\":\"PanTool\"},{\"id\":\"ca12a5ad-2e18-4696-a725-73c2616c950b\",\"type\":\"WheelZoomTool\"},{\"id\":\"498585f6-b782-4787-8377-5a22a50700f7\",\"type\":\"BoxZoomTool\"},{\"id\":\"0ea298f9-ccb4-4e95-a3e8-b2b20aba25b9\",\"type\":\"SaveTool\"},{\"id\":\"c163021f-93e0-46da-bdbd-b4a34ebc5223\",\"type\":\"ResetTool\"},{\"id\":\"21bc70ff-4cd8-4289-bf01-484d4d00e0b7\",\"type\":\"HelpTool\"}]},\"id\":\"6fbb7ff1-8a7f-48e5-bfee-9bef529ee0c7\",\"type\":\"Toolbar\"},{\"attributes\":{},\"id\":\"0ea298f9-ccb4-4e95-a3e8-b2b20aba25b9\",\"type\":\"SaveTool\"},{\"attributes\":{\"plot\":{\"id\":\"ced7aa4d-4e59-450d-a92c-c9525df24aaf\",\"subtype\":\"Figure\",\"type\":\"Plot\"},\"ticker\":{\"id\":\"1677ce6c-8a79-4067-b54e-7490edaaee84\",\"type\":\"BasicTicker\"}},\"id\":\"2af52106-7048-4151-804c-5b270cee501a\",\"type\":\"Grid\"},{\"attributes\":{\"fill_alpha\":{\"value\":0.1},\"fill_color\":{\"value\":\"#1f77b4\"},\"line_alpha\":{\"value\":0.1},\"line_color\":{\"value\":\"#1f77b4\"},\"size\":{\"units\":\"screen\",\"value\":7},\"x\":{\"field\":\"x\"},\"y\":{\"field\":\"y\"}},\"id\":\"4e40790e-5aab-4f5d-885a-62d44fb4e810\",\"type\":\"Circle\"},{\"attributes\":{\"label\":{\"value\":\"8\"},\"renderers\":[{\"id\":\"cd31b51f-017f-4d34-a5db-15a97830ff6f\",\"type\":\"GlyphRenderer\"}]},\"id\":\"a9a07f40-46fc-4e20-9cf4-e392fa8b1576\",\"type\":\"LegendItem\"},{\"attributes\":{\"source\":{\"id\":\"6b14c14e-0fc8-4d45-b1c4-ecc84ada8a47\",\"type\":\"ColumnDataSource\"}},\"id\":\"bdc42e15-2410-43fc-8534-cd04360b6be6\",\"type\":\"CDSView\"},{\"attributes\":{\"label\":{\"value\":\"2\"},\"renderers\":[{\"id\":\"405bbce5-f854-4725-bd3e-016ba026b242\",\"type\":\"GlyphRenderer\"}]},\"id\":\"bce8222d-047c-43ee-a14d-f7b256fdebf4\",\"type\":\"LegendItem\"},{\"attributes\":{\"fill_alpha\":{\"value\":0.4},\"fill_color\":{\"value\":\"lime\"},\"line_alpha\":{\"value\":0.4},\"line_color\":{\"value\":\"lime\"},\"size\":{\"units\":\"screen\",\"value\":7},\"x\":{\"field\":\"x\"},\"y\":{\"field\":\"y\"}},\"id\":\"b9a954ea-d368-4d75-971a-165cc844e1a7\",\"type\":\"Circle\"},{\"attributes\":{\"data_source\":{\"id\":\"71f3bbc3-5e11-444f-a9ed-e48f54426f45\",\"type\":\"ColumnDataSource\"},\"glyph\":{\"id\":\"bb95880d-69ff-4260-9300-94cb38960831\",\"type\":\"Circle\"},\"hover_glyph\":null,\"muted_glyph\":null,\"nonselection_glyph\":{\"id\":\"a3a3c33b-8577-4a2f-8723-a692ecc1f64c\",\"type\":\"Circle\"},\"selection_glyph\":null,\"view\":{\"id\":\"02d2b4da-d1d5-4516-960a-dc5b231d2549\",\"type\":\"CDSView\"}},\"id\":\"19fff30c-f980-4794-8f0b-17a7840e2d68\",\"type\":\"GlyphRenderer\"},{\"attributes\":{\"fill_alpha\":{\"value\":0.1},\"fill_color\":{\"value\":\"#1f77b4\"},\"line_alpha\":{\"value\":0.1},\"line_color\":{\"value\":\"#1f77b4\"},\"size\":{\"units\":\"screen\",\"value\":7},\"x\":{\"field\":\"x\"},\"y\":{\"field\":\"y\"}},\"id\":\"183b4ab9-146f-46e9-9f7e-54c27911ca1f\",\"type\":\"Circle\"},{\"attributes\":{},\"id\":\"b704e287-9c12-42ad-b587-854293e949cf\",\"type\":\"LinearScale\"},{\"attributes\":{},\"id\":\"71550d1e-82cf-49a2-9520-13965a379a6f\",\"type\":\"PanTool\"},{\"attributes\":{\"source\":{\"id\":\"3cde776f-ded3-4637-a1c0-1f5c966ffd0a\",\"type\":\"ColumnDataSource\"}},\"id\":\"a6c5ceaa-403f-49ea-b38e-81fac3d17db5\",\"type\":\"CDSView\"},{\"attributes\":{\"label\":{\"value\":\"0\"},\"renderers\":[{\"id\":\"fa6e6e76-124c-462f-a1a5-aacca58e9972\",\"type\":\"GlyphRenderer\"}]},\"id\":\"3b922191-413f-4140-8a2c-8d3c8144248a\",\"type\":\"LegendItem\"},{\"attributes\":{\"fill_alpha\":{\"value\":0.4},\"fill_color\":{\"value\":\"yellow\"},\"line_alpha\":{\"value\":0.4},\"line_color\":{\"value\":\"yellow\"},\"size\":{\"units\":\"screen\",\"value\":7},\"x\":{\"field\":\"x\"},\"y\":{\"field\":\"y\"}},\"id\":\"71e3170a-3985-48a7-a1bf-b0adcb36bce5\",\"type\":\"Circle\"},{\"attributes\":{},\"id\":\"21bc70ff-4cd8-4289-bf01-484d4d00e0b7\",\"type\":\"HelpTool\"},{\"attributes\":{\"data_source\":{\"id\":\"3cde776f-ded3-4637-a1c0-1f5c966ffd0a\",\"type\":\"ColumnDataSource\"},\"glyph\":{\"id\":\"d1858b77-8a08-4073-8299-5624ac1f7e28\",\"type\":\"Circle\"},\"hover_glyph\":null,\"muted_glyph\":null,\"nonselection_glyph\":{\"id\":\"69cf133a-3ced-4ce1-912d-de45f64ba655\",\"type\":\"Circle\"},\"selection_glyph\":null,\"view\":{\"id\":\"a6c5ceaa-403f-49ea-b38e-81fac3d17db5\",\"type\":\"CDSView\"}},\"id\":\"90541bd6-6b80-452a-ad2e-e5204c4f3da5\",\"type\":\"GlyphRenderer\"},{\"attributes\":{\"label\":{\"value\":\"7\"},\"renderers\":[{\"id\":\"bf2e108d-e24d-45e0-9a9d-d7e231465bfd\",\"type\":\"GlyphRenderer\"}]},\"id\":\"29b5d77c-3f19-4da0-bab2-ff15f0d6b4c8\",\"type\":\"LegendItem\"},{\"attributes\":{\"overlay\":{\"id\":\"d6e4c23d-cdea-42be-803c-e0885c77e9f2\",\"type\":\"BoxAnnotation\"}},\"id\":\"498585f6-b782-4787-8377-5a22a50700f7\",\"type\":\"BoxZoomTool\"},{\"attributes\":{\"source\":{\"id\":\"71f3bbc3-5e11-444f-a9ed-e48f54426f45\",\"type\":\"ColumnDataSource\"}},\"id\":\"02d2b4da-d1d5-4516-960a-dc5b231d2549\",\"type\":\"CDSView\"},{\"attributes\":{},\"id\":\"48a247cd-4553-4532-bdd0-aef36123e60d\",\"type\":\"BasicTickFormatter\"},{\"attributes\":{\"items\":[{\"id\":\"3b922191-413f-4140-8a2c-8d3c8144248a\",\"type\":\"LegendItem\"},{\"id\":\"d90f96b7-2cf0-45cb-806f-e99627b8bc1c\",\"type\":\"LegendItem\"},{\"id\":\"bce8222d-047c-43ee-a14d-f7b256fdebf4\",\"type\":\"LegendItem\"},{\"id\":\"ae781bdf-0687-4c30-a5c2-be7e9e56d9ee\",\"type\":\"LegendItem\"},{\"id\":\"dfda839c-5341-4cef-8771-479ea7351056\",\"type\":\"LegendItem\"},{\"id\":\"bd094ca3-af27-4f16-9710-657f0cd099ab\",\"type\":\"LegendItem\"},{\"id\":\"052c5c9b-5491-427b-b4f3-4cfdc4723b18\",\"type\":\"LegendItem\"},{\"id\":\"29b5d77c-3f19-4da0-bab2-ff15f0d6b4c8\",\"type\":\"LegendItem\"},{\"id\":\"a9a07f40-46fc-4e20-9cf4-e392fa8b1576\",\"type\":\"LegendItem\"},{\"id\":\"c525bdd2-30db-4e30-9ad1-fe442be07f42\",\"type\":\"LegendItem\"}],\"location\":\"bottom_right\",\"plot\":{\"id\":\"ced7aa4d-4e59-450d-a92c-c9525df24aaf\",\"subtype\":\"Figure\",\"type\":\"Plot\"}},\"id\":\"d8bd07d4-74b9-4bbb-b515-c5f0c104c83c\",\"type\":\"Legend\"},{\"attributes\":{\"fill_alpha\":{\"value\":0.1},\"fill_color\":{\"value\":\"#1f77b4\"},\"line_alpha\":{\"value\":0.1},\"line_color\":{\"value\":\"#1f77b4\"},\"size\":{\"units\":\"screen\",\"value\":7},\"x\":{\"field\":\"x\"},\"y\":{\"field\":\"y\"}},\"id\":\"3255abd8-e47f-4b3e-9444-ca5929339082\",\"type\":\"Circle\"},{\"attributes\":{\"label\":{\"value\":\"1\"},\"renderers\":[{\"id\":\"90541bd6-6b80-452a-ad2e-e5204c4f3da5\",\"type\":\"GlyphRenderer\"}]},\"id\":\"d90f96b7-2cf0-45cb-806f-e99627b8bc1c\",\"type\":\"LegendItem\"},{\"attributes\":{\"label\":{\"value\":\"3\"},\"renderers\":[{\"id\":\"19fff30c-f980-4794-8f0b-17a7840e2d68\",\"type\":\"GlyphRenderer\"}]},\"id\":\"ae781bdf-0687-4c30-a5c2-be7e9e56d9ee\",\"type\":\"LegendItem\"},{\"attributes\":{\"fill_alpha\":{\"value\":0.4},\"fill_color\":{\"value\":\"purple\"},\"line_alpha\":{\"value\":0.4},\"line_color\":{\"value\":\"purple\"},\"size\":{\"units\":\"screen\",\"value\":7},\"x\":{\"field\":\"x\"},\"y\":{\"field\":\"y\"}},\"id\":\"673f08ba-45f2-4fb9-8794-de2c52a6d841\",\"type\":\"Circle\"},{\"attributes\":{\"label\":{\"value\":\"6\"},\"renderers\":[{\"id\":\"4f6091be-f975-4fb4-9e5e-283f164da66c\",\"type\":\"GlyphRenderer\"}]},\"id\":\"052c5c9b-5491-427b-b4f3-4cfdc4723b18\",\"type\":\"LegendItem\"},{\"attributes\":{},\"id\":\"55537dfa-24de-44b6-8e5b-b5a4709acb7b\",\"type\":\"BasicTickFormatter\"},{\"attributes\":{\"fill_alpha\":{\"value\":0.1},\"fill_color\":{\"value\":\"#1f77b4\"},\"line_alpha\":{\"value\":0.1},\"line_color\":{\"value\":\"#1f77b4\"},\"size\":{\"units\":\"screen\",\"value\":7},\"x\":{\"field\":\"x\"},\"y\":{\"field\":\"y\"}},\"id\":\"14b9558e-e302-4bf9-bbdc-12de1246dc7f\",\"type\":\"Circle\"},{\"attributes\":{\"callback\":null,\"column_names\":[\"y\",\"x\"],\"data\":{\"x\":{\"__ndarray__\":\"H/MkCQR8DUDbZKh4IIQWQMyueXYtBhJA7Y31qKqdEUCIl9053MISQIP6iSVochBAxIf0BjNJFkDLHqlrN80SQGUBbNR7EBFA5XafhfImFECaikenUlYWQCV6V1IpjhBAUkW0xNEIBkC+jTo1Ku4XQIjy1ywRLhVA1/g3eo+oEUCYcND9xVwdQDmHWfI3XxhACjzJr/6cFkAh+2ZmkBwdQGu6GnRS/BhAeitjUQdPEED+0ejPMI0ZQPj42aH7zRJAycnCA7BxEUC9td/FRiUSQMOQt8UV5hpAAfYYoV9LE0CdxjAYuiwRQP+r3lOVvw9ANf/YXd/7BUBKhxav7akZQEfgEatNoRhAgBQO6QkGEkDAq12ZDEMSQLs2NyLsSg5A0+S+Vu2FGkBFXz5+53YLQC15AyBq2RFAZk99FKXGF0C8byRiB2QaQAQesUMYQfQ/4wJ+0bX+C0BNJYYtRAYbQKpawMKLVBRAQzgXv2d+GkAUyslqP8gVQE4SAmAtdBpAxMIZNHSZFUD93sQlE8sVQKXEy8RaVRpAhNlyCXo1GUB8qNUWPzwNQGtWdZDr/d6/tQ2u1/sdH0BSTFal0KMbQBqS4eUZIRpAe4LSYGrWEEDSFnJwU2cRQDFovpuSNR9A4sEKxubLCEDrC1nwXTIaQF1N1s3ouBlAU/APD/d9F0DOVpiqpAsaQOeNlrPCxBZA5z/NLV0KDEBFck3dyCATQER6OLG54B1AIz1oojKGCEB8KhgoEzQUQGPbrhccBxtA7lyqssvEF0CgLuxLAaEdQH/O3kU+KQ9AJDyTtnUIE0AJ2xHG94IQQAF6XZ3PfB1AtTFBoSztHUBneDQmnDoWQCLWSEJ/eRZAHbkhclzqEUAdFIL3p/QYQCwkW2uW9xNAxtNpvMs2CECYv4Y3lesWQEitmzYdpBxAc3SARsfYE0CXwRsuMpEVQBxWgcEIVRhAmlF9K856GEDDc/BnN64TQL9TSexVOhVArZvnn1S5FUCcQ/jpqlMXQKPjgNW6UR9AI3V6h+SoEkDNqhTvUy0fQNOnH/91Tuq/8DrJ7EJTHUDF9GMx/QkfQE+ujAWM5O0/Y9vmDJYLGEA190eOUqQaQHIMQc6lSRxAGUQU/Wa0B0DolpP0VWEXQE8jRHTDfBhAH5O1r+ydGkAIJn7nXt8ZQAGkW4YS4BRA9eIYndIeHkDWBi9wwDsXQIrwO31UBR1AHUH7nzDfFUAxiKn16GYMQDZZ5kvf+x1AJeDU4dZOHEBjcgW1+b8VQBzEQKRdDBJA9sH4k8bAFkCY3KFEzgIWQMU7Jb4T4BVAgCasNP6lC0Bt/IsyLJ8XQA==\",\"dtype\":\"float64\",\"shape\":[125]},\"y\":{\"__ndarray__\":\"CBWltS+t/r+WNKgPO/YBwP6wC9aNygTAUT3OZOCkBMD7HMOOYrLvv+vJTOZVZwXAlx596t7vCMBN5Xhm0oj9v6F3+AEj2Q/A3O/X7p0QCcCcezY/Qov5v/dgUJf4QwnAv0KYjDjR7r+7AdvyorL4v5s1E+nz8fi/cA4RA8j+/r+DxokzX3rnv4eDu8kZ6fm/BmkTMzDmCsA7tQIjxc0GwA1bOYN+ZQnA/uS8pbiqCcCXGrrKBmn5v8VJ8b8oYgPAHMUGaynICsB92CPo8tb0v82//GDnKALAz7rorgwj8L9ryu6NHE79v6uqoYKx0ADAjsLAb5IdBMAZz4F+NIvWv5dKH8CZyQrAyoK2jVrgBsBGZgvbP/cIwHEk1ZwZ2gfAYbxjkF8HB8BV5tibx/wFwFTCthhDdAfALk2IawStC8CX8hhO6k3tvzPPRW7oOxvA6KDmjai+6r+LVoaTyDf7v/1O8nAUwPG/CcxvEIbf+7/pakqwssQFwGCJxS3vOwPAoD1bKKZsBMBjUzFkTBgDwNWW91wSgAHA7H6X8ZvABsCc7KLN4YAFwF7TZn8VMxbACEjGnrQPA8CCJVk1dawFwDvfBxVWXg3AVtEbmzQIC8DfUokwML4JwOiyLuz+sADABHtZwUouBMDGO1+QVG76v1Na8dLNePW/es1BkpEt/b9BcPMKpXHsv9sSlBpKIwTAb1sE8JoQ/r81FnNXIW39v8p3cEHn+ATAqtfrGuQYA8Dft5kl0zEIwF4aoPeq8PS/HxWISxkD97+ai/ZEJBgFwF4bDynIRPW/UpfkBwq1AMA/v88RqMD+vw8aQsBuw/+/yaBK0JxM+r9ZwN01pIwEwBk1byPLBgjAym+d3TYk/L9c5tsAxWDsv4bgrHlVoArAnyIJE4dSCMAcvYCd0Vz9vz/Y3iJ2lAPAN8BAmiIXCMDJYoTnq630v0lpzhSu0QDA4pYh2L5XDMC3EDlBqigIwN7f1xBkyPa/3FGvjGy6xr+/B3+GEQ8DwIjmgV6/nPS/4pHzQX8Q57+ZuJAEGysFwJDlvniZpRLAbOzD/2Yn+7931R28iXPvvyyKUuOvkc4//Q/HQAaBCcAc6/YUnP4JwHuN8GvLGALA0K02KfqnBcBd1+lxR+sEwOCRJc+t+gTALNIM0E77BcDprR07auD+v7wA7B761/6/HlSXs3ev/r8PTL8MHPwBwBcsiaRfBgbA5q6sPq+n5r//WLl6hAP8v0M/ViXeOfG/Yj3OQpLm8r+FpKDUJEgHwFTLL2+YofO/XVpIiHdhA8BUSiM2XxTsvwzTGdzXRQHAuJe1p6ih9b+7kXvrgHztvw==\",\"dtype\":\"float64\",\"shape\":[125]}}},\"id\":\"3cde776f-ded3-4637-a1c0-1f5c966ffd0a\",\"type\":\"ColumnDataSource\"},{\"attributes\":{\"source\":{\"id\":\"2bef4b05-55e5-4987-b2ae-7e3413700bce\",\"type\":\"ColumnDataSource\"}},\"id\":\"8b637833-4645-4553-a312-1b2d40313298\",\"type\":\"CDSView\"},{\"attributes\":{\"fill_alpha\":{\"value\":0.4},\"fill_color\":{\"value\":\"magenta\"},\"line_alpha\":{\"value\":0.4},\"line_color\":{\"value\":\"magenta\"},\"size\":{\"units\":\"screen\",\"value\":7},\"x\":{\"field\":\"x\"},\"y\":{\"field\":\"y\"}},\"id\":\"74353291-903f-46b4-86ff-71e73971556a\",\"type\":\"Circle\"},{\"attributes\":{\"fill_alpha\":{\"value\":0.1},\"fill_color\":{\"value\":\"#1f77b4\"},\"line_alpha\":{\"value\":0.1},\"line_color\":{\"value\":\"#1f77b4\"},\"size\":{\"units\":\"screen\",\"value\":7},\"x\":{\"field\":\"x\"},\"y\":{\"field\":\"y\"}},\"id\":\"12006c8b-5974-45ab-bcfa-ff65352c78c4\",\"type\":\"Circle\"},{\"attributes\":{\"source\":{\"id\":\"97e82e6a-25b0-430f-bcc3-059c778f64c6\",\"type\":\"ColumnDataSource\"}},\"id\":\"1ba165ca-21aa-47be-8198-d4ebb442fab8\",\"type\":\"CDSView\"},{\"attributes\":{},\"id\":\"ca12a5ad-2e18-4696-a725-73c2616c950b\",\"type\":\"WheelZoomTool\"},{\"attributes\":{},\"id\":\"abbdad9f-7c9d-4a6d-b9b9-d90f997eece1\",\"type\":\"BasicTicker\"},{\"attributes\":{\"fill_alpha\":{\"value\":0.4},\"fill_color\":{\"value\":\"green\"},\"line_alpha\":{\"value\":0.4},\"line_color\":{\"value\":\"green\"},\"size\":{\"units\":\"screen\",\"value\":7},\"x\":{\"field\":\"x\"},\"y\":{\"field\":\"y\"}},\"id\":\"d1858b77-8a08-4073-8299-5624ac1f7e28\",\"type\":\"Circle\"},{\"attributes\":{\"plot\":null,\"text\":\"\"},\"id\":\"9247bd10-4fbd-4662-bb9f-0d723e7cf136\",\"type\":\"Title\"},{\"attributes\":{\"fill_alpha\":{\"value\":0.4},\"fill_color\":{\"value\":\"cyan\"},\"line_alpha\":{\"value\":0.4},\"line_color\":{\"value\":\"cyan\"},\"size\":{\"units\":\"screen\",\"value\":7},\"x\":{\"field\":\"x\"},\"y\":{\"field\":\"y\"}},\"id\":\"bb95880d-69ff-4260-9300-94cb38960831\",\"type\":\"Circle\"},{\"attributes\":{\"callback\":null,\"column_names\":[\"y\",\"x\"],\"data\":{\"x\":{\"__ndarray__\":\"9IBXp1XGGcBZI1DoTQ4owDcxtixxlB3A+7MbuqCzFcB6OghSJPQPwMsQ2kwBJh3As5f2kRsACMD4bZzYxSIKwKZtvyaKBCDA7q2ZkfLiGsD85LavRPsEwGwiDPMu7STAILCUW9MzHsCA8ltyDhUewPNPFY8vxCTAGxH7ygU/IMCZGTs9ZUUSwBnpG9nyOSLA9cnxd7fsGcC3cLCk1qYTwEOu4phmbhLAnD+ehLGnKsAg14HcpkkiwDlaITD4/R/AgQuDiRJEIMATcdbljjQUwEtd57C7QBrA2VkgrOCWGMCgkYHRrp0awBNHdQ9IwBTA+ST4AMv5G8AcBZXHySsZwPHFi9ZejSPA1bj+zn7fH8AHdDIcVlsfwM9DgpRBMRvAoVjvMde/IcAQvUvbyqYhwKLsSeCTaCHAiGjuHEfxI8B17TWp1/glwAvdBW0qMSLAeDaJjr2KF8BxYElVVzkVwD8JNNHyqCLAqs1WlroOC8CapVLYs4shwHeFqiz43xHAWLEE+yUyEcBUjN+mm3ciwMowzmHyIijAAKMobQcvGMB6U6BzdrgewIUWVTJPZh/AnDK0NP6qHsAxU6Kx+hwYwA67u4nhSiLAKOx0nbHpHMCFsn/ADEYfwNky30C/gCTAeXtd4uVQI8C9YoDR5jEWwC1onS4VBSTAsKGHlhV7JcBEd2JoIcYTwJ1Whr26kRHAZb0bljLOG8CfTgkm/LAhwGwpxjtYWRbAqEaZCRsEJcC6zpqWIgIfwL7BuHjeMCHAKdMu/friJMAAXRaR5rEPwJhszJdO3x3AJmcVvSNzFMAC3DSJeWITwPwxqJPIoBnA+wZlf67oEsD1wwbshmQKwLLaauZ8gR3AFyoIcI74IsAm6dEarkIWwDaF9lfQlh/ALSL1YnBNGsCldi4MRL8ewHX7Rh8F9SHAcO+rodtpIMDN0PF+/i4XwLmOZ62XnhjAO0dbeKAMIMBQKZ7J5+kgwNm5hi0E0SDACMCI1gQDIMC98Z0JjnwbwA==\",\"dtype\":\"float64\",\"shape\":[95]},\"y\":{\"__ndarray__\":\"V1SbbqI/8r8GJ2nQDegAQGFEcrxomgNAbgcIsbb2+78Eq71MWlL/P6LZqMbtfuS/oStB44Pg4j8VQFRYu1XhP/Hd7SV3Wc6/ydsHuINcDEBtmkWZgskAwJJL6ord4dQ/8Uh9mF1u+D/yDdM6iGwJQPzX6AZLYBNAHiQVjSMy+j+VXfGxEKTqv6lv+Z0ZUe0/lcGHprqjB0AGVPKqcErxP4gYVf4Zw8s/c/zR5bAcBkBfa9g39Z3+P3cxZwmyvP8/EJtf0rQiwb/6R/3gaJf0PwK8rMjySQJA7hn6OwhT6b/YVIVWVujovxz3/LojkMw/J+fYRdzy2D8WjbTywt/Vv+lSdL24Oue/xzhU7rej7L9aGk4U6lz3PxQaoQVnNPM/mBs0R3QS278r5fC5ULboP358zu2MXrW/WwWVv2/3D0B0rDIzsTXkv0Dr4cFWLxBAsjc/2yzE7r+l0tuCIJ//P8edFN73UgVAUEqo0wX99T9VpAbowPXiP4XjONbfW+o/HzawLs7R2r+hCai5KFwLQHfRdKdVMwtAX6b+V1PoBUD1vH8lP5ADwOKjxhypyfo/H9FLSHlABEDvCrtFAoHfPzIsDKAPtgBAA58oINJ76r9ctSWsEHLxP1X6RUpoFwZAeRR6Tr396z9tmyaw744LQPry1eWsswZAOfOKkBz+AkBl6OYsVIUKQCfqjjDpt9u/iMlWCgWvAUD5N3C/Yt7YP0yrurOy99w/ZGVSAeDj8L9sY0zzqQT2P2fry96MEgtAD9b5WxiiBECYZpFy80H6P0yK7huRZAZAY/wem4/axj9Yzko2qCrqP2/z19or4QJADWysH9k+A0BK/Eu5Wa/zPyr+o0yEdfK/HxJMTaobuL9NJcz1++ETQNUaWS6oeQdAyyeGkXQg4D8+aEE1O0byv9Qft77A+PY/4yfG/aPZ67+EmYM0Y53vP7PgpAvyp/M/8XvYM/p5AUAkgnPhWQDEP17ezFDmLPs/Q44MSHUU3j+cdI5foM0KQA==\",\"dtype\":\"float64\",\"shape\":[95]}}},\"id\":\"3038cd9b-8a44-46ff-970d-b694bea49f8b\",\"type\":\"ColumnDataSource\"},{\"attributes\":{\"fill_alpha\":{\"value\":0.1},\"fill_color\":{\"value\":\"#1f77b4\"},\"line_alpha\":{\"value\":0.1},\"line_color\":{\"value\":\"#1f77b4\"},\"size\":{\"units\":\"screen\",\"value\":7},\"x\":{\"field\":\"x\"},\"y\":{\"field\":\"y\"}},\"id\":\"42d1418e-c265-4594-959e-a660ca517d45\",\"type\":\"Circle\"},{\"attributes\":{\"source\":{\"id\":\"343ce1e8-91dd-4ea9-bd68-5565ecf6d692\",\"type\":\"ColumnDataSource\"}},\"id\":\"57c8a544-3c9d-4b48-86cd-32d429ddca5b\",\"type\":\"CDSView\"},{\"attributes\":{\"callback\":null,\"column_names\":[\"y\",\"x\"],\"data\":{\"x\":{\"__ndarray__\":\"9PtYg9v9DcBDHzLiFaUTwCwbUVtjUxPAntHkCSPhBcD/jY8ryb0TwGuFOuYK2ADA0r1ACnWX9b8jyYx6lRn4v0aZzAELyQbAs9WgQcpPFMDeVdMyrZ4TwE5pl66usSHA48X5g00p9L9Isg3LPMUNwIFqzF14HBnA09fOpolVBcBKobZMyhgEwLfOH73kLxDAthjMgkfi+b/cQZbC5TP/v55vvEnyMBvA41Jg1AZOFsDCEcaXn64FwD96n/2pMAvA1/dFtMtjBMCZQEpqkGIQwI5UQaxQywTAEf2NlwsqB8C523QOzeMOwC5sd9/N/+y/vlYhewjQD8A7VECPdO8HwMxYr7mPng3AUR8Rn/2eDMCWFr58lUQMwAYMpQz/1BXApJ5x3jDNEMBAPL5wRpIbwHAjRhmH5xPAQR1075L7CMBBMYyYzgntv2lmiogLhgrA4rxQ0rR3FsARp5dwGH/mv0l0rbMYJQ3ADHj0KUmnDsB8ksdK3G0dwEjFmPg2BxTAfHJsRMjKB8AVvBNWXkwcwFxeF4k9+vy/Tj9ES9MQFcCisdroqagLwETBRlXFVBLAxpaaySM/AMC/0qzXPAMTwC2rnpvnCRjAwrgCSw5aBMBtfxbuga0KwCex9lUnyA7AZ3U5RfsZCMAWpLc9CO/rv37VEBX91BjA5LeS7JWdEsDbr54pwE8PwKxJEK2EDtq/Gmc3CJkQF8D/kMGLM7EFwIqFyF9GQgDACEjKdcZEEMAfY2hH4KwPwFxCXAogxgzAr8VFguhU8b99vsWwtDsBwDazbk0BzgvA2Klk/FNR778dzNVB798SwMl+O368Vfm/qjRZzw9QAsATvK9XI8kSwAJyYNMFh++/TCEMz3OtF8AOHRhiVk8FwPwoTkkBygrASyfenlrdEcBQvcfCxpSRPxwbkcF1/BLAC4Yg1jQs5r+LTpfHvcITwKWSRG26pRHA7GKa3b4rEMBhdiAZEBYKwPl9/00d+wDAJRD5qaQ2FcDe5L2kSjIYwA==\",\"dtype\":\"float64\",\"shape\":[95]},\"y\":{\"__ndarray__\":\"PccTxtWICUD4f5BML3wWQI3ZD5fKxhlAxQsfZdXvGkA+5cZEw3MqQP4kn+qT7SBAa9cORebDJEAh0hOxHBsjQBxxJDm48BhAXPVYb7gZKEDcDjkSoIIiQJj/Vfzq0CRA/bfqDxU1DEAIS6GU9YUdQEp2nSnrTCdAvSZudIY1JkA+MxT+fNAZQNpPBtTs0yhAc7+9IPF8F0DpWdGRrpIHQPRuCfhVIRNApyF7/zsnJEAJ7ADnLC4pQO/y7BaHjeU/DfUeUZUuIUB1eeo2fOwVQObbHWEGXwxAzeyOP9quIkCgn2AVpgojQJ+MyeRHHhZALtJ3V4FmCUBlJnqvIlQkQF+FM9LanyRAiRhbzbmbHUCBBUsG27ITQOcAaG0oAx5AUW2BgaJGDEBamDkJSD0jQL3TS3vqhCFAjOkAZYOf+j8F7wsjY1gnQFtWrAhrKiRAY1vAnOQuHUC3VP4LHDcgQKJpP2P1viNAgOr5hURIH0ABbT0PhnwbQA9+7jJswSNAj8hKKIYJJUDsCWup5IElQCgCi5GDwSBAGyofEbbLJUBKEFhzOyAVQIJmPzXtdiNAetkXVStgF0BFoOXaWwoeQDa/VupDZxxAr0ctq95CH0APuovryyofQGQktlbMSw9A5tFU6GWQJ0BtC2T8QeQDQBcP/PwZqSVA0cPPQg/GHEBcY0apbvsTQFBRZ4ZfMyVAuyjs3zt9IEDfje1KNC0iQMfMSOneeCtAo+rNEmi9H0ATRJuSJ+gkQBsXUkLCNiBAGR9Qrg8NIEAr54qGgBv8P00JtnfOwhdA1qNYTCTUFEANRDZ6MSUjQB8LspihFB9AupaKo6vZFEAvfu81Jl8gQPOqa5wKih1Ax3BYzA+bIUB+OGr0N4UlQN1KcXIhUhJARkaiOCPwGkBzxk759/8ZQD6cUEgAuyBAX0jLD+NxGkC4Hmt0I38bQIDTC8qGtCNAwuDDsVA+E0CSQah5dNwbQOrjuqNWZCRABaqQVqHcH0CGZqamCbUoQA==\",\"dtype\":\"float64\",\"shape\":[95]}}},\"id\":\"c19f0f25-40fd-470f-a5da-9f7099278009\",\"type\":\"ColumnDataSource\"},{\"attributes\":{},\"id\":\"5d87cb47-001f-4af4-a035-8a55d1098c24\",\"type\":\"LinearScale\"},{\"attributes\":{\"formatter\":{\"id\":\"48a247cd-4553-4532-bdd0-aef36123e60d\",\"type\":\"BasicTickFormatter\"},\"plot\":{\"id\":\"ced7aa4d-4e59-450d-a92c-c9525df24aaf\",\"subtype\":\"Figure\",\"type\":\"Plot\"},\"ticker\":{\"id\":\"abbdad9f-7c9d-4a6d-b9b9-d90f997eece1\",\"type\":\"BasicTicker\"}},\"id\":\"3c9bcf05-6c09-497d-b443-3398c1281bbd\",\"type\":\"LinearAxis\"},{\"attributes\":{\"callback\":null},\"id\":\"6ff6da80-ea3a-4d96-80b8-6d2c904225cf\",\"type\":\"DataRange1d\"},{\"attributes\":{\"fill_alpha\":{\"value\":0.1},\"fill_color\":{\"value\":\"#1f77b4\"},\"line_alpha\":{\"value\":0.1},\"line_color\":{\"value\":\"#1f77b4\"},\"size\":{\"units\":\"screen\",\"value\":7},\"x\":{\"field\":\"x\"},\"y\":{\"field\":\"y\"}},\"id\":\"a3a3c33b-8577-4a2f-8723-a692ecc1f64c\",\"type\":\"Circle\"},{\"attributes\":{\"bottom_units\":\"screen\",\"fill_alpha\":{\"value\":0.5},\"fill_color\":{\"value\":\"lightgrey\"},\"left_units\":\"screen\",\"level\":\"overlay\",\"line_alpha\":{\"value\":1.0},\"line_color\":{\"value\":\"black\"},\"line_dash\":[4,4],\"line_width\":{\"value\":2},\"plot\":null,\"render_mode\":\"css\",\"right_units\":\"screen\",\"top_units\":\"screen\"},\"id\":\"d6e4c23d-cdea-42be-803c-e0885c77e9f2\",\"type\":\"BoxAnnotation\"},{\"attributes\":{\"fill_alpha\":{\"value\":0.4},\"fill_color\":{\"value\":\"blue\"},\"line_alpha\":{\"value\":0.4},\"line_color\":{\"value\":\"blue\"},\"size\":{\"units\":\"screen\",\"value\":7},\"x\":{\"field\":\"x\"},\"y\":{\"field\":\"y\"}},\"id\":\"3693349b-eed6-43ee-afdc-7050ba2d3e3a\",\"type\":\"Circle\"},{\"attributes\":{\"label\":{\"value\":\"9\"},\"renderers\":[{\"id\":\"88ef2418-dd9d-4017-850a-374afa5c7bf1\",\"type\":\"GlyphRenderer\"}]},\"id\":\"c525bdd2-30db-4e30-9ad1-fe442be07f42\",\"type\":\"LegendItem\"},{\"attributes\":{\"fill_alpha\":{\"value\":0.1},\"fill_color\":{\"value\":\"#1f77b4\"},\"line_alpha\":{\"value\":0.1},\"line_color\":{\"value\":\"#1f77b4\"},\"size\":{\"units\":\"screen\",\"value\":7},\"x\":{\"field\":\"x\"},\"y\":{\"field\":\"y\"}},\"id\":\"69cf133a-3ced-4ce1-912d-de45f64ba655\",\"type\":\"Circle\"},{\"attributes\":{\"source\":{\"id\":\"3038cd9b-8a44-46ff-970d-b694bea49f8b\",\"type\":\"ColumnDataSource\"}},\"id\":\"f53fa27b-c2ad-4e13-9e03-c9c13ce9e09b\",\"type\":\"CDSView\"},{\"attributes\":{\"dimension\":1,\"plot\":{\"id\":\"ced7aa4d-4e59-450d-a92c-c9525df24aaf\",\"subtype\":\"Figure\",\"type\":\"Plot\"},\"ticker\":{\"id\":\"abbdad9f-7c9d-4a6d-b9b9-d90f997eece1\",\"type\":\"BasicTicker\"}},\"id\":\"a70b89ec-9398-487a-b4ad-0c083d37d431\",\"type\":\"Grid\"},{\"attributes\":{\"data_source\":{\"id\":\"c19f0f25-40fd-470f-a5da-9f7099278009\",\"type\":\"ColumnDataSource\"},\"glyph\":{\"id\":\"3693349b-eed6-43ee-afdc-7050ba2d3e3a\",\"type\":\"Circle\"},\"hover_glyph\":null,\"muted_glyph\":null,\"nonselection_glyph\":{\"id\":\"12006c8b-5974-45ab-bcfa-ff65352c78c4\",\"type\":\"Circle\"},\"selection_glyph\":null,\"view\":{\"id\":\"413655a8-a17e-4f52-90a2-db92e519077c\",\"type\":\"CDSView\"}},\"id\":\"fa6e6e76-124c-462f-a1a5-aacca58e9972\",\"type\":\"GlyphRenderer\"},{\"attributes\":{},\"id\":\"c163021f-93e0-46da-bdbd-b4a34ebc5223\",\"type\":\"ResetTool\"},{\"attributes\":{\"fill_alpha\":{\"value\":0.4},\"fill_color\":{\"value\":\"black\"},\"line_alpha\":{\"value\":0.4},\"size\":{\"units\":\"screen\",\"value\":7},\"x\":{\"field\":\"x\"},\"y\":{\"field\":\"y\"}},\"id\":\"553f7da1-c11a-4bf8-b045-174bd9275ccc\",\"type\":\"Circle\"},{\"attributes\":{\"data_source\":{\"id\":\"3038cd9b-8a44-46ff-970d-b694bea49f8b\",\"type\":\"ColumnDataSource\"},\"glyph\":{\"id\":\"553f7da1-c11a-4bf8-b045-174bd9275ccc\",\"type\":\"Circle\"},\"hover_glyph\":null,\"muted_glyph\":null,\"nonselection_glyph\":{\"id\":\"3255abd8-e47f-4b3e-9444-ca5929339082\",\"type\":\"Circle\"},\"selection_glyph\":null,\"view\":{\"id\":\"f53fa27b-c2ad-4e13-9e03-c9c13ce9e09b\",\"type\":\"CDSView\"}},\"id\":\"4f6091be-f975-4fb4-9e5e-283f164da66c\",\"type\":\"GlyphRenderer\"},{\"attributes\":{\"data_source\":{\"id\":\"a540087e-51f3-48c3-b4bd-2a2df27eb0fa\",\"type\":\"ColumnDataSource\"},\"glyph\":{\"id\":\"b9a954ea-d368-4d75-971a-165cc844e1a7\",\"type\":\"Circle\"},\"hover_glyph\":null,\"muted_glyph\":null,\"nonselection_glyph\":{\"id\":\"14b9558e-e302-4bf9-bbdc-12de1246dc7f\",\"type\":\"Circle\"},\"selection_glyph\":null,\"view\":{\"id\":\"a69b9dc9-afd0-4841-8025-b49bc65fb133\",\"type\":\"CDSView\"}},\"id\":\"88ef2418-dd9d-4017-850a-374afa5c7bf1\",\"type\":\"GlyphRenderer\"},{\"attributes\":{\"data_source\":{\"id\":\"97e82e6a-25b0-430f-bcc3-059c778f64c6\",\"type\":\"ColumnDataSource\"},\"glyph\":{\"id\":\"c5623539-540d-436e-8d86-795edb7a4b8a\",\"type\":\"Circle\"},\"hover_glyph\":null,\"muted_glyph\":null,\"nonselection_glyph\":{\"id\":\"5417adf1-157c-4a5b-bada-be04e2d5022a\",\"type\":\"Circle\"},\"selection_glyph\":null,\"view\":{\"id\":\"1ba165ca-21aa-47be-8198-d4ebb442fab8\",\"type\":\"CDSView\"}},\"id\":\"405bbce5-f854-4725-bd3e-016ba026b242\",\"type\":\"GlyphRenderer\"},{\"attributes\":{\"data_source\":{\"id\":\"6b14c14e-0fc8-4d45-b1c4-ecc84ada8a47\",\"type\":\"ColumnDataSource\"},\"glyph\":{\"id\":\"673f08ba-45f2-4fb9-8794-de2c52a6d841\",\"type\":\"Circle\"},\"hover_glyph\":null,\"muted_glyph\":null,\"nonselection_glyph\":{\"id\":\"42d1418e-c265-4594-959e-a660ca517d45\",\"type\":\"Circle\"},\"selection_glyph\":null,\"view\":{\"id\":\"bdc42e15-2410-43fc-8534-cd04360b6be6\",\"type\":\"CDSView\"}},\"id\":\"bf2e108d-e24d-45e0-9a9d-d7e231465bfd\",\"type\":\"GlyphRenderer\"},{\"attributes\":{\"formatter\":{\"id\":\"55537dfa-24de-44b6-8e5b-b5a4709acb7b\",\"type\":\"BasicTickFormatter\"},\"plot\":{\"id\":\"ced7aa4d-4e59-450d-a92c-c9525df24aaf\",\"subtype\":\"Figure\",\"type\":\"Plot\"},\"ticker\":{\"id\":\"1677ce6c-8a79-4067-b54e-7490edaaee84\",\"type\":\"BasicTicker\"}},\"id\":\"30192e71-9662-42f9-9bd7-c016b2349f6f\",\"type\":\"LinearAxis\"},{\"attributes\":{\"callback\":null,\"column_names\":[\"y\",\"x\"],\"data\":{\"x\":{\"__ndarray__\":\"V68FMM+K5j8LWP4if9XtPzg7bNpISwVAAzxg+LalEECP79ckp6Dxv6NGpxvSqgNAXR76ov27+r/+A8mAT7EJwIB8ttxu398/NAtgV3K0CUD0sb84Aci5v8XCKeGpWgBAHdyuO4vT0b8voxODdCQNwOnW+/R43PW/qrNpqHrj7L/QSfSl0XbWv1VBhedMoxHAA9e2GsIO/r8ENofn+xbPP6bVjMmbGRTAbR2SkpzA5T8tfUm3z/ngv/p0XTBJUeU/msXzeg/L4L+kqAhUY3cAQGHsE1Q44AFApeQvvnaAy78xRjcyDiDyP0jBzE1y86A/LNOs2Fc8+b8keO/hhI0BwBKA9PzuAvU/uPD0r5NTAMD17/p3aAz7vx8jHwwPU/S/S8pdwpddEsA/t6nsfPANwEAFmC5l/gdANq2X8sD54L/gVXchE2HSv1BQTiRKiw5A8mIRvJ9G7z91daWHrGMFwE71FxIFkQhAyQc3yqr++T+CuWV8SgL3PxU6k9A/7gjAdCp7f/U76z+7DyVGn5cQQMuwQEuTovG/z54kHnNPBEBSGSMv7n4MQBu01EPVkbS/llvzLE2N5z+RbNn8L6MLQJZVVwlfF9o/OR2v0SHsAMDHCRO1lzf9P6FIsArCYwzAohvOELCj8r8mzkGUiDELQAC42TZjreO/VfN8JsnA5b9i7v1m+nYcwEwCe9Vsn9W/ffNKCw5gA8AwnhujXUTVP5fWf1XNcgNA5CzJMTgp6D8uRegWligCwDv19+SzQ/w/roDLGQp9C8ATVuFdbhP5Pw+at+7mDALATdTqLcOg2r9Me3qvlcz5vw5wTo6ke+Y/Pi+Fde681D8dAdnHaBr1v2jUSqcjtwTAWFUrHDlw3L+pmcw4mPHJPw==\",\"dtype\":\"float64\",\"shape\":[83]},\"y\":{\"__ndarray__\":\"pKUoYFYX8z8k3ECU6EcbQP07JTMkKu6/brEPhjQBI0BjBCjhpAwiQGhJiyyOHyBAIr4jtNdm8D99/L7T/aQFQO2Vq4lEPiNAZ1sgD9aKJEDATMqhSVz0P6xK9iHSjRVAeWDdRNOECUCHBpyuwyIDQAYpGJtyghVAVTKeffTB/z/4kVOJKdoVQOT5anTccwRApftoSZPHDkD+c9jOmhvLv8NNRzETkhRAoD5TdDSlEkAsGLivu7YNQHAjuZAqlxRAgdqawVYN9T8SBcrWI4gQQJgkBrwb1RtAA8BoMVtk5b+xUSkn0tQLQFR9jhG3jNo/xmwYyAQQtr/t2t+URuMFQHDFHDS8lxdAHcqqG3eW778R39KOD831v+P0+5C0pAlAzkLmVS342b8NdG7+SgQBwHUm98tmuxlAAlt/diYcE0D+1Uy9mFIIQC7+6CbhjiRAZVNiIIz5EkDQhoaZa6DhvzvRb/9tJBtARAlePuQJIUBhJZRgEM0gQE5i0g7hqrc/ax05wHKVF0AJ2OM+VYH3P7NXSippDhFAdnkguWR6IUA+m6IUIg4dQELAMCx+74Q/lKd0QjtAIkBDjCdhmMwYQPSi/JFQL9w/wLZpSFu53D9rae7Ry3wcQESHwn+t4mY/2fu4LAotqb9eFwrqIYwcQFYu93D+wQTAVPxRGMoQpL+FGqOWm1kWQKre1g/c5htASCSn9iXx679OmcI9sDkWQNWLs6s4GxVAMZwGX1nNEUB4BwsIg30KQMLAijTsCfQ/sJao1+eW6T++wj//JPgEQA6V7nN43QdAw/q1o6rGD0AoprPnBCwVQDZNU6BLcgTAM74f23nTEEB9TOiRfMUBQKeJI66wDwNAORF3rJktGED8SXp/Z88dQA==\",\"dtype\":\"float64\",\"shape\":[83]}}},\"id\":\"343ce1e8-91dd-4ea9-bd68-5565ecf6d692\",\"type\":\"ColumnDataSource\"},{\"attributes\":{\"callback\":null,\"column_names\":[\"y\",\"x\"],\"data\":{\"x\":{\"__ndarray__\":\"GcuHoCh2/r/iXvFLZREQQIF4TOi0Gdo/VaaTFSR2I0Dw+Nx1pTfmv/cCf715o/c/q30YVCNkCcBayGFhDFYVwADyH0j9iA/AfCMMquG8HkDjgpsW2YcQwOKbw5l1Fg/AQoLzahLkGcAgjHFVcpcmQH3j+/CqXOs/Ma8MefEKFsAUocVayFITQMRTD5WNKgbA6pBIcYEkDMATCIjil2QWQCEAcRSJPhjAh9Y2aWLnIEB4kv7cDe8WQIz9JT+4UfM/XqOisE1c8L9F0tVIDJ0XQMzWt7m9dANA80gYofsJGkATiZlNQLXwPyMD1edE/A9AcsOURP3YA8DVz0mzavX1PwmebtvELANAbv7e92oBE0AJnWHEQ/jmPyoTEoPfLB/AzViczBiFyj9z5Hs1HG4dQM+vBi5M3x5AE+r9gfx0BkDrNCwl8wkNQPyo7LSMo6Q/sEl07YTfC0DSI20LHU0TwJKTBSD5bQjAXiGX3eXE5T9gPjnsD3gdQJgMKaQ2oRNAgrUo0EdhIkBnhWjiUhQMQHNXk2effQhA33lJgmMCEcDbiErbyX0EQFVLauevgyFAZnvSO5xfCMD/iiGwoIshQCT7+J5vFiZALGq30ndUGsBz3ePf7CfXv3+H6Jas5wrAwBRbufsKEEBDpbxu5c3nv4PFocdcHCDAPGFmw9LVHEBFHelUogAjQOgQT37ZrPq/HP3CmBUs7L+pma2gTI4IwEsxCA3CFR1AzCBaoViUCcBioj7ktE0TQCkNMbjDjQ1AZZkXo8L06r/sHRu+EcoUwHBtASrC4xLAf+g4sp03HkDyC5BDezgYwBjkbxb3qgtAXR5ZzulJAMA5uHi5gOMTQEkh8/96ECDAKHNh/m8JH8CP/JMOQ/XyP4yOa/lpIgHAElE5rHWr9z+ocrvfPJ0AwK6zpaAIKhvAcNp/zBfeIMC+kR0Gi/4WwEJxrXNcTAVAm16O/tMc5b9czME/bmsfwKl3fv0y2QFAbDpTHJ+85b8=\",\"dtype\":\"float64\",\"shape\":[94]},\"y\":{\"__ndarray__\":\"EB8o7xO14L9UfgT2MoAUQL9a/5wEtCVAdLEXE3FpD0DCHSsStKoiQHf3Ouldmf0/7luywNrsE0CTqKnJeEXEv4EFNZNrbBVAuyoHcthqD0B7HCoY6AwDwFeG+aSgMLC/OmJsf4AeFkCR3lH2ZacLQEnoF6Mxseo/I/1yfAM++j98Ii/NyecKQBvWVKIaQxtA0jnXDp3QB0DHNUGKMskTwOm0zT8aVQlAi2SfPOrMHkCEYFqkBpQkQChj3y2jIgdAQOkFSFP/C0BVbBhLbK8lQJS7oiHpLBJA6P+1t0beIEAKwmLyoO0gQNs/CAOC8whAH5oWzBEU/r88qrxIAAsdQOIKZRInOBBA+BaBXe5HC0AYlUoymVQOwA956D5OSeO/vlqwWpOFG0CBm4Yr05/tP1hEhdtj8BFAQ47TccX4FMBMI1rcf5HxP+Yf6aPuCQdALbJdGK/nDcCS9qU1GsfHP20NKlt9RBVA9AIldS+2H0D85dqankIRQM6Ee/qnGAdAqIszmUKjB0A8wVWkf5EUQDMXkDNxtx9AptXK8qz4G0C8Z00RH2flP41deuhotfA/zm0ZXnevEkCJEt3lHAAPQIVvMuRiURdA5mmf+lBL/j8DCbaGwJjav+PAwb/VGABAC4Qk63rgH0CAjbryuoD3v1O9rFrb8vO/yUrAD2ZgHEAOAyXUlnUQQLV7oE7jZP2/XSBmJQWQIkBXdpnxMkQGQBZePWvVoBHAKTKzGmLk9r/hEn8P3M2zv2rV88MMhRFApXRX6Zp0CMCaowVU6hcFQMoSndPPohBAWGMNc5KCBEA+6MgbyuL7v6AxurUvS80//2eunaM2JEC3oCJILCweQHgEg6Fy+x1A6qpxRflyD0BuI4bRbh/5v3pfS8BUBwLAbECcMdAvHED6zVC9sX7Cv6E7yGaQMiBAdYAvREKLI0Cd1iljRUcTQAnGeCO5LCNA3NP7vtgnKEBsY7wCg28TQCffiLsRjPK/3npbcuYhAkA=\",\"dtype\":\"float64\",\"shape\":[94]}}},\"id\":\"97e82e6a-25b0-430f-bcc3-059c778f64c6\",\"type\":\"ColumnDataSource\"},{\"attributes\":{\"label\":{\"value\":\"4\"},\"renderers\":[{\"id\":\"9326981d-29b1-4bb1-b42b-ebb44edc6e58\",\"type\":\"GlyphRenderer\"}]},\"id\":\"dfda839c-5341-4cef-8771-479ea7351056\",\"type\":\"LegendItem\"},{\"attributes\":{\"fill_alpha\":{\"value\":0.1},\"fill_color\":{\"value\":\"#1f77b4\"},\"line_alpha\":{\"value\":0.1},\"line_color\":{\"value\":\"#1f77b4\"},\"size\":{\"units\":\"screen\",\"value\":7},\"x\":{\"field\":\"x\"},\"y\":{\"field\":\"y\"}},\"id\":\"f79bb109-b146-4fab-8c45-bbc15c1d4034\",\"type\":\"Circle\"},{\"attributes\":{\"label\":{\"value\":\"5\"},\"renderers\":[{\"id\":\"b1689927-aa1d-4071-9cf6-c818e25e23b6\",\"type\":\"GlyphRenderer\"}]},\"id\":\"bd094ca3-af27-4f16-9710-657f0cd099ab\",\"type\":\"LegendItem\"}],\"root_ids\":[\"ced7aa4d-4e59-450d-a92c-c9525df24aaf\"]},\"title\":\"Bokeh Application\",\"version\":\"0.12.9\"}};\n",
       "    var render_items = [{\"docid\":\"023452ea-df1e-4928-a9fe-6ceedc077664\",\"elementid\":\"bfd02469-2b31-43eb-8264-6452d4091c5f\",\"modelid\":\"ced7aa4d-4e59-450d-a92c-c9525df24aaf\"}];\n",
       "\n",
       "    root.Bokeh.embed.embed_items(docs_json, render_items);\n",
       "  }\n",
       "\n",
       "  if (root.Bokeh !== undefined) {\n",
       "    embed_document(root);\n",
       "  } else {\n",
       "    var attempts = 0;\n",
       "    var timer = setInterval(function(root) {\n",
       "      if (root.Bokeh !== undefined) {\n",
       "        embed_document(root);\n",
       "        clearInterval(timer);\n",
       "      }\n",
       "      attempts++;\n",
       "      if (attempts > 100) {\n",
       "        console.log(\"Bokeh: ERROR: Unable to embed document because BokehJS library is missing\")\n",
       "        clearInterval(timer);\n",
       "      }\n",
       "    }, 10, root)\n",
       "  }\n",
       "})(window);"
      ],
      "application/vnd.bokehjs_exec.v0+json": ""
     },
     "metadata": {
      "application/vnd.bokehjs_exec.v0+json": {
       "id": "ced7aa4d-4e59-450d-a92c-c9525df24aaf"
      }
     },
     "output_type": "display_data"
    }
   ],
   "source": [
    "p = figure(plot_width=600, plot_height=600)\n",
    "\n",
    "colors = [x for x in 'blue-green-red-cyan-magenta-yellow-black-purple-coral-lime'.split('-')]\n",
    "colors_map = colors_map[:1000]\n",
    "for cl in range(nb_classes):\n",
    "    indices = np.where(colors_map==cl)\n",
    "    p.circle(X_mds[indices, 0].ravel(), X_mds[indices, 1].ravel(), size=7, \n",
    "             color=colors[cl], alpha=0.4, legend=str(cl))\n",
    "\n",
    "# show the results\n",
    "p.legend.location = 'bottom_right'\n",
    "show(p)"
   ]
  },
  {
   "cell_type": "markdown",
   "metadata": {},
   "source": [
    "## Exercise 2: \n",
    "\n",
    "### Try extracting the Hidden features of the First and the Last layer of the model"
   ]
  },
  {
   "cell_type": "code",
   "execution_count": 54,
   "metadata": {
    "collapsed": true
   },
   "outputs": [],
   "source": [
    "## Try using the `get_activations` function relying on keras backend\n",
    "def get_activations(model, layer, X_batch):\n",
    "    activations_f = K.function([model.layers[0].input, K.learning_phase()], [layer.output,])\n",
    "    activations = activations_f((X_batch, False))\n",
    "    return activations[0]"
   ]
  },
  {
   "cell_type": "code",
   "execution_count": 55,
   "metadata": {},
   "outputs": [
    {
     "data": {
      "text/html": [
       "\n",
       "<div class=\"bk-root\">\n",
       "    <div class=\"bk-plotdiv\" id=\"3f556cfa-b448-4fb5-817c-b273b2a99bc1\"></div>\n",
       "</div>"
      ]
     },
     "metadata": {},
     "output_type": "display_data"
    },
    {
     "data": {
      "application/javascript": [
       "(function(root) {\n",
       "  function embed_document(root) {\n",
       "    var docs_json = {\"6e86da5c-f9c8-464b-9db8-9071b2fbf58b\":{\"roots\":{\"references\":[{\"attributes\":{\"callback\":null,\"column_names\":[\"y\",\"x\"],\"data\":{\"x\":{\"__ndarray__\":\"vjjYwc7V+8Fr3qDB2UKawRn25cFTyOzBhZLJwfBEn8ELPZrBoOi6wfoO9sEdVDHBPCT0wcW128Gk39bBciLnwZ8HHcG4n9HBGvTiwQDcwcGsRv/BHYazwQYz4sFQr+LB4YnuwfSOhMF5PbLBtszYwbuszMFPD4nBdSjiwVBQBcLfnS7BUPa/wafQ7cFkF8nBONOzwX6XyMHwZ9fBcoSnwU5A+MFipanBMQu/wUJpycGpEHjB2NYIwmNN7cF0v7rB4H7Rwav6+MF+8x3BaXi0wccVucE4TcXBwGz6wXDOtMFlCqTBMuD8wTBs/sEThZ3BxcySwbaN0UHKVvjB4MnCwYUp1cGz+QrCQhC2wQn3BsLi/AbC0RfkwSZ2+sGCGQLCnNPLwb/G1sGZ0gPCz57VwbWyBMIzJAPCuvGowW5t18EhjaxAQ+LEwUQ39MELrnfBj5+ZwXvZ8MEDnbfBqlX7wfxzBcJYjorBk0LMwbv6/8H82O/B2QkDwrsWEcKl4aXBuMsHwLRJCsKoZLDBksH9wR199MHZIw/C\",\"dtype\":\"float32\",\"shape\":[102]},\"y\":{\"__ndarray__\":\"Ju3awA+APMFFzSbBFY5twaIk28AqKG7BSAeKwdlPjcEijkPBmDpKwdGm0MCv3lnB00puwbsMhMGwPybB3IYjwXFSZkGk8xnBXj+WwLgOS8FalEzAPyRfwbCJbcH882nBiNaowGKZJMG06uPAa8hFwYdkGMEL20PBF1O7wA9/yr/fmF3BR/fjwGPTEcERs3TB1rcQwRs8ZME6fo3ByOFbwVvyX8EsMFTBszouwWENPsGDCjbB6dlMwPZghsHzHHDBDJhzwcFtEMFS1WRB9EokwXsuBcGPienAcYRmwTsmUME/Sj7BtVt9wfRQksGZBY7BFNKMwVJTD8HtgHbA0qAbwcfnjcFAMlnByNwzwfcfWMFYNtDAlkiBwPcxP8Gs/lbBumhfwUw0pcDyCCTBbik0wYvpS8HiEwjBifQiwTb8PsGwb4pAbigEwREJPsFNuTnB5qZuwWf/AMHTryrBx321wFQYi8BiLVLBi1Y6wUwozMBR1DLB0dqpwNijT8FWIIrBgPC6wVTgT8GGFgnBjJQowXS028CE1krB\",\"dtype\":\"float32\",\"shape\":[102]}}},\"id\":\"0b47d041-0741-4fd9-bc68-6037794e2bf2\",\"type\":\"ColumnDataSource\"},{\"attributes\":{\"plot\":null,\"text\":\"\"},\"id\":\"3a120f0f-17db-4dbd-b1bd-43322323cf48\",\"type\":\"Title\"},{\"attributes\":{\"fill_alpha\":{\"value\":0.4},\"fill_color\":{\"value\":\"black\"},\"line_alpha\":{\"value\":0.4},\"size\":{\"units\":\"screen\",\"value\":7},\"x\":{\"field\":\"x\"},\"y\":{\"field\":\"y\"}},\"id\":\"52901b1d-3d65-4d1e-921e-21b35de1cae4\",\"type\":\"Circle\"},{\"attributes\":{\"data_source\":{\"id\":\"4a96c895-868a-4bad-aa69-3ec0276c9c9b\",\"type\":\"ColumnDataSource\"},\"glyph\":{\"id\":\"0a680e73-2bfa-4471-9621-60e106a9b13b\",\"type\":\"Circle\"},\"hover_glyph\":null,\"muted_glyph\":null,\"nonselection_glyph\":{\"id\":\"8a96707f-6b35-42e6-b38b-4ed4c54cf70d\",\"type\":\"Circle\"},\"selection_glyph\":null,\"view\":{\"id\":\"778beec4-04fb-4858-a924-3d88e6f792e0\",\"type\":\"CDSView\"}},\"id\":\"6f8db31d-990d-4f79-acb8-278b0cd01e63\",\"type\":\"GlyphRenderer\"},{\"attributes\":{\"source\":{\"id\":\"8ae9da0a-7b99-4914-b705-f826a0b12fc0\",\"type\":\"ColumnDataSource\"}},\"id\":\"200546ef-ddfa-440c-a9e5-82c776492539\",\"type\":\"CDSView\"},{\"attributes\":{},\"id\":\"e8fd0870-5b18-4799-9b18-0a0ee57a13d4\",\"type\":\"HelpTool\"},{\"attributes\":{\"fill_alpha\":{\"value\":0.4},\"fill_color\":{\"value\":\"lime\"},\"line_alpha\":{\"value\":0.4},\"line_color\":{\"value\":\"lime\"},\"size\":{\"units\":\"screen\",\"value\":7},\"x\":{\"field\":\"x\"},\"y\":{\"field\":\"y\"}},\"id\":\"6a8e8526-0552-40e5-8bc5-da635025fb5e\",\"type\":\"Circle\"},{\"attributes\":{\"source\":{\"id\":\"0b47d041-0741-4fd9-bc68-6037794e2bf2\",\"type\":\"ColumnDataSource\"}},\"id\":\"43c4bdc8-3355-4703-9496-751340cfbd4f\",\"type\":\"CDSView\"},{\"attributes\":{\"fill_alpha\":{\"value\":0.4},\"fill_color\":{\"value\":\"yellow\"},\"line_alpha\":{\"value\":0.4},\"line_color\":{\"value\":\"yellow\"},\"size\":{\"units\":\"screen\",\"value\":7},\"x\":{\"field\":\"x\"},\"y\":{\"field\":\"y\"}},\"id\":\"62ec258e-dc98-446f-95b4-62608cc070ca\",\"type\":\"Circle\"},{\"attributes\":{},\"id\":\"46638190-7392-4b5a-a035-ba2158ef6505\",\"type\":\"WheelZoomTool\"},{\"attributes\":{\"fill_alpha\":{\"value\":0.4},\"fill_color\":{\"value\":\"purple\"},\"line_alpha\":{\"value\":0.4},\"line_color\":{\"value\":\"purple\"},\"size\":{\"units\":\"screen\",\"value\":7},\"x\":{\"field\":\"x\"},\"y\":{\"field\":\"y\"}},\"id\":\"0a680e73-2bfa-4471-9621-60e106a9b13b\",\"type\":\"Circle\"},{\"attributes\":{\"below\":[{\"id\":\"4ebeb71e-b539-4ff0-9c80-be1afbeed79a\",\"type\":\"LinearAxis\"}],\"left\":[{\"id\":\"69ea93b8-06af-49f6-9fc2-1f02845e1579\",\"type\":\"LinearAxis\"}],\"renderers\":[{\"id\":\"4ebeb71e-b539-4ff0-9c80-be1afbeed79a\",\"type\":\"LinearAxis\"},{\"id\":\"a830f757-f502-4cb0-b941-4786d166c5ca\",\"type\":\"Grid\"},{\"id\":\"69ea93b8-06af-49f6-9fc2-1f02845e1579\",\"type\":\"LinearAxis\"},{\"id\":\"8759f042-769c-4ba5-9150-2fe1f46f12f0\",\"type\":\"Grid\"},{\"id\":\"3f22c56b-db58-4d9c-b09f-29719f4ed0b5\",\"type\":\"BoxAnnotation\"},{\"id\":\"df57a3f6-6d10-4721-a229-f0520d3d8b8e\",\"type\":\"Legend\"},{\"id\":\"bb7035b6-4d83-4ff7-9485-217ed7fce6bf\",\"type\":\"GlyphRenderer\"},{\"id\":\"af42269a-d8d3-4de9-9c6e-df09129edded\",\"type\":\"GlyphRenderer\"},{\"id\":\"9c8ef295-aa88-4c69-b8dc-1216736adcc1\",\"type\":\"GlyphRenderer\"},{\"id\":\"12514a2a-d710-43b6-a517-0a73747ec42e\",\"type\":\"GlyphRenderer\"},{\"id\":\"2065dee0-5dca-472b-9bb2-d9e91ddf540f\",\"type\":\"GlyphRenderer\"},{\"id\":\"0ac4fc48-b6a9-437b-84dd-e6af28f709b2\",\"type\":\"GlyphRenderer\"},{\"id\":\"20c8db81-b5b8-4841-862f-53b93751c141\",\"type\":\"GlyphRenderer\"},{\"id\":\"6f8db31d-990d-4f79-acb8-278b0cd01e63\",\"type\":\"GlyphRenderer\"},{\"id\":\"117e3c2b-7c8e-4f50-b020-762af45c5096\",\"type\":\"GlyphRenderer\"},{\"id\":\"6f8a4490-5fdc-46dd-9c10-61df76e60f0f\",\"type\":\"GlyphRenderer\"}],\"title\":{\"id\":\"3a120f0f-17db-4dbd-b1bd-43322323cf48\",\"type\":\"Title\"},\"toolbar\":{\"id\":\"ff5e19b0-9889-4d0b-87d6-ccd89416b181\",\"type\":\"Toolbar\"},\"x_range\":{\"id\":\"606275db-747b-45db-8832-68b602d586c8\",\"type\":\"DataRange1d\"},\"x_scale\":{\"id\":\"79e460fa-84ad-4bcc-a94d-7945375e08ee\",\"type\":\"LinearScale\"},\"y_range\":{\"id\":\"1595c7c8-3ac9-4eb3-9afa-3a9156e4313f\",\"type\":\"DataRange1d\"},\"y_scale\":{\"id\":\"03389351-19a5-4af4-9c65-71e428c411e8\",\"type\":\"LinearScale\"}},\"id\":\"663f5947-7d88-44e7-bfd5-da8537617c97\",\"subtype\":\"Figure\",\"type\":\"Plot\"},{\"attributes\":{\"callback\":null},\"id\":\"1595c7c8-3ac9-4eb3-9afa-3a9156e4313f\",\"type\":\"DataRange1d\"},{\"attributes\":{\"data_source\":{\"id\":\"b00a988f-0e76-4326-a0dc-d72a6b8c431d\",\"type\":\"ColumnDataSource\"},\"glyph\":{\"id\":\"e753011e-24da-4c49-9669-6e0161c6158a\",\"type\":\"Circle\"},\"hover_glyph\":null,\"muted_glyph\":null,\"nonselection_glyph\":{\"id\":\"ee05fece-eac7-4735-ac3b-8b031937af3c\",\"type\":\"Circle\"},\"selection_glyph\":null,\"view\":{\"id\":\"d7d2aa13-b395-4d56-abeb-7dee358ac99e\",\"type\":\"CDSView\"}},\"id\":\"117e3c2b-7c8e-4f50-b020-762af45c5096\",\"type\":\"GlyphRenderer\"},{\"attributes\":{},\"id\":\"645d9979-8d87-43b4-87c9-c618228e3c1a\",\"type\":\"BasicTicker\"},{\"attributes\":{\"label\":{\"value\":\"7\"},\"renderers\":[{\"id\":\"6f8db31d-990d-4f79-acb8-278b0cd01e63\",\"type\":\"GlyphRenderer\"}]},\"id\":\"367413be-6a4e-4bc9-bfa6-94a5752b2afc\",\"type\":\"LegendItem\"},{\"attributes\":{\"source\":{\"id\":\"e0b640d2-a9e9-48cb-8135-78c021d7569a\",\"type\":\"ColumnDataSource\"}},\"id\":\"00bc5e36-eaba-4342-bbfb-7eccc0b7f4aa\",\"type\":\"CDSView\"},{\"attributes\":{\"label\":{\"value\":\"4\"},\"renderers\":[{\"id\":\"2065dee0-5dca-472b-9bb2-d9e91ddf540f\",\"type\":\"GlyphRenderer\"}]},\"id\":\"da6f0d52-c01f-4b17-82ec-9c5bf2110dbf\",\"type\":\"LegendItem\"},{\"attributes\":{\"fill_alpha\":{\"value\":0.1},\"fill_color\":{\"value\":\"#1f77b4\"},\"line_alpha\":{\"value\":0.1},\"line_color\":{\"value\":\"#1f77b4\"},\"size\":{\"units\":\"screen\",\"value\":7},\"x\":{\"field\":\"x\"},\"y\":{\"field\":\"y\"}},\"id\":\"af48ef2f-b114-468e-82b8-df89e0f4fbac\",\"type\":\"Circle\"},{\"attributes\":{\"fill_alpha\":{\"value\":0.4},\"fill_color\":{\"value\":\"cyan\"},\"line_alpha\":{\"value\":0.4},\"line_color\":{\"value\":\"cyan\"},\"size\":{\"units\":\"screen\",\"value\":7},\"x\":{\"field\":\"x\"},\"y\":{\"field\":\"y\"}},\"id\":\"d14fb953-e721-4e3f-acdd-73050883bd37\",\"type\":\"Circle\"},{\"attributes\":{\"data_source\":{\"id\":\"03ba6734-b3b6-4d7b-931c-c05f1cb13f09\",\"type\":\"ColumnDataSource\"},\"glyph\":{\"id\":\"52901b1d-3d65-4d1e-921e-21b35de1cae4\",\"type\":\"Circle\"},\"hover_glyph\":null,\"muted_glyph\":null,\"nonselection_glyph\":{\"id\":\"451d87e4-c6f8-43a6-8ee1-ff1ae1da1017\",\"type\":\"Circle\"},\"selection_glyph\":null,\"view\":{\"id\":\"d4aecae2-d59e-4d62-8d92-126d83f26769\",\"type\":\"CDSView\"}},\"id\":\"20c8db81-b5b8-4841-862f-53b93751c141\",\"type\":\"GlyphRenderer\"},{\"attributes\":{\"fill_alpha\":{\"value\":0.1},\"fill_color\":{\"value\":\"#1f77b4\"},\"line_alpha\":{\"value\":0.1},\"line_color\":{\"value\":\"#1f77b4\"},\"size\":{\"units\":\"screen\",\"value\":7},\"x\":{\"field\":\"x\"},\"y\":{\"field\":\"y\"}},\"id\":\"ee05fece-eac7-4735-ac3b-8b031937af3c\",\"type\":\"Circle\"},{\"attributes\":{\"fill_alpha\":{\"value\":0.1},\"fill_color\":{\"value\":\"#1f77b4\"},\"line_alpha\":{\"value\":0.1},\"line_color\":{\"value\":\"#1f77b4\"},\"size\":{\"units\":\"screen\",\"value\":7},\"x\":{\"field\":\"x\"},\"y\":{\"field\":\"y\"}},\"id\":\"2800e627-4882-493a-b95c-7c564550a4f2\",\"type\":\"Circle\"},{\"attributes\":{\"bottom_units\":\"screen\",\"fill_alpha\":{\"value\":0.5},\"fill_color\":{\"value\":\"lightgrey\"},\"left_units\":\"screen\",\"level\":\"overlay\",\"line_alpha\":{\"value\":1.0},\"line_color\":{\"value\":\"black\"},\"line_dash\":[4,4],\"line_width\":{\"value\":2},\"plot\":null,\"render_mode\":\"css\",\"right_units\":\"screen\",\"top_units\":\"screen\"},\"id\":\"3f22c56b-db58-4d9c-b09f-29719f4ed0b5\",\"type\":\"BoxAnnotation\"},{\"attributes\":{\"source\":{\"id\":\"03ba6734-b3b6-4d7b-931c-c05f1cb13f09\",\"type\":\"ColumnDataSource\"}},\"id\":\"d4aecae2-d59e-4d62-8d92-126d83f26769\",\"type\":\"CDSView\"},{\"attributes\":{\"fill_alpha\":{\"value\":0.4},\"fill_color\":{\"value\":\"green\"},\"line_alpha\":{\"value\":0.4},\"line_color\":{\"value\":\"green\"},\"size\":{\"units\":\"screen\",\"value\":7},\"x\":{\"field\":\"x\"},\"y\":{\"field\":\"y\"}},\"id\":\"10f85c77-f87f-4e69-92cb-6315c4462373\",\"type\":\"Circle\"},{\"attributes\":{},\"id\":\"da6fbc77-42b0-46e3-80e7-5c1393932e3a\",\"type\":\"PanTool\"},{\"attributes\":{\"source\":{\"id\":\"c8f7025a-af0e-4058-8a63-802dd3e0da93\",\"type\":\"ColumnDataSource\"}},\"id\":\"762eac88-88f2-478d-91e2-ad417741e588\",\"type\":\"CDSView\"},{\"attributes\":{\"data_source\":{\"id\":\"a767b0e1-af54-45e8-a6c2-56e616877326\",\"type\":\"ColumnDataSource\"},\"glyph\":{\"id\":\"6a8e8526-0552-40e5-8bc5-da635025fb5e\",\"type\":\"Circle\"},\"hover_glyph\":null,\"muted_glyph\":null,\"nonselection_glyph\":{\"id\":\"0329c7cb-438c-497a-8d74-7c96a816e509\",\"type\":\"Circle\"},\"selection_glyph\":null,\"view\":{\"id\":\"b0ede82f-e46b-4665-be4a-ba064967da11\",\"type\":\"CDSView\"}},\"id\":\"6f8a4490-5fdc-46dd-9c10-61df76e60f0f\",\"type\":\"GlyphRenderer\"},{\"attributes\":{\"label\":{\"value\":\"6\"},\"renderers\":[{\"id\":\"20c8db81-b5b8-4841-862f-53b93751c141\",\"type\":\"GlyphRenderer\"}]},\"id\":\"b169a93f-d2f9-4c37-a0a6-9bafcbbb18f0\",\"type\":\"LegendItem\"},{\"attributes\":{\"plot\":{\"id\":\"663f5947-7d88-44e7-bfd5-da8537617c97\",\"subtype\":\"Figure\",\"type\":\"Plot\"},\"ticker\":{\"id\":\"5d579ffa-ce9f-44e7-810e-8ac323536d19\",\"type\":\"BasicTicker\"}},\"id\":\"a830f757-f502-4cb0-b941-4786d166c5ca\",\"type\":\"Grid\"},{\"attributes\":{\"fill_alpha\":{\"value\":0.4},\"fill_color\":{\"value\":\"magenta\"},\"line_alpha\":{\"value\":0.4},\"line_color\":{\"value\":\"magenta\"},\"size\":{\"units\":\"screen\",\"value\":7},\"x\":{\"field\":\"x\"},\"y\":{\"field\":\"y\"}},\"id\":\"c469b16f-1c7b-4abe-9a95-805e7afac6d5\",\"type\":\"Circle\"},{\"attributes\":{},\"id\":\"5d579ffa-ce9f-44e7-810e-8ac323536d19\",\"type\":\"BasicTicker\"},{\"attributes\":{\"fill_alpha\":{\"value\":0.1},\"fill_color\":{\"value\":\"#1f77b4\"},\"line_alpha\":{\"value\":0.1},\"line_color\":{\"value\":\"#1f77b4\"},\"size\":{\"units\":\"screen\",\"value\":7},\"x\":{\"field\":\"x\"},\"y\":{\"field\":\"y\"}},\"id\":\"8a96707f-6b35-42e6-b38b-4ed4c54cf70d\",\"type\":\"Circle\"},{\"attributes\":{\"fill_alpha\":{\"value\":0.1},\"fill_color\":{\"value\":\"#1f77b4\"},\"line_alpha\":{\"value\":0.1},\"line_color\":{\"value\":\"#1f77b4\"},\"size\":{\"units\":\"screen\",\"value\":7},\"x\":{\"field\":\"x\"},\"y\":{\"field\":\"y\"}},\"id\":\"794584c3-8c44-43fb-b8d0-7f6537176a5e\",\"type\":\"Circle\"},{\"attributes\":{\"data_source\":{\"id\":\"73578b68-9b04-4717-8dfd-c7303893e3c4\",\"type\":\"ColumnDataSource\"},\"glyph\":{\"id\":\"025c5cc4-daaf-4a5e-b241-4559ca178326\",\"type\":\"Circle\"},\"hover_glyph\":null,\"muted_glyph\":null,\"nonselection_glyph\":{\"id\":\"2800e627-4882-493a-b95c-7c564550a4f2\",\"type\":\"Circle\"},\"selection_glyph\":null,\"view\":{\"id\":\"6efdb45f-c17f-48c6-b875-a3f04172308a\",\"type\":\"CDSView\"}},\"id\":\"bb7035b6-4d83-4ff7-9485-217ed7fce6bf\",\"type\":\"GlyphRenderer\"},{\"attributes\":{\"fill_alpha\":{\"value\":0.1},\"fill_color\":{\"value\":\"#1f77b4\"},\"line_alpha\":{\"value\":0.1},\"line_color\":{\"value\":\"#1f77b4\"},\"size\":{\"units\":\"screen\",\"value\":7},\"x\":{\"field\":\"x\"},\"y\":{\"field\":\"y\"}},\"id\":\"fe489eed-b021-48e6-b7a1-cbb8ecc58a80\",\"type\":\"Circle\"},{\"attributes\":{\"overlay\":{\"id\":\"3f22c56b-db58-4d9c-b09f-29719f4ed0b5\",\"type\":\"BoxAnnotation\"}},\"id\":\"2b9e1dad-6ffa-415e-8727-0b88db6e2904\",\"type\":\"BoxZoomTool\"},{\"attributes\":{\"source\":{\"id\":\"4a96c895-868a-4bad-aa69-3ec0276c9c9b\",\"type\":\"ColumnDataSource\"}},\"id\":\"778beec4-04fb-4858-a924-3d88e6f792e0\",\"type\":\"CDSView\"},{\"attributes\":{\"label\":{\"value\":\"5\"},\"renderers\":[{\"id\":\"0ac4fc48-b6a9-437b-84dd-e6af28f709b2\",\"type\":\"GlyphRenderer\"}]},\"id\":\"fc111933-7f0b-4ca9-bd2d-1bd18ee48d2d\",\"type\":\"LegendItem\"},{\"attributes\":{\"label\":{\"value\":\"0\"},\"renderers\":[{\"id\":\"bb7035b6-4d83-4ff7-9485-217ed7fce6bf\",\"type\":\"GlyphRenderer\"}]},\"id\":\"b9695a54-b2d6-4039-96dc-59a5a21452b9\",\"type\":\"LegendItem\"},{\"attributes\":{},\"id\":\"79e460fa-84ad-4bcc-a94d-7945375e08ee\",\"type\":\"LinearScale\"},{\"attributes\":{\"fill_alpha\":{\"value\":0.1},\"fill_color\":{\"value\":\"#1f77b4\"},\"line_alpha\":{\"value\":0.1},\"line_color\":{\"value\":\"#1f77b4\"},\"size\":{\"units\":\"screen\",\"value\":7},\"x\":{\"field\":\"x\"},\"y\":{\"field\":\"y\"}},\"id\":\"451d87e4-c6f8-43a6-8ee1-ff1ae1da1017\",\"type\":\"Circle\"},{\"attributes\":{\"callback\":null,\"column_names\":[\"y\",\"x\"],\"data\":{\"x\":{\"__ndarray__\":\"tj5UQJcXQECmVH5APdahQA6aQ0F8R6NAQ9XPQEcJiUDQs+q/FeEqQZOMWUEYiMtA/WCHQGGr4j/32fFAZ/5FQMwZe0GUD1dA4qozQfZWEL1p8c9AVdFBQctYmj9gII5AEZEOQZzRwECaWeFADzbBQOWhLUAIhDRByNPOQGeIJEG+B91A8raeQN65SEG9hpVAvohzQSHWFkHy4bdAXfk8QCMSKUEwY9VBLl4cQBgLAEHhZBhAsE+lQDqkvkDWb3BBZpFRQUYqfkALNQBBOcA2QT6aK0HUc9NBNMrYPkRBCUFPkQJAa8oUQeGMi0BkApC/nNXKQAarvT+7pIVAV5bgP1ScBUEY2CxBL1haQOKiGEAL+B8/PZ7SQNCrkECdIuM9qIx8QVj/hb9e7Ou/9B+YQH7mPkAzSutAS6Y8vvfPPUHVogtBj+RDQTqu5UDyR5pAlOrJQA1IwEA0d3Q/tUSHQM3mS0CYuqtAc7dNQUzHukCH49JAM2LpQJs4q0DginhBuCYQQDGI3z42CepB1zS2vw6YUL5Pf7W+QLUgQSJ/uD+HHKI/iGQzQQ6ikkCE8UlBnapvP14moj/r7CpAdfyZv6LlXUG47C8/+gkaQQW+2EDX2Ke/hM2Vv56jQkBtRSpA5ucfQMGS1ECUUJBAOY/pQMx5Zz4=\",\"dtype\":\"float32\",\"shape\":[125]},\"y\":{\"__ndarray__\":\"AZkmwlZQCMJLEC7CDpEbwqs2z8GvZhLCv/wIwt3eDsJf/xvCF860wV3XscFZQw/COKawwcLnIMInCsvBmdsKwlEyx8ESpwDCTCS4wTnUG8JCvwTCRAymwUr5D8Jj5BvCui+8wTqsy8F1yvXBgXPNwcUzDcK5H6zBbaMZwk4o3cE+9QDCm08kwuavpsH/NibCtT+2wQMjrsGS8RbCWaQZwsSL2cFfPS5A1kz0wRt9+sFugQTCvkT0wSzoB8LuO7rBkZCvwaCWEMJMmefB1w/AwUaNqMGSUGdAUOAswmiG6cF2lS7CAfy3wU3TI8JPcgvCAPivwSbfI8K1/O7B1dsLwudD2sGDyMHBkq0xwscbEcK7QSDCitC0weDI2cGFngjCUEuywTYwD8JIQiLCqwriwZzkEsIGMe/BNQwFwpaSusEot8fBXhOvwdD24MFg8xbCUherwenz1sE3zwXCRP8GwnpM/cFASfzBcde4wfT5EMLRV9LBXgzcwaNS4cGZy7zBOtT/wWf7LsI6ygJBVTIGwoi3AMKKZ37BlsfKwVCULMJyWifCHtuiwVoDAsIDusHBa30VwvtwF8JmhgfCO5MpwhS3usE3iB3C0wDbwTkRu8GgthTCLuAAwpNKL8JljCnC+1cmwj8X3sEpsQvCPnQSwnqOJ8I=\",\"dtype\":\"float32\",\"shape\":[125]}}},\"id\":\"8ae9da0a-7b99-4914-b705-f826a0b12fc0\",\"type\":\"ColumnDataSource\"},{\"attributes\":{\"callback\":null,\"column_names\":[\"y\",\"x\"],\"data\":{\"x\":{\"__ndarray__\":\"7D6nPrCv3MD1e2VAkWgAwf0XwMAbCz3BEPCWv0KLX8F14s5B+gaTwGQQmT/ihlQ/L0n2wKNQIsDZatI/094YwXGUBMJZ3aw+3J9MwDvcxsDnoxm/V4atQAZBAsHBrf/AgekEwGXcQcGBxCDBh2B3wBXVnUDlO8LAbincwBr0x8AGTM2/KOuyP6rxlMEqV9zA5Mt8wRxWTb8H5ZbAbgcnwOyVVcE0nBNAmBqYvz0lyEBE9qzAs45rv+4/isADhoBA6tPKP7T1jsCUmCPBh1e7Pi37kcCpsS/BLLqSQOcCBMJX4ydAeKfxwFOZkECUbSC/BLN2QWs13T1WpMnANx+nwO7e7b8MQP/ADLN4QNlOc8D/joxADT0iwEjEsEDJLALB7Wj8wNLfj0GvGsfA6WITwQQN5cBIM5DALm4ywedWwj9ouTjA+85Av/RfBMA1foJBn2IswEwgaUBZsMdB+cbfwMc+FMEZjcLA8SgbwdMWIsFfzo7AG/VoQMa0ScEZIQjBPa3kwStCvMD4wtY//MAEwhCR5cA2arw/wX3Iwc3DDMGnMqrACFLXwDQi2L9pBrE+VrTcP7Gy87+xgShAwPYdwecmFcE=\",\"dtype\":\"float32\",\"shape\":[113]},\"y\":{\"__ndarray__\":\"EyrGwOdcGsFdHz/AOMbAwA64KcHcJALB6+LhwIlnwcDgjI3BXuM4wf5QJMAxYx7B7/XCv/CdBcH837PBRsXWwDUsskCtAkTBoqOGv3hu58BokUzBXTDZwO40fMBn/JPAGZ7GwNSfp8AtlLbAKc9EwSOSDMAUqUjBqGmhPpaxGcHmzonAzoNOwTgiYEBAzzPB6qesP3OTvMDP2UnAX97ZwBHa1MATOF7BwghnwSjGzcBU4a1BtMQBwe3Z2MCClhrApKFpwFkGrMBs5AbBcG4ewWvpDcH9Eky8j2PiwA3Gk0A688fBC2nBQHYAycG9uVnB8bN9QIJyicEAhujAA3pDwBaAc8DfdkPBHj0NwWbNv74fud3AoQK4QWR/BMCVKwjAbXjmQNauhMB/Y7fAwAmDv8vnk0HFTzfBMSKAv0kB08DxezjATdkawTpHKsGqAjVAxUQMwfvElsDtJxfADv5/v4o3bMA0e4bA3vm9wKxnUcBxP+/AwauTwJO/kcDiUdBAHbBGwRyEt7/Ie5/BnOe1QPxlW8AAZj/APElrQUi/BsGXMpDAbSmqQJ71EsBHBn2/Sr+HwErgG8HkRwHB6FUJwR1VysA=\",\"dtype\":\"float32\",\"shape\":[113]}}},\"id\":\"b00a988f-0e76-4326-a0dc-d72a6b8c431d\",\"type\":\"ColumnDataSource\"},{\"attributes\":{\"label\":{\"value\":\"2\"},\"renderers\":[{\"id\":\"9c8ef295-aa88-4c69-b8dc-1216736adcc1\",\"type\":\"GlyphRenderer\"}]},\"id\":\"79ea54af-711f-4fe6-a357-9a4482fc00f7\",\"type\":\"LegendItem\"},{\"attributes\":{\"fill_alpha\":{\"value\":0.4},\"fill_color\":{\"value\":\"blue\"},\"line_alpha\":{\"value\":0.4},\"line_color\":{\"value\":\"blue\"},\"size\":{\"units\":\"screen\",\"value\":7},\"x\":{\"field\":\"x\"},\"y\":{\"field\":\"y\"}},\"id\":\"025c5cc4-daaf-4a5e-b241-4559ca178326\",\"type\":\"Circle\"},{\"attributes\":{\"callback\":null,\"column_names\":[\"y\",\"x\"],\"data\":{\"x\":{\"__ndarray__\":\"O9ToQf5sykEa2g5C5qC4QWXVAELlLKFBlHKWQcOP30GNh71B0xGzQfOH6MGIp9RB/ha5QXEoukEYca9BySsKQpwItkECFaxBfygJQkIZyUFzig9CCCKpQQW5ykGrDP9BJ0G2QUe5B0L7rJdBIzOhQWDD8EFDYbBB0KzoQcmUu0FgjQtCE5ftQYTx0EE1vwZC8A3FQedF10F0rr9Bi8UUQpf/+0EaQfxB+OriQT/NukHhr6FB5DLsQXpBqEE01rxBdXpxQf9M0EEz4wlCY9PjQby4rUEtgK5BGuycQWfJs0GW6rVBQgMCQr8imkEj6LZB0kX4QcVPj0GH3vFBdhEJQndU5EEARJVBdmPYQVeoi0FIMrZB0gnEQfKenkEQb7VBm1ylQZMIlEFW9JlBSDrJQd6HEULiLr1BJ2f9QUkTC0JbG8hBY5/AQTbtyUGUGsJBcB6hQc8GlUFoxwlC+3XZQSKavEHNRqRBoabmQZ05uUEjJsZBohu6QXW8AELWlYZBhOuaQaT0CkKixMZB\",\"dtype\":\"float32\",\"shape\":[99]},\"y\":{\"__ndarray__\":\"Vaa3QVHuS0ERuotBAi+gQDvEskEKpDNBeNOdQYFZlUGw8G9BmFFsQWFYz0HSCNtBbNwOQTPbWUCGqlxB0r21QVFhlUGlhQVA6lOVQXc4qEGGU4ZBwQyuQXKyskGv0LpBkj22QQEdlkGjVU8/k3x/QVW2NUEsXQnAstmhQU6zAkFpXLRBI4zBQQVfnkFOaoZBGlqGQd2Wq0E/nYNBynmTQXT0k0FiWaFBsGCzQT4/hD72DG1B47fAQUHul0Gc46JBnBGFv+CIoEFn3qJBFcqlQapepUFs9rFBmlerQaTZVUEjOxRBL7qmQX57NUF2T4dBf5CuQcPy4j5TeZZB7VuHQT1bwUEwRJpBAV+/Qfrdk0HLQY1B1VvCQRcdQEEMU7tBXftmQSLPe0FE7XNBSwylQNlYmUEkVjJBu5GnQSD5N0HVFDNB1W+MQSomQ0HWUp1BEz9LQc3ZR0H0paJB3gGgQcmdnUGxpphB4OueQYM3iz+bSINAlbSsQSP3mkFM0SlAAopCQb5xf0Hmqb5B\",\"dtype\":\"float32\",\"shape\":[99]}}},\"id\":\"e0b640d2-a9e9-48cb-8135-78c021d7569a\",\"type\":\"ColumnDataSource\"},{\"attributes\":{},\"id\":\"d8c24953-4e00-4769-93bb-14a272e05cb1\",\"type\":\"ResetTool\"},{\"attributes\":{\"source\":{\"id\":\"a767b0e1-af54-45e8-a6c2-56e616877326\",\"type\":\"ColumnDataSource\"}},\"id\":\"b0ede82f-e46b-4665-be4a-ba064967da11\",\"type\":\"CDSView\"},{\"attributes\":{\"callback\":null,\"column_names\":[\"y\",\"x\"],\"data\":{\"x\":{\"__ndarray__\":\"ykkOQipq40GkfrtBVEkbQh53DELLJZZBGcTkQUNAJ0KNHhtC85rnQZoJGkL07CRCEJzbQYNP70FwVgBC6ekLQqfe4EE1RSdCEzEgQrBlEEKg6SJCArHwQfboGEKtMBVBN6gAQnoa3EHInQ9Cmy0KQkzTIkIqVyVCPs+QQeuk60FPXQZCXO7sQWnl6kGgsSNCCnLBQd/A9UHL7BNCe5oXQhCM70Fh/exB/0DjQYb7D0Ir9BZCthwMQpogFkJ1beVBXHEoQoMMLEIKLQNCV7obQvhtJULbsSBC6lIZQissGELaOh5CKJsgQmd96kFWkepBYGUNQodaJ0K1GClCkDIIQoy+AUI2PAJCfHAfQtbVJEI54SBCyTUPQkmSGULmhx5CzOH3QfxxC0IBbCZCMY4XQkVQdEGfShZCvy0MQrqLEUIUaylCST7aQXaqkkFY1hRCC8spQv3DH0KJ5CFCne7+QfR/9kHfbypCgf4YQtRb48HvLxFC824oQk7ulkE=\",\"dtype\":\"float32\",\"shape\":[95]},\"y\":{\"__ndarray__\":\"0YaKwSeJRcF5+YfAmwZhwcgNaMGNtrhAsMU/weFWisF+x3LBmKElQZ4LhsH0RPbAhT48wT/IhcH9U4PByWFAwYg9hcFZM/DA7LBOwaEMg8EUSprBKecOwbaI38B0Vp3BpLDiwAQeVcGl/3TBhn9awUF0QMGinZzBgV75QGx98MB1yzTAbkiKwYuFUcGTi3nBnpmIwMUQ0MC294zBsf1XwWfbU8EHrJTBYB1bwWmSKcGvgUbBY/I+wXp06MCsNIjBdRDcwG8+WcF0e0vBWz8wwcVCIsEJF33B9/qXwWKXT8EKX3vBrUiTwRp6gsHwKRDBJPuDwaHmS8E4TDXBic/kwBtf68CCLIHBkbzYwD4kVMHoTl7BpABjwdQcl8HF1UnByNiGwYdr5cDEKMbAEgGHwU2jiD/YgW3B4ReQwVJNSsGNQWTBfHqDwapn4kCQnj3BZ152wS5N/8AHNRLBfbMlwdLZFcEo7mrBQfU5wa9nsUEXvmfBcxsfwTwstEA=\",\"dtype\":\"float32\",\"shape\":[95]}}},\"id\":\"4a96c895-868a-4bad-aa69-3ec0276c9c9b\",\"type\":\"ColumnDataSource\"},{\"attributes\":{\"callback\":null,\"column_names\":[\"y\",\"x\"],\"data\":{\"x\":{\"__ndarray__\":\"fOMwQa3V28AtW0HBFlMdwfflCz/GcorAM8GvP3PbAkEOcCRAdpzFwDfjOEHpz3NAkm9bQCLVBsHah7RAUgJpQAlQksDjOxDBNa2tQBPOuEH4Cx3AOUHIwGq3GcGfSELABImHwSaxNMHu6XbBcL0VwRKejUDmGPTAB/NbQddrDsIsXe/AILqPwArG6UDv4dxA66wTQBCAq8CgULHAp9L2QfOeWsBYuERA4J3BQUwtdEAqQL6/67M1wQBl/sDG0uvAFI2uwMVfxUBYVfvAye3Wvw39FD8FrwnBTyVpQNQEmMCydBXBO9RSQEG1kT9vwgpBTHlGwYyZJEGHesFAwd4SwaQm/8DTZClBej2wvroLsb+5WtZBTHQeQYjfCT+bNtPA9PB4QY7coUDnP0BA8xWrQPwu50DJ90DAxzrLP/s0A8FFQTDBjNcAQJ+5F0EYli1BMFQGwdOPLkHlsyXBJjBOwbmxQEAaCDHBnw9+vkwlCUByhcK/LX/0vw==\",\"dtype\":\"float32\",\"shape\":[94]},\"y\":{\"__ndarray__\":\"shXkQGTOh8Hq/pbBTPGXwXDWGkHLE5zBsTjbQIsJQkHbkktB7OzKwUYPHEHVnVRBOTAEQekFnsHvhxlBWbhAQXHylsGqi9LBWbUcQd1xMsHgN4lBVQrEwaX4p8HzWnLBK/yjwLq+rMGtep/BZF2mwTPz1EAJ23/BB/3HP7uRIsAQrbXBARGUwSZs40CArWVBhmH1QMNWqcHDgcrBfhIDwdDyxcF0ErJA7uY0wYDBCUHxyv5AqyS+wW3xjMGU7LTBfrTAwQjM0kATysnBvnwHQYtQsMGFg1zB928ZQcLzyMHtbGDBqtE4QWA/3D/YsvpALdmOwcaPPkAL/kpBmPp2wSY1k8FN4hRB5wUWQYQ+5EC+2ZXBEDgcQbhw88GpcqXBj0djPvt46kD/mLxAr2qdQECNX0H8jsXBIsIGQat7vMERJLPB3LIUQQVmT0B5kRVBa9HNwc296UB0QpnBNeKqwZF95ECzbrfBfvsbQc3OQ0FAFdDBWPq/QA==\",\"dtype\":\"float32\",\"shape\":[94]}}},\"id\":\"c8f7025a-af0e-4058-8a63-802dd3e0da93\",\"type\":\"ColumnDataSource\"},{\"attributes\":{\"fill_alpha\":{\"value\":0.4},\"fill_color\":{\"value\":\"coral\"},\"line_alpha\":{\"value\":0.4},\"line_color\":{\"value\":\"coral\"},\"size\":{\"units\":\"screen\",\"value\":7},\"x\":{\"field\":\"x\"},\"y\":{\"field\":\"y\"}},\"id\":\"e753011e-24da-4c49-9669-6e0161c6158a\",\"type\":\"Circle\"},{\"attributes\":{\"fill_alpha\":{\"value\":0.4},\"fill_color\":{\"value\":\"red\"},\"line_alpha\":{\"value\":0.4},\"line_color\":{\"value\":\"red\"},\"size\":{\"units\":\"screen\",\"value\":7},\"x\":{\"field\":\"x\"},\"y\":{\"field\":\"y\"}},\"id\":\"8a9522d9-fcc7-40f7-9fe9-63e19a2f1ad1\",\"type\":\"Circle\"},{\"attributes\":{\"data_source\":{\"id\":\"e8a2623e-590f-4a2e-bdc0-d888441b30e0\",\"type\":\"ColumnDataSource\"},\"glyph\":{\"id\":\"62ec258e-dc98-446f-95b4-62608cc070ca\",\"type\":\"Circle\"},\"hover_glyph\":null,\"muted_glyph\":null,\"nonselection_glyph\":{\"id\":\"794584c3-8c44-43fb-b8d0-7f6537176a5e\",\"type\":\"Circle\"},\"selection_glyph\":null,\"view\":{\"id\":\"9644e31a-2894-4d54-b3bb-edfda9dd223d\",\"type\":\"CDSView\"}},\"id\":\"0ac4fc48-b6a9-437b-84dd-e6af28f709b2\",\"type\":\"GlyphRenderer\"},{\"attributes\":{\"data_source\":{\"id\":\"e0b640d2-a9e9-48cb-8135-78c021d7569a\",\"type\":\"ColumnDataSource\"},\"glyph\":{\"id\":\"c469b16f-1c7b-4abe-9a95-805e7afac6d5\",\"type\":\"Circle\"},\"hover_glyph\":null,\"muted_glyph\":null,\"nonselection_glyph\":{\"id\":\"fe489eed-b021-48e6-b7a1-cbb8ecc58a80\",\"type\":\"Circle\"},\"selection_glyph\":null,\"view\":{\"id\":\"00bc5e36-eaba-4342-bbfb-7eccc0b7f4aa\",\"type\":\"CDSView\"}},\"id\":\"2065dee0-5dca-472b-9bb2-d9e91ddf540f\",\"type\":\"GlyphRenderer\"},{\"attributes\":{},\"id\":\"b8c9992a-2490-493b-b3c0-f8974808f54e\",\"type\":\"SaveTool\"},{\"attributes\":{\"label\":{\"value\":\"8\"},\"renderers\":[{\"id\":\"117e3c2b-7c8e-4f50-b020-762af45c5096\",\"type\":\"GlyphRenderer\"}]},\"id\":\"ac2c4e2b-80ac-4b33-a416-7970a29872cc\",\"type\":\"LegendItem\"},{\"attributes\":{\"callback\":null,\"column_names\":[\"y\",\"x\"],\"data\":{\"x\":{\"__ndarray__\":\"IGwTwthMFsJpag/CbfshwiyeNMK+pi3C24s3wn6YDMIT4SXC4iQowieEIcJjRznCgbUHwgiRI8KY0ibC4Vsawm0DCMKsrCzCk4EmwtbPDsLDpPDBjJQdwh/hIMLEBefB2MUuwuG9S8Kk9APCV1EvwujwJMIghybCPybmwZ7oEcIuGCvCbGgiwjwWEcKR5xHCTd8WwpzeP8KXORbCGcdMwlunIMLg6zLC/dIgwseFLMI+OCrC9RoHwuYZScI4mTDCackhwrmEMsKlBSzCu+QvwgaZHsJFbgrCdB4Gwi2YHsJFjknCIzcvwqCiJ8JsGBjC2e4vwhoMI8KmEjPCA0AkwtrrGsJvbzTCDh8XwgL0LcL1VDjCvY8lwuuyKcLLzSLCz443wpZvFsFnZATCiPslwqfiIcKWLzDCbe8CwvVQHsKihwrCOjwlwhgoKsIYCx3C6hj5wX6NCsK+4g7C9FcKwjBwDcKdBBrCeenywf7+JsLtXSvCYmETwtM8PMI=\",\"dtype\":\"float32\",\"shape\":[95]},\"y\":{\"__ndarray__\":\"sT1+QfJThUFZUbVBW7SIQalYqkFELIxBoK6RQfEzzUGIl3pBBwrOQa0Eu0HBALVB5N5VQa2uikE1xMRBfyyrQe3XrkFBnM1B3MBdQRdmgUEny9JBMn64QaqjzUGahL1BNYK8QY+CwUEQAapBgqZ3QdJ3u0H2XEJBEwPCQe3oxUG0RphBTs6jQSWVgkG/SLVBppNhQTNJqEGKCLxB0ELEQTkE00F8n51BRcSVQaD7aUENx6hB8NvCQfDst0H/YbRBJGPGQesjx0GahYlBRG/HQfRZT0GkPMJBAm2tQThVskGm9blBiMGTQerLiUFXSHNB1U6cQdC7KEH2ybdBWmmxQalcgkHLr5ZBt0q+QZLFokHrs6BBaHCRQebfvUE3TXZBwP2LQX0RqkFBXMJBoYtCQUvEtkHfDI1BQMOwQRfdjUFTAKlBXIuYQWgo0kFMOIJB9L7AQeaYmUGIhrxB1gCZQUa4uUEXn7FBwzfAQf1sfEFkqZFBYdyoQXx6r0E=\",\"dtype\":\"float32\",\"shape\":[95]}}},\"id\":\"73578b68-9b04-4717-8dfd-c7303893e3c4\",\"type\":\"ColumnDataSource\"},{\"attributes\":{\"fill_alpha\":{\"value\":0.1},\"fill_color\":{\"value\":\"#1f77b4\"},\"line_alpha\":{\"value\":0.1},\"line_color\":{\"value\":\"#1f77b4\"},\"size\":{\"units\":\"screen\",\"value\":7},\"x\":{\"field\":\"x\"},\"y\":{\"field\":\"y\"}},\"id\":\"5a6260d2-f21a-4b3e-9f22-8c630ee427f0\",\"type\":\"Circle\"},{\"attributes\":{},\"id\":\"22512420-de78-4173-a53d-3213bda2b80f\",\"type\":\"BasicTickFormatter\"},{\"attributes\":{\"formatter\":{\"id\":\"bf5fb8d0-c55c-437d-a425-0a54783df9fa\",\"type\":\"BasicTickFormatter\"},\"plot\":{\"id\":\"663f5947-7d88-44e7-bfd5-da8537617c97\",\"subtype\":\"Figure\",\"type\":\"Plot\"},\"ticker\":{\"id\":\"5d579ffa-ce9f-44e7-810e-8ac323536d19\",\"type\":\"BasicTicker\"}},\"id\":\"4ebeb71e-b539-4ff0-9c80-be1afbeed79a\",\"type\":\"LinearAxis\"},{\"attributes\":{\"fill_alpha\":{\"value\":0.1},\"fill_color\":{\"value\":\"#1f77b4\"},\"line_alpha\":{\"value\":0.1},\"line_color\":{\"value\":\"#1f77b4\"},\"size\":{\"units\":\"screen\",\"value\":7},\"x\":{\"field\":\"x\"},\"y\":{\"field\":\"y\"}},\"id\":\"0329c7cb-438c-497a-8d74-7c96a816e509\",\"type\":\"Circle\"},{\"attributes\":{\"fill_alpha\":{\"value\":0.1},\"fill_color\":{\"value\":\"#1f77b4\"},\"line_alpha\":{\"value\":0.1},\"line_color\":{\"value\":\"#1f77b4\"},\"size\":{\"units\":\"screen\",\"value\":7},\"x\":{\"field\":\"x\"},\"y\":{\"field\":\"y\"}},\"id\":\"fef73daf-b47f-41b8-8adf-c47372ddcf54\",\"type\":\"Circle\"},{\"attributes\":{\"callback\":null},\"id\":\"606275db-747b-45db-8832-68b602d586c8\",\"type\":\"DataRange1d\"},{\"attributes\":{\"source\":{\"id\":\"73578b68-9b04-4717-8dfd-c7303893e3c4\",\"type\":\"ColumnDataSource\"}},\"id\":\"6efdb45f-c17f-48c6-b875-a3f04172308a\",\"type\":\"CDSView\"},{\"attributes\":{\"source\":{\"id\":\"b00a988f-0e76-4326-a0dc-d72a6b8c431d\",\"type\":\"ColumnDataSource\"}},\"id\":\"d7d2aa13-b395-4d56-abeb-7dee358ac99e\",\"type\":\"CDSView\"},{\"attributes\":{\"callback\":null,\"column_names\":[\"y\",\"x\"],\"data\":{\"x\":{\"__ndarray__\":\"GKRLwOc3kcCMyOnANE7hwFogD8HduIrAF9VPwcg2P8HtLArAxigPwel83r+bu9DAPwc3wSbUTMHWJRDB3OIUwUNj+cAf0SfAF4bvwClJoMDkryDB8iUIwdZV1MCS0kbB8w+wPfrnR8F3lLjALYrCv1gu9L9zyp0/e4OsP40/hcDCxfk+49mswG+DYcBorbs+H0MbwDnqc8C2oH2/zHsCwaFGvT5VhDLBO9ehv3zIkz+FIpDAwJFkwSCXAcEW1CvBpRRpwJpkGMHCZfPAl8gTwd31gL8ZPD++nT7JwAUNgsDVXybBSTAKwM0AMMEpRAXBOfNVvuaxWsE74i/B94cxwVmIJ8F+8mbALs9ZwbhntMAc0Pe/bupawAi9ycBK/UrBfJsFwegTFsEolrHAJyw6wIuJocDlqBDAEJVUwef/CMHNJ57AWdWPv9d5aMHoBh7BtAjIv7Ca/kBsJeXAVJbkwDa+DsFPgjTB+mCpwLnRqcBgrxbAM0SiPyHlBcE=\",\"dtype\":\"float32\",\"shape\":[95]},\"y\":{\"__ndarray__\":\"0F/1QRA6E0KJogFCWhe7QRBFwEFBs/RB83KwQR+5r0FL9OtB9oPLQShsxkFQwRBCSlbfQeMM60E3Mg5CZi7tQYgzu0FT/g9C5T3SQTGsw0FpbrhBKSEPQtP3B0IWFMVBTpjrQX8E1kFz4gdCCTvwQbA09UGfzRFCP4MGQn8w0UEDy/tB7aXtQcvqCELPtwtC55UOQv6jDkJHxBRCM/sHQjAl90FcbfFB6Z75QQXnEEJs4QxCksItQSAN9UFlNbdBrJ/FQe2y6kGDOxFCQzzHQZ/x3UHh/QpCEqgVQhf80kHkweZBcW7zQaD43kEiggVCrgUFQuWSukEniOlBZRb2QdjMw0GrngBCApzaQfYX10Eytv5BlK8SQiRz60EUCPJBG6wDQnnnuEHXR/1BecvKQdgMxUGXmwRCv9i6QaHUsEEftOdBxFUYQkpD2UFCWttBiBMEQirdVEHDy+ZB2CTyQVJawUGeBtJBceH+Qcbb1UFm7hVCMNAIQmhbzEE=\",\"dtype\":\"float32\",\"shape\":[95]}}},\"id\":\"03ba6734-b3b6-4d7b-931c-c05f1cb13f09\",\"type\":\"ColumnDataSource\"},{\"attributes\":{\"label\":{\"value\":\"9\"},\"renderers\":[{\"id\":\"6f8a4490-5fdc-46dd-9c10-61df76e60f0f\",\"type\":\"GlyphRenderer\"}]},\"id\":\"0931c287-b25b-4803-afae-95c8796a7ed4\",\"type\":\"LegendItem\"},{\"attributes\":{\"data_source\":{\"id\":\"8ae9da0a-7b99-4914-b705-f826a0b12fc0\",\"type\":\"ColumnDataSource\"},\"glyph\":{\"id\":\"10f85c77-f87f-4e69-92cb-6315c4462373\",\"type\":\"Circle\"},\"hover_glyph\":null,\"muted_glyph\":null,\"nonselection_glyph\":{\"id\":\"5a6260d2-f21a-4b3e-9f22-8c630ee427f0\",\"type\":\"Circle\"},\"selection_glyph\":null,\"view\":{\"id\":\"200546ef-ddfa-440c-a9e5-82c776492539\",\"type\":\"CDSView\"}},\"id\":\"af42269a-d8d3-4de9-9c6e-df09129edded\",\"type\":\"GlyphRenderer\"},{\"attributes\":{},\"id\":\"03389351-19a5-4af4-9c65-71e428c411e8\",\"type\":\"LinearScale\"},{\"attributes\":{\"data_source\":{\"id\":\"c8f7025a-af0e-4058-8a63-802dd3e0da93\",\"type\":\"ColumnDataSource\"},\"glyph\":{\"id\":\"8a9522d9-fcc7-40f7-9fe9-63e19a2f1ad1\",\"type\":\"Circle\"},\"hover_glyph\":null,\"muted_glyph\":null,\"nonselection_glyph\":{\"id\":\"af48ef2f-b114-468e-82b8-df89e0f4fbac\",\"type\":\"Circle\"},\"selection_glyph\":null,\"view\":{\"id\":\"762eac88-88f2-478d-91e2-ad417741e588\",\"type\":\"CDSView\"}},\"id\":\"9c8ef295-aa88-4c69-b8dc-1216736adcc1\",\"type\":\"GlyphRenderer\"},{\"attributes\":{\"label\":{\"value\":\"1\"},\"renderers\":[{\"id\":\"af42269a-d8d3-4de9-9c6e-df09129edded\",\"type\":\"GlyphRenderer\"}]},\"id\":\"55e71e31-ba52-4cb3-be50-54f3cbb485cd\",\"type\":\"LegendItem\"},{\"attributes\":{\"label\":{\"value\":\"3\"},\"renderers\":[{\"id\":\"12514a2a-d710-43b6-a517-0a73747ec42e\",\"type\":\"GlyphRenderer\"}]},\"id\":\"63c002ac-d7df-4059-9dd3-cdb1f3d3b8a0\",\"type\":\"LegendItem\"},{\"attributes\":{\"callback\":null,\"column_names\":[\"y\",\"x\"],\"data\":{\"x\":{\"__ndarray__\":\"WJeqwaTu8MGeyRJANBOgwVUvm8GSoMrBH0pdwYJ8vcFbRZ/B/mTiwdmbs8HW0/XBpQm/we+KwMEEsb/BI6+/wYuwvMFiGZ/BMx2xwexwtcF8n7TBSFP3wRhS3sGrlsPB+pCCwWv9Kr5GCcnBh5CrwSc2qcE7hJ7B0QrCwZe4uMFoXubBN1ZzwZVmicEUsJfBID1CwUaYvsEUN+jBD/Wfwd5wqcHOm6fB9Ay/wd+Pt8EQquHBsV6pwU4ousFinCnBgLu8wX/9hsFNfJzBDADuwfS1z8HvQaHBLojYwRIr0cFp5sfBvrh+wQKV58EIzrPBHRO3wSpd+MHNjJvBF/KAwbJa2MFnxcPBCiGKweBzu8EjH+/BUnfowbEBuMFNheLBZXK0wcoz8cG3AKLBh3bDweehvcHuMCtBHZ6pwZ3PnMHe21PB92XNwYao68E=\",\"dtype\":\"float32\",\"shape\":[83]},\"y\":{\"__ndarray__\":\"9Jv8QLIaFj8M8eTBjPKLQOsSM0F/eWFAc7Z+QVUS8j9iUYlA5HH7vWRCgkHY4kQ/kayJPgbbmEFrlVZBR/bhv13SnECPLYdBTyJnQc4OpEHmrVxB51Hhvi3Tp0CMBt1AIHs5QScr7MHobPNA7fL8QA7cl0HofwBBmHoZwCoKnUE56ArAGNQyQT+CYUH1q+1A9EmfQeXpgkE0u/+/t243QQnUikHq95RAfC6UQEcK9kAs4HZABZspQWydXEGq94tBB7wBPXqKjMG63FpBh76yQJq3mD9BbI5BDgDCQC3PUEAFeSvA+LHJQOxlfj7g35lBUnX0QGAVyr9LFAdBHRNCQYK5jb53tDpBFwJgQezeM0BUnuw/zZ6CQDG2ikGu9P/Ado6bQYt8gMB+A5BBNW0KQHQyaEHacC9A1WxvQSMRU0HxmJlBmde8QEt5mUA=\",\"dtype\":\"float32\",\"shape\":[83]}}},\"id\":\"e8a2623e-590f-4a2e-bdc0-d888441b30e0\",\"type\":\"ColumnDataSource\"},{\"attributes\":{\"items\":[{\"id\":\"b9695a54-b2d6-4039-96dc-59a5a21452b9\",\"type\":\"LegendItem\"},{\"id\":\"55e71e31-ba52-4cb3-be50-54f3cbb485cd\",\"type\":\"LegendItem\"},{\"id\":\"79ea54af-711f-4fe6-a357-9a4482fc00f7\",\"type\":\"LegendItem\"},{\"id\":\"63c002ac-d7df-4059-9dd3-cdb1f3d3b8a0\",\"type\":\"LegendItem\"},{\"id\":\"da6f0d52-c01f-4b17-82ec-9c5bf2110dbf\",\"type\":\"LegendItem\"},{\"id\":\"fc111933-7f0b-4ca9-bd2d-1bd18ee48d2d\",\"type\":\"LegendItem\"},{\"id\":\"b169a93f-d2f9-4c37-a0a6-9bafcbbb18f0\",\"type\":\"LegendItem\"},{\"id\":\"367413be-6a4e-4bc9-bfa6-94a5752b2afc\",\"type\":\"LegendItem\"},{\"id\":\"ac2c4e2b-80ac-4b33-a416-7970a29872cc\",\"type\":\"LegendItem\"},{\"id\":\"0931c287-b25b-4803-afae-95c8796a7ed4\",\"type\":\"LegendItem\"}],\"location\":\"bottom_right\",\"plot\":{\"id\":\"663f5947-7d88-44e7-bfd5-da8537617c97\",\"subtype\":\"Figure\",\"type\":\"Plot\"}},\"id\":\"df57a3f6-6d10-4721-a229-f0520d3d8b8e\",\"type\":\"Legend\"},{\"attributes\":{\"source\":{\"id\":\"e8a2623e-590f-4a2e-bdc0-d888441b30e0\",\"type\":\"ColumnDataSource\"}},\"id\":\"9644e31a-2894-4d54-b3bb-edfda9dd223d\",\"type\":\"CDSView\"},{\"attributes\":{},\"id\":\"bf5fb8d0-c55c-437d-a425-0a54783df9fa\",\"type\":\"BasicTickFormatter\"},{\"attributes\":{\"callback\":null,\"column_names\":[\"y\",\"x\"],\"data\":{\"x\":{\"__ndarray__\":\"vjcJQq2760EfhOBBlt0eQrvgC0IwyAdCocXgQWIR10Eja7BBq+nZQUHhBUKAbRFCFMDwQUNq3EE69gJCY0gDQo4/ykF0igBCY/D8QZmtFUL1rQlCXEUNQksHD0IKa8JBVUuoQaM+9kEoINJBS+fgQa29BkJTZPBBH9P3QebL6UG6CAJCH0v8QWb++EFZnAVCVYsVQj0V90Hx6wlCQhPaQZG+F0Iu+uZBglQBQpNkOMHlO7dBscf1QZwSBULgitdB2T29QRjR60GH1uNB/y4CQhKg6EEbgshBiFjzQYt+D0KoXQhCT2j8QXR1/kFCythBgwQPQvnzz0F0XARCncvhQU2n8kHYJxRCXc0RQps8+0F1jdZBxmXDQSbb1EH9d+BB+wYTQoYM/UH4ctbBFFKRQVHa9kEg1xdBl5v2Qaif8UGgTthBebTnQQZ8GEJbxfFBBT7YQXMSFkJdKBFC5RwGQo/j+kHQpwJCMIbjQYe04UEJigxCQUEHwI+onEG5685Bld+wQWz15UE3IQdC\",\"dtype\":\"float32\",\"shape\":[99]},\"y\":{\"__ndarray__\":\"jugEQTjKvkAuWj9BUimIvzG1WkEGPSlBHVcXvpCBG0B5A5bAds5/QSPYZEHktwpAQaFQQVCkz7+FXQVBftRRQbJrgb6SsyRB5LKOv1eMW0FRqHJAKDMIQGs40kAgB11AhXIxwO7SiEG7nru/8mwtP1Q3PEAwj21ByubMQDeFVUG753xB8GbWv022AUFy4yk/haEKQBjdZUHh4VxBbkkXQdwSAUGthB7AK4DFQHDdqj+vGG/ArADJQbliu7/dzQRBMuqTvyx7gUHRQ4FA6a4WQQUPcUFCC4u/SarAQD9CgUAbpIk/1RqEQfI610AwcB5BW79iQYqhf0Eh9SNBt37CQIzT3UDFKIRAXiU1QGKKDkEMpxbAoaCEPzcGJEHYg05ATHChPxvLbUG4VEhAygosvxjipj8RJJbBJ+2wP1ZI1L/8wQBB+llGQVGisUAzKS1BuGO+vxKim0DlCGFB19QEQMnKsUBmhgA/gx9uP7redUFkSZ9A9kEYwgyxlkAlCQ7APSAfwG6nNb/6S5k/\",\"dtype\":\"float32\",\"shape\":[99]}}},\"id\":\"a767b0e1-af54-45e8-a6c2-56e616877326\",\"type\":\"ColumnDataSource\"},{\"attributes\":{\"dimension\":1,\"plot\":{\"id\":\"663f5947-7d88-44e7-bfd5-da8537617c97\",\"subtype\":\"Figure\",\"type\":\"Plot\"},\"ticker\":{\"id\":\"645d9979-8d87-43b4-87c9-c618228e3c1a\",\"type\":\"BasicTicker\"}},\"id\":\"8759f042-769c-4ba5-9150-2fe1f46f12f0\",\"type\":\"Grid\"},{\"attributes\":{\"data_source\":{\"id\":\"0b47d041-0741-4fd9-bc68-6037794e2bf2\",\"type\":\"ColumnDataSource\"},\"glyph\":{\"id\":\"d14fb953-e721-4e3f-acdd-73050883bd37\",\"type\":\"Circle\"},\"hover_glyph\":null,\"muted_glyph\":null,\"nonselection_glyph\":{\"id\":\"fef73daf-b47f-41b8-8adf-c47372ddcf54\",\"type\":\"Circle\"},\"selection_glyph\":null,\"view\":{\"id\":\"43c4bdc8-3355-4703-9496-751340cfbd4f\",\"type\":\"CDSView\"}},\"id\":\"12514a2a-d710-43b6-a517-0a73747ec42e\",\"type\":\"GlyphRenderer\"},{\"attributes\":{\"formatter\":{\"id\":\"22512420-de78-4173-a53d-3213bda2b80f\",\"type\":\"BasicTickFormatter\"},\"plot\":{\"id\":\"663f5947-7d88-44e7-bfd5-da8537617c97\",\"subtype\":\"Figure\",\"type\":\"Plot\"},\"ticker\":{\"id\":\"645d9979-8d87-43b4-87c9-c618228e3c1a\",\"type\":\"BasicTicker\"}},\"id\":\"69ea93b8-06af-49f6-9fc2-1f02845e1579\",\"type\":\"LinearAxis\"},{\"attributes\":{\"active_drag\":\"auto\",\"active_inspect\":\"auto\",\"active_scroll\":\"auto\",\"active_tap\":\"auto\",\"tools\":[{\"id\":\"da6fbc77-42b0-46e3-80e7-5c1393932e3a\",\"type\":\"PanTool\"},{\"id\":\"46638190-7392-4b5a-a035-ba2158ef6505\",\"type\":\"WheelZoomTool\"},{\"id\":\"2b9e1dad-6ffa-415e-8727-0b88db6e2904\",\"type\":\"BoxZoomTool\"},{\"id\":\"b8c9992a-2490-493b-b3c0-f8974808f54e\",\"type\":\"SaveTool\"},{\"id\":\"d8c24953-4e00-4769-93bb-14a272e05cb1\",\"type\":\"ResetTool\"},{\"id\":\"e8fd0870-5b18-4799-9b18-0a0ee57a13d4\",\"type\":\"HelpTool\"}]},\"id\":\"ff5e19b0-9889-4d0b-87d6-ccd89416b181\",\"type\":\"Toolbar\"}],\"root_ids\":[\"663f5947-7d88-44e7-bfd5-da8537617c97\"]},\"title\":\"Bokeh Application\",\"version\":\"0.12.9\"}};\n",
       "    var render_items = [{\"docid\":\"6e86da5c-f9c8-464b-9db8-9071b2fbf58b\",\"elementid\":\"3f556cfa-b448-4fb5-817c-b273b2a99bc1\",\"modelid\":\"663f5947-7d88-44e7-bfd5-da8537617c97\"}];\n",
       "\n",
       "    root.Bokeh.embed.embed_items(docs_json, render_items);\n",
       "  }\n",
       "\n",
       "  if (root.Bokeh !== undefined) {\n",
       "    embed_document(root);\n",
       "  } else {\n",
       "    var attempts = 0;\n",
       "    var timer = setInterval(function(root) {\n",
       "      if (root.Bokeh !== undefined) {\n",
       "        embed_document(root);\n",
       "        clearInterval(timer);\n",
       "      }\n",
       "      attempts++;\n",
       "      if (attempts > 100) {\n",
       "        console.log(\"Bokeh: ERROR: Unable to embed document because BokehJS library is missing\")\n",
       "        clearInterval(timer);\n",
       "      }\n",
       "    }, 10, root)\n",
       "  }\n",
       "})(window);"
      ],
      "application/vnd.bokehjs_exec.v0+json": ""
     },
     "metadata": {
      "application/vnd.bokehjs_exec.v0+json": {
       "id": "663f5947-7d88-44e7-bfd5-da8537617c97"
      }
     },
     "output_type": "display_data"
    }
   ],
   "source": [
    "## Your code here\n",
    "hidden_features = get_activations(model, model.layers[0], X_train)\n",
    "X_tsne = tsne.fit_transform(hidden_features[:1000]) ## Reduced for computational issues\n",
    "\n",
    "p = figure(plot_width=600, plot_height=600)\n",
    "colors = [x for x in 'blue-green-red-cyan-magenta-yellow-black-purple-coral-lime'.split('-')]\n",
    "colors_map = colors_map[:1000]\n",
    "for cl in range(nb_classes):\n",
    "    indices = np.where(colors_map==cl)\n",
    "    p.circle(X_tsne[indices, 0].ravel(), X_tsne[indices, 1].ravel(), size=7, \n",
    "             color=colors[cl], alpha=0.4, legend=str(cl))\n",
    "# show the results\n",
    "p.legend.location = 'bottom_right'\n",
    "show(p)"
   ]
  },
  {
   "cell_type": "code",
   "execution_count": 56,
   "metadata": {},
   "outputs": [
    {
     "data": {
      "text/html": [
       "\n",
       "<div class=\"bk-root\">\n",
       "    <div class=\"bk-plotdiv\" id=\"ec57e0ad-fd98-4834-a1e8-9dfa5f1b5539\"></div>\n",
       "</div>"
      ]
     },
     "metadata": {},
     "output_type": "display_data"
    },
    {
     "data": {
      "application/javascript": [
       "(function(root) {\n",
       "  function embed_document(root) {\n",
       "    var docs_json = {\"d4e16fde-9f86-4cb5-b9ef-aedcacf42ec1\":{\"roots\":{\"references\":[{\"attributes\":{\"data_source\":{\"id\":\"0970ec13-b6d2-46f5-a50d-99bfcc16a323\",\"type\":\"ColumnDataSource\"},\"glyph\":{\"id\":\"5da426d3-11c4-42ca-8c05-050a79e1fe1d\",\"type\":\"Circle\"},\"hover_glyph\":null,\"muted_glyph\":null,\"nonselection_glyph\":{\"id\":\"05fae2b2-7909-45cf-a21a-d2edb728a913\",\"type\":\"Circle\"},\"selection_glyph\":null,\"view\":{\"id\":\"229a4f70-8be6-4169-b8c9-59b5d37b062e\",\"type\":\"CDSView\"}},\"id\":\"21fb3b9e-5f09-4403-a7ad-8a2f97ed9221\",\"type\":\"GlyphRenderer\"},{\"attributes\":{\"below\":[{\"id\":\"0aafc771-8e32-4a5c-9805-e57dcd05bca4\",\"type\":\"LinearAxis\"}],\"left\":[{\"id\":\"e2f41a11-89f2-4cad-bd27-a4e34453fb6b\",\"type\":\"LinearAxis\"}],\"renderers\":[{\"id\":\"0aafc771-8e32-4a5c-9805-e57dcd05bca4\",\"type\":\"LinearAxis\"},{\"id\":\"3b49b179-907c-4e19-a717-5a50839a3e82\",\"type\":\"Grid\"},{\"id\":\"e2f41a11-89f2-4cad-bd27-a4e34453fb6b\",\"type\":\"LinearAxis\"},{\"id\":\"9ee0dc75-f10b-4abc-937f-bbb2795e0a75\",\"type\":\"Grid\"},{\"id\":\"9b660047-9403-4516-8810-5e3afd49d84c\",\"type\":\"BoxAnnotation\"},{\"id\":\"fbe51402-5227-4dfe-aa6b-591c66816734\",\"type\":\"Legend\"},{\"id\":\"7eac4d86-269c-4564-86d0-53e22a4b836e\",\"type\":\"GlyphRenderer\"},{\"id\":\"a8d8edfb-514d-44a8-b879-a1ab5de64f27\",\"type\":\"GlyphRenderer\"},{\"id\":\"05027878-5c54-415d-810d-afa5757991bf\",\"type\":\"GlyphRenderer\"},{\"id\":\"ce18e44d-3e3f-420c-8dd9-cda0ab6e2939\",\"type\":\"GlyphRenderer\"},{\"id\":\"eee24705-bda0-4162-a97c-b540f56735c1\",\"type\":\"GlyphRenderer\"},{\"id\":\"da86e49e-ccc7-4bb0-8cec-141555f8b83c\",\"type\":\"GlyphRenderer\"},{\"id\":\"3ff9be07-a79a-4112-a676-6d7d2a892a6f\",\"type\":\"GlyphRenderer\"},{\"id\":\"b544b52a-9e3f-43ec-816b-88787efbecf9\",\"type\":\"GlyphRenderer\"},{\"id\":\"b5cc65d4-5b92-4cf9-b8d1-25da0ff87562\",\"type\":\"GlyphRenderer\"},{\"id\":\"21fb3b9e-5f09-4403-a7ad-8a2f97ed9221\",\"type\":\"GlyphRenderer\"}],\"title\":{\"id\":\"b05cfd2d-b62f-41df-8adb-c5769d19e60d\",\"type\":\"Title\"},\"toolbar\":{\"id\":\"9dc8b52d-5b1e-4a3b-8d96-9cd23d25c093\",\"type\":\"Toolbar\"},\"x_range\":{\"id\":\"d98fc59f-4491-45d9-a1cb-376c3a0d2452\",\"type\":\"DataRange1d\"},\"x_scale\":{\"id\":\"59087ca2-95d8-423e-8f81-76d0aad85507\",\"type\":\"LinearScale\"},\"y_range\":{\"id\":\"1761cce6-43d7-48d5-9fec-5e904b73e313\",\"type\":\"DataRange1d\"},\"y_scale\":{\"id\":\"c37b0607-5bd0-40cc-a78f-112e6af4ad64\",\"type\":\"LinearScale\"}},\"id\":\"d47c3215-a78d-4e5b-a06a-10c8e40606d6\",\"subtype\":\"Figure\",\"type\":\"Plot\"},{\"attributes\":{\"data_source\":{\"id\":\"45f084b5-b8ce-4aa7-807a-6e32e1ac8787\",\"type\":\"ColumnDataSource\"},\"glyph\":{\"id\":\"cf4d3221-44d1-4a2a-9847-8725203d051d\",\"type\":\"Circle\"},\"hover_glyph\":null,\"muted_glyph\":null,\"nonselection_glyph\":{\"id\":\"6c73a098-ee81-42a3-b855-fb2a4f447249\",\"type\":\"Circle\"},\"selection_glyph\":null,\"view\":{\"id\":\"7244dc50-705d-4204-b736-547f9dba8f5e\",\"type\":\"CDSView\"}},\"id\":\"eee24705-bda0-4162-a97c-b540f56735c1\",\"type\":\"GlyphRenderer\"},{\"attributes\":{\"fill_alpha\":{\"value\":0.4},\"fill_color\":{\"value\":\"black\"},\"line_alpha\":{\"value\":0.4},\"size\":{\"units\":\"screen\",\"value\":7},\"x\":{\"field\":\"x\"},\"y\":{\"field\":\"y\"}},\"id\":\"33cb55de-0c03-45bb-9ee1-e9aa873f1d76\",\"type\":\"Circle\"},{\"attributes\":{\"callback\":null,\"column_names\":[\"y\",\"x\"],\"data\":{\"x\":{\"__ndarray__\":\"ucoTQBkN9L8cpwjAFRlXvyVc7D9V2gXA7OxiQLa+pcDwJoPBl6C7PwTPgT4VC8zAoaYbQDysh0ArNRfCq8rMvwuOpsBjPiPAwQ98QK4Ejb/74i2/PbHbwB1GWEDq7Kg/dlCIQEoKyz9tpGzAH9eIwKejlL98ZAvB9/4AQCTdEEC3UohAsRXlwK4U5L+DWqXAnYXNQX1YhEBHSIhAz7hVQE/pysBC+VrA1XEZwECrmb+0pyfBafyUwHBjR0B2X1/AIwc4QJU6UkAf7Uu/Zn9svyYStr+FIgPBTiFQwMLpycAIshLCta0VwRckEsLIcKjAgbwFwfRbwMDz38O/rI13QOLHY0DOPhFCAdztwNHHsr3PJYXAXYuKwUFGa8DfzM4/CbZrwZE638DLu2tAKIjPvp9wI8Hwpeg/zIABwTyOOsDCM01AllVRP9Rjnj8vMcPAtToMQMtWWr4ff0y/Z7d3QABIFL/PskVA3IHHvxIUF0BWDJ+/Kfr9Py9xMMDX7NTA6FA0Qj2ocUDaJsvAuToKwPtELUDVtlK/babYQacAa8BJUCxAUNMPwc9WCj9g73BA/NJePww5AECDB5LAhWAOwFl4yD8=\",\"dtype\":\"float32\",\"shape\":[113]},\"y\":{\"__ndarray__\":\"rTA+QWyxQUFFawtBj9wgQU3qUUH2bz1BXMlyQdb2E0EcbHFB0VtLQcE8S0GnzKVAJsZWQQdWb0E6BBNATmYnQasJCkHy0C1B9pF7QYIPFEHUgTVBw7wLQTp4akEEYGRBynRzQcBoWkGNZwhBBswdQU+1FUEIoQNBOVQ9QVvEZ0E1TW9BR0XXQBrnDEEKcBZBL/XWwRToeUFjhnZBgxR6QRRo7kC0BCpBXh4gQYr4o8GHT9ZAxbLjQIpPdEGrBwVBuh5gQRGPakFokjRBN2M+QeI2EkFpKp9AQLMDQU2V80CDuhVAJjTjQJXsHECYaNxAnueaQIwV1kA8Pw1B4WJpQQ46fEFvXvjA5FTdQLDgOUGprw1B3JiFQUXwEEFFQE9BvN9zwTh7qUBzJHJB1dgoQb/22UBU91FBhEujQEUKMUHoJXlBYvRXQVzQSEF9Z8hAaftYQcj1LUHLJpfBXPRoQV61MUHDu3FB++UbQcIXZEHJ6StBd2hBQRd5IEHgd6lASRx2wPX4e0FhafFAyHc9QTWFbkGeaytBp9UAwjR2H0GjaEZB09/zQFy8V0ESn2hBqck8QXEiYEEkbQ9Bfc8sQU3WX0E=\",\"dtype\":\"float32\",\"shape\":[113]}}},\"id\":\"d68489d2-9a37-47c9-9a39-a220baadb1b1\",\"type\":\"ColumnDataSource\"},{\"attributes\":{\"callback\":null},\"id\":\"1761cce6-43d7-48d5-9fec-5e904b73e313\",\"type\":\"DataRange1d\"},{\"attributes\":{\"fill_alpha\":{\"value\":0.1},\"fill_color\":{\"value\":\"#1f77b4\"},\"line_alpha\":{\"value\":0.1},\"line_color\":{\"value\":\"#1f77b4\"},\"size\":{\"units\":\"screen\",\"value\":7},\"x\":{\"field\":\"x\"},\"y\":{\"field\":\"y\"}},\"id\":\"3505a0f8-c7e9-4796-9712-7c76e9650a6d\",\"type\":\"Circle\"},{\"attributes\":{\"callback\":null,\"column_names\":[\"y\",\"x\"],\"data\":{\"x\":{\"__ndarray__\":\"As8sQvVBOEJGFS9CHuYTQqWrH0J0nkFC8EVDQmUtHkJJvitCLjM6QmqnIEKJPx1CQBFFQtw5L0LWRDJCqd5DQhCq40G3hkdCLP4hQlqMQkJdjRpCA9olQoseN0KHPERCK2QjQqVSG0KxRi1CNERGQruxQ0IzfShCPukwQm89JkKsnxJCxP1FQvG/MkKbQzxCTwgtQrgUMUK9CCBCgW4pQuegOULonS9CQnJAQjkTPUL7jhFC5HAmQl72QkJomyNCf7MkQsfiJkLKu+ZBuPk5QvLwQkJ8kUdCA2FAQoRUD0JtUClCxJodQk4zIkJk7BNCSHIUQjIWBkDUgidCwJlAQjdWI0I6LTtCxVY8QuGoQELZux9CaRA7QuwMRkJXJkZC1bc8Ql9jLUKVTEVCkyRIQj9dRkLi+TNCeig1Ql/3R0KDGYHBNSlHQuLEQELonw5CqDYUQjbeJEJ/K0NCkt8tQnQbH0JeRg1C0WsuQn/zGEKuxT9CmJk2QhwFE0LWqi1CdnAEwdAjMEK/PDJCr9M6Qo7tKkJlYxhC\",\"dtype\":\"float32\",\"shape\":[102]},\"y\":{\"__ndarray__\":\"dtHIwHb5bsBUV2nAmq74wJu8BsFINOq/TanOv+gm4MADpGvAETVawO/oA8E6bcnALSsFwO0+jcDOYbHAV2IswOLQ0MFbgwvAZMD8wPj9CcD6AhLBFnOpwGS1CMDFGbq/2JH4wK+x18BRALfA5R4pwCzIOcDoRYXApvW4wJ9F7sDyH7/A1v29v49wisDsCBjAD4PGwIlcjcBdVa3Arc/MwE8CBsA9CFnAuwZQwFCAcMDzegHB1fQDwRCP1L9uHbjAlwSuwELL4MDP/dnBsP39vykdHcCLtBvAzlQKwBlKBMFqRH/A+qfJwMqZuMA5eQfBsIgHwUYmcMFqEeTA5xNUwGiOp8DGfX7Axs0cwAG6NcBIUM7APOZywKf/KMC74vW/cb0bwLniocDNaM+/+JYAwPVwIcBSUJHA6spjwG2Z3L8khopB5rbAvwE+NMAKFgPB8ob2wLii4cAPTA3Ac+XHwOakBcEyBwXBNf+3wIWAF8EnfU/A+ASVwAQNAMGhG5zAmXIDQe/NlMAz7ILAyUCAwG2G0cDFfxPB\",\"dtype\":\"float32\",\"shape\":[102]}}},\"id\":\"ba3a38e0-e008-4da2-a69b-f43ec1336d66\",\"type\":\"ColumnDataSource\"},{\"attributes\":{\"data_source\":{\"id\":\"024266bf-bfc9-47dd-b630-b55e9a17c0cf\",\"type\":\"ColumnDataSource\"},\"glyph\":{\"id\":\"00cce112-f4f2-40ff-9614-dcb839e79d0a\",\"type\":\"Circle\"},\"hover_glyph\":null,\"muted_glyph\":null,\"nonselection_glyph\":{\"id\":\"2add811e-adae-4d16-9e53-432991860952\",\"type\":\"Circle\"},\"selection_glyph\":null,\"view\":{\"id\":\"73b49b7f-7b12-4fe1-ba03-6741a35c189a\",\"type\":\"CDSView\"}},\"id\":\"a8d8edfb-514d-44a8-b879-a1ab5de64f27\",\"type\":\"GlyphRenderer\"},{\"attributes\":{\"callback\":null,\"column_names\":[\"y\",\"x\"],\"data\":{\"x\":{\"__ndarray__\":\"rNfgQTYFCkLdjOFBsCq5QUQmukH0e+dBarOqQe6zt0FmDgJCAjHfQS7Wo0HSmgpCljEGQpZUAUKTYApCsl0IQi5MwEHvGAZCPAzUQbNExEHQ6uFBRW8MQlx92UHgStNB18/IQTlCx0Fk8LdBhkLjQX1g50EJl7lBPp3UQTLC8UFllPhBfIHmQfvFB0KGj/hBVKkDQh0+AkIVxPBB/KQHQmMMCEJtHQhCETjaQcIqukE4Tt5BTbDXQVgNBkJraNxB4N61QVjoCkISawlCKP/KQX4JpEFEa/hBoee8QX7k9EGR+gtCjf7wQbVjB0IiNgpCK1AKQq6jskG/zAtCtmsMQuSSwkGIz71B2nXyQYwHAELtcstB9qYAQuqX+0Hc4gFCa2ILQjU10UGljN1BJDW+QS38yUHaz9RB3jLEQcaxtkGeruRBRXTjQaSLukFXo/1Bye/3QYm3okEmhghCImDnQWVP80EY2eBBDcPWQd9+B0JQStZBGG7VQYQ3r0E=\",\"dtype\":\"float32\",\"shape\":[95]},\"y\":{\"__ndarray__\":\"B7zMQZWByUGPYrRB+8WxQR+BtUELRchBt0yiQQb0qEFcuMFByR28QQoMnUGP6shBS/7AQfqav0EfmsRBb3LHQbHHtEH+bMBB3/GxQfjmrEFkm71BiAPGQYcxwEF/6b9B84O7Qb/ptEEzG7lB/pLCQeEjx0HjbLhBSdm/QdsAw0GfosFBnkPMQXYtwkGTO7xBKqrDQWmOw0Gn1sNBDB+/QaCLyUGigcVB0RHAQUQdt0HabsBBCI/JwWM/xkHtuLdBy9KpQSigyEFAwL5BaFi7QQsinUEm779BYECkQVmovUEahMJBDfXEQfCew0HrFr9BvYPDQU33qEETgsFBhWbGQccvr0Gb3bNBEWa4QSWav0ENFb1B3pjJQVI/wEFhNL9BKlLAQWiCskF5lbZBRnK2QQh1r0EM/r1Bn3OuQabSqEGSHc5BGS7OQd1UqEFqNL9BMZa7QRw5nEH3K79B9nrGQWhJvEG+l79Ba+nNQSOJyEHTGM1BNvW/QdrxrEE=\",\"dtype\":\"float32\",\"shape\":[95]}}},\"id\":\"03455971-25af-42fe-b149-86e7d0680186\",\"type\":\"ColumnDataSource\"},{\"attributes\":{},\"id\":\"cecaf5b1-b7b2-4e26-a806-971a189db975\",\"type\":\"BasicTickFormatter\"},{\"attributes\":{\"data_source\":{\"id\":\"0ea1f174-2aa6-4704-a839-031ef7450cc5\",\"type\":\"ColumnDataSource\"},\"glyph\":{\"id\":\"2bb137b9-796c-40b3-9102-76615e27c67b\",\"type\":\"Circle\"},\"hover_glyph\":null,\"muted_glyph\":null,\"nonselection_glyph\":{\"id\":\"95a81b73-b0d3-43eb-b867-857f830c06d2\",\"type\":\"Circle\"},\"selection_glyph\":null,\"view\":{\"id\":\"1260f56e-ecc3-4f0d-83a6-12e3ccbb345d\",\"type\":\"CDSView\"}},\"id\":\"b544b52a-9e3f-43ec-816b-88787efbecf9\",\"type\":\"GlyphRenderer\"},{\"attributes\":{\"source\":{\"id\":\"0ea1f174-2aa6-4704-a839-031ef7450cc5\",\"type\":\"ColumnDataSource\"}},\"id\":\"1260f56e-ecc3-4f0d-83a6-12e3ccbb345d\",\"type\":\"CDSView\"},{\"attributes\":{\"label\":{\"value\":\"6\"},\"renderers\":[{\"id\":\"3ff9be07-a79a-4112-a676-6d7d2a892a6f\",\"type\":\"GlyphRenderer\"}]},\"id\":\"3d66bea3-63ae-4451-b0c9-bf9ca094da18\",\"type\":\"LegendItem\"},{\"attributes\":{\"data_source\":{\"id\":\"8db70732-57fe-485e-b0f5-c15eff1444eb\",\"type\":\"ColumnDataSource\"},\"glyph\":{\"id\":\"9f29d4e4-d0f7-487f-bf84-1685a19cbed5\",\"type\":\"Circle\"},\"hover_glyph\":null,\"muted_glyph\":null,\"nonselection_glyph\":{\"id\":\"e63e1361-7bc2-40fd-8404-8251af741f7e\",\"type\":\"Circle\"},\"selection_glyph\":null,\"view\":{\"id\":\"a52cd5da-cd42-4d23-9355-d4a5e188132b\",\"type\":\"CDSView\"}},\"id\":\"05027878-5c54-415d-810d-afa5757991bf\",\"type\":\"GlyphRenderer\"},{\"attributes\":{\"fill_alpha\":{\"value\":0.4},\"fill_color\":{\"value\":\"cyan\"},\"line_alpha\":{\"value\":0.4},\"line_color\":{\"value\":\"cyan\"},\"size\":{\"units\":\"screen\",\"value\":7},\"x\":{\"field\":\"x\"},\"y\":{\"field\":\"y\"}},\"id\":\"1fe5eaca-1f5d-48b1-87bb-2b3c7d7a2e47\",\"type\":\"Circle\"},{\"attributes\":{\"fill_alpha\":{\"value\":0.4},\"fill_color\":{\"value\":\"lime\"},\"line_alpha\":{\"value\":0.4},\"line_color\":{\"value\":\"lime\"},\"size\":{\"units\":\"screen\",\"value\":7},\"x\":{\"field\":\"x\"},\"y\":{\"field\":\"y\"}},\"id\":\"5da426d3-11c4-42ca-8c05-050a79e1fe1d\",\"type\":\"Circle\"},{\"attributes\":{\"source\":{\"id\":\"d68489d2-9a37-47c9-9a39-a220baadb1b1\",\"type\":\"ColumnDataSource\"}},\"id\":\"94d91deb-d24d-471d-ba8c-12b7a4120b9e\",\"type\":\"CDSView\"},{\"attributes\":{\"data_source\":{\"id\":\"8ddd71c4-838a-45d2-8d10-6854116c2b06\",\"type\":\"ColumnDataSource\"},\"glyph\":{\"id\":\"3739991c-42ca-4a55-bcd1-e1ec7133a1aa\",\"type\":\"Circle\"},\"hover_glyph\":null,\"muted_glyph\":null,\"nonselection_glyph\":{\"id\":\"ab8bb279-3257-4630-b882-9ae69a245cf5\",\"type\":\"Circle\"},\"selection_glyph\":null,\"view\":{\"id\":\"a2b12c2c-45e6-4f41-b9b9-673a7d18851a\",\"type\":\"CDSView\"}},\"id\":\"da86e49e-ccc7-4bb0-8cec-141555f8b83c\",\"type\":\"GlyphRenderer\"},{\"attributes\":{\"data_source\":{\"id\":\"ba3a38e0-e008-4da2-a69b-f43ec1336d66\",\"type\":\"ColumnDataSource\"},\"glyph\":{\"id\":\"1fe5eaca-1f5d-48b1-87bb-2b3c7d7a2e47\",\"type\":\"Circle\"},\"hover_glyph\":null,\"muted_glyph\":null,\"nonselection_glyph\":{\"id\":\"e556c1d9-a201-491e-9292-d54813e642d3\",\"type\":\"Circle\"},\"selection_glyph\":null,\"view\":{\"id\":\"41ef51df-2021-4b7a-9c35-7179ab93f128\",\"type\":\"CDSView\"}},\"id\":\"ce18e44d-3e3f-420c-8dd9-cda0ab6e2939\",\"type\":\"GlyphRenderer\"},{\"attributes\":{\"fill_alpha\":{\"value\":0.4},\"fill_color\":{\"value\":\"red\"},\"line_alpha\":{\"value\":0.4},\"line_color\":{\"value\":\"red\"},\"size\":{\"units\":\"screen\",\"value\":7},\"x\":{\"field\":\"x\"},\"y\":{\"field\":\"y\"}},\"id\":\"9f29d4e4-d0f7-487f-bf84-1685a19cbed5\",\"type\":\"Circle\"},{\"attributes\":{\"label\":{\"value\":\"1\"},\"renderers\":[{\"id\":\"a8d8edfb-514d-44a8-b879-a1ab5de64f27\",\"type\":\"GlyphRenderer\"}]},\"id\":\"a44d5c42-47f1-4a44-9559-5dc3291638f1\",\"type\":\"LegendItem\"},{\"attributes\":{\"callback\":null,\"column_names\":[\"y\",\"x\"],\"data\":{\"x\":{\"__ndarray__\":\"suLiQeAn6UGvBBPCSDrlQQOr10E6yd1BQm3YQfKZ1UGsguNBAEzoQQkX6UEY++hBmrTXQVwn1kGiEOhBZ5fPQTcc4EHkQOJBsUvhQRWC1kGvON5BClzoQSiS30F/s+VBoRnWQYBs10HSSuhBpZ7hQbtF4EEec+VBX1HeQe5M4EHwRuxB3EPUQSMc1EGjh9hB/w6vQfSYz0HCw+9BJdDfQX2d3UHh9+JB43HlQd2i4UEC4udBMsLgQRQz50GWaNhBDu/WQUfSG0JXqddBdPPZQYVL6UHcYdtBf/7XQQoF6UEppOZBHRHNQU8Y6UGxXdxBHfTgQcDr70FJ7N9BXDqRvwOv1kE/ieVBKrTYQfnL50F+GOlBxh3lQU4K5EFvHx5CgEbZQYhM8EGtkNxBHFrnQVdO5EHP1RNACU7gQQ1h3UGzludBh7/mQQYp1kE=\",\"dtype\":\"float32\",\"shape\":[83]},\"y\":{\"__ndarray__\":\"k434wRMIDcILvDxALSoKwnEE2sGe6wbCoVrIwVl59sFUWAzCD0UKwt9n/MGyUwHCIJj5wS0zAcKYUg7CfTPawdZQDcIpMA3CSsoLwlUH6sGR+AvCM6LawcHt3sH1HgvC/vnQwWcC5sFH9wrCj8HpwQcpCsL5BQTCzI7lwYqXAcIp0NDBaPfGwVHjysFRDdvB4tekQffG+cHGhszBpzgJwgaZA8L2dQ/CaXIBwkOX6sH0v9/BdqMOwh7UDsJ4NuHBtg32wYr87sBz/9bBHjjUwfjw4sHklALCTXb7wUR68cHBJNvBipLVwQHfDcJK0QXCc134wU1ezMEK6OLBo/kbQsmH8sEseg/CDA3gwaZ+BMIfggHCUIcCwoco/8EVCQrBqIcCwl3ey8HW5wTCNLb/wbyCD8LqdVHB0ywOwjwYBMIlxfHBq7wMwtgU0cE=\",\"dtype\":\"float32\",\"shape\":[83]}}},\"id\":\"8ddd71c4-838a-45d2-8d10-6854116c2b06\",\"type\":\"ColumnDataSource\"},{\"attributes\":{\"plot\":{\"id\":\"d47c3215-a78d-4e5b-a06a-10c8e40606d6\",\"subtype\":\"Figure\",\"type\":\"Plot\"},\"ticker\":{\"id\":\"c0f8e5ec-97b5-4bd0-b133-04e4a546e47e\",\"type\":\"BasicTicker\"}},\"id\":\"3b49b179-907c-4e19-a717-5a50839a3e82\",\"type\":\"Grid\"},{\"attributes\":{\"callback\":null,\"column_names\":[\"y\",\"x\"],\"data\":{\"x\":{\"__ndarray__\":\"RXZOQX6u4UCnlrdAwg8dQaVyU0HmAY5AGrm0QD715EDKqz1BivmMQAvuUEGT+ChBdw93QM9HLEH8FUZBbzFKQVdTDUFVnhBBYrI9QQQGZkEnURBB2QrUQJG7jEC1Gh9A4XcsQH0b0kDjdWJBgwcrQWI0X0GQc+RA15xHwTbdQL7hpM8+akxNQU52RUFT6EI/AqGdP8I3jkBjdlpB9J5kQReLUEEqvYLBqm8bQQQ0EUHN/UNBcNc0Qf9vDEFkfxlBLLGkPzrYFUHhOlZBuBIhQZl4CkHQkJtABMyoQAHaS0E4s+VA6CkiQQJot0DwsgJByfdaQUxeC0FUy1RBncCBwWLetkAZGU9Bvv/LQPTxJkE5289Ai5JlQdGkvEAr4ElBwZA8Qb5aM0BMBIxAo5JVQaRmY8G34FtBdhlYQa07XkHpIwVBWL2AQMwTOMEEME1BjEsiQSuaN0ExkWJB8NRAQRUjD0FMxQtBveZdQbapQL50nGZBOMvzQOlW4D8=\",\"dtype\":\"float32\",\"shape\":[95]},\"y\":{\"__ndarray__\":\"zR3IwP7BNsEu6EjBB5MHweGj4sBv61PBPHg5wQQPOMFUu/DAStZawQ+txcA4UAbBW8FWwZ4EFsGB19fAICn9wCPdK8Epsg7Bzz3gwCwywcDY7xDByu87wSj+MMEaxmXBtaRUwVGSPsFJzr3AfqcZwfc0ucDZUUXBRl6EwRKVj8GMfonBJLwBwV9o68DU5oXBqViBwT/wU8GwdrnAKtTbwJgi4MBzh29BsQAdwfu2NsGnTwrBKUYUwd6fNcHOBSXB/dmAwUI4CsErrf3ATBsDwQ9TE8FxRFXBdFBQwWQ49MDU9zPB9QoCwf7pM8GngCzBs7jOwK3uEcGREsHAKkBtQQhXLsH5xtLAY348wfXq/MBT40DBoU/RwA46ScEkeM7A96nwwDF0WMETUzHBIPnWwG5IdcEiT+DA2zK+wHJfysDafxnBEOVTwU4CdsHEPd3A7/MCwauQFcFL9tzAIY/jwAxxM8EPOBLBTJXewKliJELmG8zAnbspwVCaeME=\",\"dtype\":\"float32\",\"shape\":[95]}}},\"id\":\"0ea1f174-2aa6-4704-a839-031ef7450cc5\",\"type\":\"ColumnDataSource\"},{\"attributes\":{},\"id\":\"c37b0607-5bd0-40cc-a78f-112e6af4ad64\",\"type\":\"LinearScale\"},{\"attributes\":{\"source\":{\"id\":\"03455971-25af-42fe-b149-86e7d0680186\",\"type\":\"ColumnDataSource\"}},\"id\":\"6232dec5-a1e3-4d9d-9bc9-3521ec7d199c\",\"type\":\"CDSView\"},{\"attributes\":{\"source\":{\"id\":\"8ddd71c4-838a-45d2-8d10-6854116c2b06\",\"type\":\"ColumnDataSource\"}},\"id\":\"a2b12c2c-45e6-4f41-b9b9-673a7d18851a\",\"type\":\"CDSView\"},{\"attributes\":{},\"id\":\"2fb84500-7648-41b1-883c-b96a1d7566f5\",\"type\":\"ResetTool\"},{\"attributes\":{\"source\":{\"id\":\"024266bf-bfc9-47dd-b630-b55e9a17c0cf\",\"type\":\"ColumnDataSource\"}},\"id\":\"73b49b7f-7b12-4fe1-ba03-6741a35c189a\",\"type\":\"CDSView\"},{\"attributes\":{},\"id\":\"80499e52-b28d-4de3-9a7c-70f03628ee27\",\"type\":\"BasicTickFormatter\"},{\"attributes\":{\"fill_alpha\":{\"value\":0.1},\"fill_color\":{\"value\":\"#1f77b4\"},\"line_alpha\":{\"value\":0.1},\"line_color\":{\"value\":\"#1f77b4\"},\"size\":{\"units\":\"screen\",\"value\":7},\"x\":{\"field\":\"x\"},\"y\":{\"field\":\"y\"}},\"id\":\"bd537efa-dc1e-4757-af62-deeba4d95e6e\",\"type\":\"Circle\"},{\"attributes\":{},\"id\":\"c0f8e5ec-97b5-4bd0-b133-04e4a546e47e\",\"type\":\"BasicTicker\"},{\"attributes\":{\"fill_alpha\":{\"value\":0.1},\"fill_color\":{\"value\":\"#1f77b4\"},\"line_alpha\":{\"value\":0.1},\"line_color\":{\"value\":\"#1f77b4\"},\"size\":{\"units\":\"screen\",\"value\":7},\"x\":{\"field\":\"x\"},\"y\":{\"field\":\"y\"}},\"id\":\"e63e1361-7bc2-40fd-8404-8251af741f7e\",\"type\":\"Circle\"},{\"attributes\":{\"label\":{\"value\":\"0\"},\"renderers\":[{\"id\":\"7eac4d86-269c-4564-86d0-53e22a4b836e\",\"type\":\"GlyphRenderer\"}]},\"id\":\"dc261a47-9200-4fb9-a1c5-a105c89cba1c\",\"type\":\"LegendItem\"},{\"attributes\":{\"items\":[{\"id\":\"dc261a47-9200-4fb9-a1c5-a105c89cba1c\",\"type\":\"LegendItem\"},{\"id\":\"a44d5c42-47f1-4a44-9559-5dc3291638f1\",\"type\":\"LegendItem\"},{\"id\":\"b7bb7455-458c-464c-87c2-74c261703335\",\"type\":\"LegendItem\"},{\"id\":\"eaf3b108-5f83-4c16-a444-e47aa08e56ab\",\"type\":\"LegendItem\"},{\"id\":\"f02cfcc9-996b-4c0d-9957-56b48c94304c\",\"type\":\"LegendItem\"},{\"id\":\"ccb5ee06-aec7-4eef-b3b8-9cddfcd7bfdd\",\"type\":\"LegendItem\"},{\"id\":\"3d66bea3-63ae-4451-b0c9-bf9ca094da18\",\"type\":\"LegendItem\"},{\"id\":\"ec1db28f-f0c6-4a23-bdef-28ab2c7b9e71\",\"type\":\"LegendItem\"},{\"id\":\"0615e8eb-9e8b-4320-a746-1212426b9e44\",\"type\":\"LegendItem\"},{\"id\":\"9c72f2aa-37c9-4349-a763-86460644ff46\",\"type\":\"LegendItem\"}],\"location\":\"bottom_right\",\"plot\":{\"id\":\"d47c3215-a78d-4e5b-a06a-10c8e40606d6\",\"subtype\":\"Figure\",\"type\":\"Plot\"}},\"id\":\"fbe51402-5227-4dfe-aa6b-591c66816734\",\"type\":\"Legend\"},{\"attributes\":{\"fill_alpha\":{\"value\":0.1},\"fill_color\":{\"value\":\"#1f77b4\"},\"line_alpha\":{\"value\":0.1},\"line_color\":{\"value\":\"#1f77b4\"},\"size\":{\"units\":\"screen\",\"value\":7},\"x\":{\"field\":\"x\"},\"y\":{\"field\":\"y\"}},\"id\":\"6c73a098-ee81-42a3-b855-fb2a4f447249\",\"type\":\"Circle\"},{\"attributes\":{\"source\":{\"id\":\"45f084b5-b8ce-4aa7-807a-6e32e1ac8787\",\"type\":\"ColumnDataSource\"}},\"id\":\"7244dc50-705d-4204-b736-547f9dba8f5e\",\"type\":\"CDSView\"},{\"attributes\":{\"source\":{\"id\":\"a98175bd-1886-49ac-b906-6d9e61065805\",\"type\":\"ColumnDataSource\"}},\"id\":\"00e70e21-98b4-4716-98dc-855293f3e1ef\",\"type\":\"CDSView\"},{\"attributes\":{\"fill_alpha\":{\"value\":0.4},\"fill_color\":{\"value\":\"magenta\"},\"line_alpha\":{\"value\":0.4},\"line_color\":{\"value\":\"magenta\"},\"size\":{\"units\":\"screen\",\"value\":7},\"x\":{\"field\":\"x\"},\"y\":{\"field\":\"y\"}},\"id\":\"cf4d3221-44d1-4a2a-9847-8725203d051d\",\"type\":\"Circle\"},{\"attributes\":{\"source\":{\"id\":\"8db70732-57fe-485e-b0f5-c15eff1444eb\",\"type\":\"ColumnDataSource\"}},\"id\":\"a52cd5da-cd42-4d23-9355-d4a5e188132b\",\"type\":\"CDSView\"},{\"attributes\":{},\"id\":\"59087ca2-95d8-423e-8f81-76d0aad85507\",\"type\":\"LinearScale\"},{\"attributes\":{\"label\":{\"value\":\"4\"},\"renderers\":[{\"id\":\"eee24705-bda0-4162-a97c-b540f56735c1\",\"type\":\"GlyphRenderer\"}]},\"id\":\"f02cfcc9-996b-4c0d-9957-56b48c94304c\",\"type\":\"LegendItem\"},{\"attributes\":{\"callback\":null,\"column_names\":[\"y\",\"x\"],\"data\":{\"x\":{\"__ndarray__\":\"kK6SwayipcGM/pzBoZULwC/cn8HWwrPBrLHTwVVzjMFh8rrB5yjVwYxcgcEv8BZCJmKewW4SQcHw5M/B7Ia7wTfy0cFHiXbB4XiewRQv1cHnoaHBtK3NwRQO2sHydnfBmeTZwVO70MEYfzrAp/rCwY7KKcH0DVPAAoOjwWMEksG+70fBvxmBwc8e1MGl+qHBwe2hwZc4xsGKg7HBon+Awb9KiMEBbcjBw/SUwRytW8Dft7jBh7SHwTZ0tMF8Rc/BhgkVwpWL0sFTAavBnE6RwSEw2MEQAdXB6hGMwXsIisHIeILBttTWwU4/usF9xZLBFr6dwQSDPsG8F6bBn2aOwVv3iMG+FKfBZ7W/wdixfMGNFYvBQQeswQ20ucHspIzBOxTIwTPuycFsCtjBFdtFwdky1cG2jqbB04LOwcF1lcH9Gk7Bu12BwXG0lMGrmsbBTc/QwbNR0MG2LF3B6Wq+wezCyMH6odnBJ+C7wTnpLcFc6DPBkKvYwU7BsMFSm3nBn83PwfwkjsH8GdDB\",\"dtype\":\"float32\",\"shape\":[99]},\"y\":{\"__ndarray__\":\"He+PwX18j8HQrJTBnB2dwdDskcEV5I/BANaqwUNGiMFO/6PBl8uwwbZFgkGBQATBLR+Uwa+FhcF4nrLBTOeiwY2EscGoyovB/H2WwVBqsMFnUpfBlBejwTmpssFr6nnBxhuxwTAstcGN6aHBEcKnwePFicEW8KPBjuyVwRGFjsFW8YfBcHGLwTuCtcENzZTBY46RwcegqsGml57B6XSNwbjWjsGuzKnBADuFwa1wpMHXSaLBI+mIwcSFn8Et8LLB/sJHQMDAtcHkipvB83uQwU1brcETUqvBUj9+wX+Nj8GNwI3BZPCswbULlsEio4vBRv2TwaV1csFlU5fBSiaQwebig8GWv5jBke+bwQHxesFrv4/BI1GYwSs0n8G8DYbBh66qwWYzrsE3mLXBFZOHwXcWtsGZ9pTBIrOpwSFqkMGEtIfBwCqNwXP/icFB7KjBC5OtwYc3qcEOwYnBwGqkwVfWrMGSOa/BWfuiwYUYicHkKYjBihu1wZw9nsGIxHnBeHCtwX+skMGAWqnB\",\"dtype\":\"float32\",\"shape\":[99]}}},\"id\":\"45f084b5-b8ce-4aa7-807a-6e32e1ac8787\",\"type\":\"ColumnDataSource\"},{\"attributes\":{\"fill_alpha\":{\"value\":0.1},\"fill_color\":{\"value\":\"#1f77b4\"},\"line_alpha\":{\"value\":0.1},\"line_color\":{\"value\":\"#1f77b4\"},\"size\":{\"units\":\"screen\",\"value\":7},\"x\":{\"field\":\"x\"},\"y\":{\"field\":\"y\"}},\"id\":\"50ca6c47-3a3e-445e-a023-64feecf0eeb2\",\"type\":\"Circle\"},{\"attributes\":{\"source\":{\"id\":\"ba3a38e0-e008-4da2-a69b-f43ec1336d66\",\"type\":\"ColumnDataSource\"}},\"id\":\"41ef51df-2021-4b7a-9c35-7179ab93f128\",\"type\":\"CDSView\"},{\"attributes\":{\"active_drag\":\"auto\",\"active_inspect\":\"auto\",\"active_scroll\":\"auto\",\"active_tap\":\"auto\",\"tools\":[{\"id\":\"e9618507-74c9-4c6f-8b64-c5ec9d3ee99a\",\"type\":\"PanTool\"},{\"id\":\"0d8266c3-a1df-4535-8135-bd354e30e132\",\"type\":\"WheelZoomTool\"},{\"id\":\"2f38d8e8-1b50-4091-b117-33896f26e334\",\"type\":\"BoxZoomTool\"},{\"id\":\"604cf5b2-fc54-43ec-905a-407d3c97224c\",\"type\":\"SaveTool\"},{\"id\":\"2fb84500-7648-41b1-883c-b96a1d7566f5\",\"type\":\"ResetTool\"},{\"id\":\"26c0bd80-0174-4648-9aea-f314ec867475\",\"type\":\"HelpTool\"}]},\"id\":\"9dc8b52d-5b1e-4a3b-8d96-9cd23d25c093\",\"type\":\"Toolbar\"},{\"attributes\":{},\"id\":\"17e15139-312b-4bf8-93d6-902b0632c670\",\"type\":\"BasicTicker\"},{\"attributes\":{\"data_source\":{\"id\":\"a98175bd-1886-49ac-b906-6d9e61065805\",\"type\":\"ColumnDataSource\"},\"glyph\":{\"id\":\"738dd7ba-7663-4561-adda-d126d6074024\",\"type\":\"Circle\"},\"hover_glyph\":null,\"muted_glyph\":null,\"nonselection_glyph\":{\"id\":\"50ca6c47-3a3e-445e-a023-64feecf0eeb2\",\"type\":\"Circle\"},\"selection_glyph\":null,\"view\":{\"id\":\"00e70e21-98b4-4716-98dc-855293f3e1ef\",\"type\":\"CDSView\"}},\"id\":\"7eac4d86-269c-4564-86d0-53e22a4b836e\",\"type\":\"GlyphRenderer\"},{\"attributes\":{\"fill_alpha\":{\"value\":0.4},\"fill_color\":{\"value\":\"green\"},\"line_alpha\":{\"value\":0.4},\"line_color\":{\"value\":\"green\"},\"size\":{\"units\":\"screen\",\"value\":7},\"x\":{\"field\":\"x\"},\"y\":{\"field\":\"y\"}},\"id\":\"00cce112-f4f2-40ff-9614-dcb839e79d0a\",\"type\":\"Circle\"},{\"attributes\":{\"dimension\":1,\"plot\":{\"id\":\"d47c3215-a78d-4e5b-a06a-10c8e40606d6\",\"subtype\":\"Figure\",\"type\":\"Plot\"},\"ticker\":{\"id\":\"17e15139-312b-4bf8-93d6-902b0632c670\",\"type\":\"BasicTicker\"}},\"id\":\"9ee0dc75-f10b-4abc-937f-bbb2795e0a75\",\"type\":\"Grid\"},{\"attributes\":{\"source\":{\"id\":\"0970ec13-b6d2-46f5-a50d-99bfcc16a323\",\"type\":\"ColumnDataSource\"}},\"id\":\"229a4f70-8be6-4169-b8c9-59b5d37b062e\",\"type\":\"CDSView\"},{\"attributes\":{\"label\":{\"value\":\"2\"},\"renderers\":[{\"id\":\"05027878-5c54-415d-810d-afa5757991bf\",\"type\":\"GlyphRenderer\"}]},\"id\":\"b7bb7455-458c-464c-87c2-74c261703335\",\"type\":\"LegendItem\"},{\"attributes\":{\"fill_alpha\":{\"value\":0.4},\"fill_color\":{\"value\":\"coral\"},\"line_alpha\":{\"value\":0.4},\"line_color\":{\"value\":\"coral\"},\"size\":{\"units\":\"screen\",\"value\":7},\"x\":{\"field\":\"x\"},\"y\":{\"field\":\"y\"}},\"id\":\"6a1d86e1-8f5e-4f6d-ba23-62067ddcad19\",\"type\":\"Circle\"},{\"attributes\":{\"label\":{\"value\":\"7\"},\"renderers\":[{\"id\":\"b544b52a-9e3f-43ec-816b-88787efbecf9\",\"type\":\"GlyphRenderer\"}]},\"id\":\"ec1db28f-f0c6-4a23-bdef-28ab2c7b9e71\",\"type\":\"LegendItem\"},{\"attributes\":{\"label\":{\"value\":\"5\"},\"renderers\":[{\"id\":\"da86e49e-ccc7-4bb0-8cec-141555f8b83c\",\"type\":\"GlyphRenderer\"}]},\"id\":\"ccb5ee06-aec7-4eef-b3b8-9cddfcd7bfdd\",\"type\":\"LegendItem\"},{\"attributes\":{},\"id\":\"26c0bd80-0174-4648-9aea-f314ec867475\",\"type\":\"HelpTool\"},{\"attributes\":{\"formatter\":{\"id\":\"cecaf5b1-b7b2-4e26-a806-971a189db975\",\"type\":\"BasicTickFormatter\"},\"plot\":{\"id\":\"d47c3215-a78d-4e5b-a06a-10c8e40606d6\",\"subtype\":\"Figure\",\"type\":\"Plot\"},\"ticker\":{\"id\":\"17e15139-312b-4bf8-93d6-902b0632c670\",\"type\":\"BasicTicker\"}},\"id\":\"e2f41a11-89f2-4cad-bd27-a4e34453fb6b\",\"type\":\"LinearAxis\"},{\"attributes\":{\"callback\":null,\"column_names\":[\"y\",\"x\"],\"data\":{\"x\":{\"__ndarray__\":\"wJWiPdnbjUBqYntA8zt0QGjIPcB9MjtAN+wNQItdgUCXoopA7DFOv1rXxb/imT3A75bOwL+ukz8CTyrABCcqP3SkTUBvHzDAlSSmP0Y2sz+q/OA/TiD6v6c/KsCv8KO/Oa8Cv1wTiEC4SE5Ax8QBQDsNrb8Hg6I/fHCjv9KVxr+lkAjAhsoxQCpnckBM8mC/vCkfv/gvPz06+4m+6oYhPlnGT7+5gam/UjlOQFWuzz/Ei84+5j/TP1P9wz97jhPAlXY3QMU1MsAGxEdAII4iwJVPsj1nEV8/GEdzQOzl6j7WGolAHgdPQNV33j+26hpAM6cAwA2moD1JWDrA7CtIQD5hXEBcnDVAfouzv+fL0j17yBLAwYExQJ1onz+UByhAcvx8QDAikr8hVlBAQy36vcpABMC99XFAMikPQEC1+j+VXD9AI4elv3Fn6b+4ZFdAcz7lPz0lkb74L9C/xqY7QGU0ez8ZWgHAsL4KQA7+dkC2ayM/STxzQJ1uNsA=\",\"dtype\":\"float32\",\"shape\":[95]},\"y\":{\"__ndarray__\":\"hY8lQjVaNEITgTlCIfk5QqnBSELuDD5C9FVBQqJ9PULEmzFCs0JJQlVjSUL1s0hCtNqpQF1lQUKLQkZCxQxDQiPwMkKfUkpCA3YmQg2PJkJPBiRCG1tKQvgfRkKK7R1CBktEQkIANkJ9GixCqEBCQqEKSELbPiZCB+QdQoD2REIxfUVC09NCQmN9MEJuc0VC8M0dQsHSQUKRQ0NCvt8jQuTtRkK/XkhCZbU7QgPGJULcxkdCO2VFQohcIkKVqEhCWjotQu0FSkJFIz9CsupKQgxtJkLFlUdC8dgyQkPhRUJZOzhCJ45AQuxzQEK2jSlCpKNHQsWHIEKyFEdCf6gyQttnLUJ3uUBC6l9EQo2ZRELnvkpCdMI+QvtUR0KdLD5CUHs0QlYXG0LnpDNCXW0lQu1GRkI5oDpCp+gmQhcJP0LB/CpCktZHQpk0SkKJ6CxCeDAqQqVBJEJRl0ZCdYspQiiGQ0J3LkhCqlAqQjDsO0LLjkZCQXAwQv3jRkI=\",\"dtype\":\"float32\",\"shape\":[95]}}},\"id\":\"a98175bd-1886-49ac-b906-6d9e61065805\",\"type\":\"ColumnDataSource\"},{\"attributes\":{\"callback\":null,\"column_names\":[\"y\",\"x\"],\"data\":{\"x\":{\"__ndarray__\":\"kVwvwqKoVMKr6yDCigtFwjfAI8IbdjTCOAdNwppjN8LQnx3CziNGwg05T8Jw6CvCW+cYwvr9UMKzWkPCsKc3wmJaIMKr0VDC4ZJIwviqWcIAvU/CrKYswuHNU8KCwTbCaxgpwkf3M8KI5jfCfWEywpMvNcLsFTTCsEogwiqBK8JUz0nCj5QywkC9NMKbTCzCwXBDwupSKMLRrTPCJcs2woGyQsKWIrA/0wcdwkgZOsInlDbC0xhRwuHUUMJTmDLCNtJMwsUiVcKRx07CkchSws/1M8JkCva/gSZYwkf+V8JDrEXCj80pwguiMcIL7VvCLMoiwm7FT8JGNE/CF+BSwtFGTcL5aTzCTH4ZwjLpN8LqglzCQ6gkwpMlNMKtKzjCLMEjwuEwV8LfxS3CybUswpgIM8KOylrCvtlawswoRsIdaUfC27A3wp9PO8LPtkjCDkogwq9lVsKMqFvCQxU1wpS2PMLqFFjCuxlKwgdVRsLepEPCrh0kwud8ScLv9DPCBFcnwoA6TcK4jFTAAIg7wugbQcK+jtLAT3Ywwq5uTsLtvlLCt7gmwjuiVcLKqFHCreFawq4MWMLK603Ct/siwnGtQcL8N1zCgiErwmmPJsKVLSbCrFw6wqb1MsJOlyjCHnBSwqxoN8LHrFHC+0UZwrN/KsI=\",\"dtype\":\"float32\",\"shape\":[125]},\"y\":{\"__ndarray__\":\"zzk9vodTocCSd2lA7BiXwN3gAj8ZAgzAAhWdwPRT4L+n7h5AKL1zwKlVZsC1ZSVAh0hTQMNYX8AB8ELA8PusvzlgYUDgqW/AYZ2SwO4dwMC06qLAp3kTQPQubcBpVRLA8A42QGXHxb0pH7+/c78xP9yjEb+Ol6y/xns7QA5zjT6zzJnABSURwJl4BMD3JRpA/ckswEcDJECrbinA0upLwI1Oxr+pDIDBajshQI6UHMDtBa28hMJCwEMFnsBmaHI/+T1xwCT5s8AMtkjAUpipwHxXhr87gJfBxx7HwFxppcAfk6zA77UvQFHdGsBbZ7nAzv8pQDm/KMAkJT/AEtR9wAE3GsDc6y7AYqcuQO5zO7/w+8LAAU4mQLpmXMCBr2U+p3wGQNqet8BqEg08zGkKQDFmGb8IiK7AKGyvwGqNbcDGJGvASC2xv4k2zL1exKHAFG8vQPMan8D+07LAzEZVwIO6Br+Pjq7A5FZ+wD07nMC3XAXAyxvzPpw/j8BD2Co/fn2WPjsYycD1dcDBtaHIv72WXL+XbMpAddq3P70Sx8DNJG3AmgseQPuNqsCcRJHASavEwAC+scDYpGnAVooqP+arDMC8UcXADS9evQNzEUA4YR0+z+YOPr6l37+m6aM+jCyXwLtfoj6tAIbA6kU7QNkdCzw=\",\"dtype\":\"float32\",\"shape\":[125]}}},\"id\":\"024266bf-bfc9-47dd-b630-b55e9a17c0cf\",\"type\":\"ColumnDataSource\"},{\"attributes\":{\"data_source\":{\"id\":\"03455971-25af-42fe-b149-86e7d0680186\",\"type\":\"ColumnDataSource\"},\"glyph\":{\"id\":\"33cb55de-0c03-45bb-9ee1-e9aa873f1d76\",\"type\":\"Circle\"},\"hover_glyph\":null,\"muted_glyph\":null,\"nonselection_glyph\":{\"id\":\"3505a0f8-c7e9-4796-9712-7c76e9650a6d\",\"type\":\"Circle\"},\"selection_glyph\":null,\"view\":{\"id\":\"6232dec5-a1e3-4d9d-9bc9-3521ec7d199c\",\"type\":\"CDSView\"}},\"id\":\"3ff9be07-a79a-4112-a676-6d7d2a892a6f\",\"type\":\"GlyphRenderer\"},{\"attributes\":{\"overlay\":{\"id\":\"9b660047-9403-4516-8810-5e3afd49d84c\",\"type\":\"BoxAnnotation\"}},\"id\":\"2f38d8e8-1b50-4091-b117-33896f26e334\",\"type\":\"BoxZoomTool\"},{\"attributes\":{},\"id\":\"0d8266c3-a1df-4535-8135-bd354e30e132\",\"type\":\"WheelZoomTool\"},{\"attributes\":{\"fill_alpha\":{\"value\":0.1},\"fill_color\":{\"value\":\"#1f77b4\"},\"line_alpha\":{\"value\":0.1},\"line_color\":{\"value\":\"#1f77b4\"},\"size\":{\"units\":\"screen\",\"value\":7},\"x\":{\"field\":\"x\"},\"y\":{\"field\":\"y\"}},\"id\":\"95a81b73-b0d3-43eb-b867-857f830c06d2\",\"type\":\"Circle\"},{\"attributes\":{},\"id\":\"e9618507-74c9-4c6f-8b64-c5ec9d3ee99a\",\"type\":\"PanTool\"},{\"attributes\":{\"fill_alpha\":{\"value\":0.4},\"fill_color\":{\"value\":\"yellow\"},\"line_alpha\":{\"value\":0.4},\"line_color\":{\"value\":\"yellow\"},\"size\":{\"units\":\"screen\",\"value\":7},\"x\":{\"field\":\"x\"},\"y\":{\"field\":\"y\"}},\"id\":\"3739991c-42ca-4a55-bcd1-e1ec7133a1aa\",\"type\":\"Circle\"},{\"attributes\":{\"label\":{\"value\":\"8\"},\"renderers\":[{\"id\":\"b5cc65d4-5b92-4cf9-b8d1-25da0ff87562\",\"type\":\"GlyphRenderer\"}]},\"id\":\"0615e8eb-9e8b-4320-a746-1212426b9e44\",\"type\":\"LegendItem\"},{\"attributes\":{},\"id\":\"604cf5b2-fc54-43ec-905a-407d3c97224c\",\"type\":\"SaveTool\"},{\"attributes\":{\"fill_alpha\":{\"value\":0.1},\"fill_color\":{\"value\":\"#1f77b4\"},\"line_alpha\":{\"value\":0.1},\"line_color\":{\"value\":\"#1f77b4\"},\"size\":{\"units\":\"screen\",\"value\":7},\"x\":{\"field\":\"x\"},\"y\":{\"field\":\"y\"}},\"id\":\"2add811e-adae-4d16-9e53-432991860952\",\"type\":\"Circle\"},{\"attributes\":{\"fill_alpha\":{\"value\":0.4},\"fill_color\":{\"value\":\"purple\"},\"line_alpha\":{\"value\":0.4},\"line_color\":{\"value\":\"purple\"},\"size\":{\"units\":\"screen\",\"value\":7},\"x\":{\"field\":\"x\"},\"y\":{\"field\":\"y\"}},\"id\":\"2bb137b9-796c-40b3-9102-76615e27c67b\",\"type\":\"Circle\"},{\"attributes\":{\"bottom_units\":\"screen\",\"fill_alpha\":{\"value\":0.5},\"fill_color\":{\"value\":\"lightgrey\"},\"left_units\":\"screen\",\"level\":\"overlay\",\"line_alpha\":{\"value\":1.0},\"line_color\":{\"value\":\"black\"},\"line_dash\":[4,4],\"line_width\":{\"value\":2},\"plot\":null,\"render_mode\":\"css\",\"right_units\":\"screen\",\"top_units\":\"screen\"},\"id\":\"9b660047-9403-4516-8810-5e3afd49d84c\",\"type\":\"BoxAnnotation\"},{\"attributes\":{\"fill_alpha\":{\"value\":0.1},\"fill_color\":{\"value\":\"#1f77b4\"},\"line_alpha\":{\"value\":0.1},\"line_color\":{\"value\":\"#1f77b4\"},\"size\":{\"units\":\"screen\",\"value\":7},\"x\":{\"field\":\"x\"},\"y\":{\"field\":\"y\"}},\"id\":\"e556c1d9-a201-491e-9292-d54813e642d3\",\"type\":\"Circle\"},{\"attributes\":{\"label\":{\"value\":\"9\"},\"renderers\":[{\"id\":\"21fb3b9e-5f09-4403-a7ad-8a2f97ed9221\",\"type\":\"GlyphRenderer\"}]},\"id\":\"9c72f2aa-37c9-4349-a763-86460644ff46\",\"type\":\"LegendItem\"},{\"attributes\":{\"formatter\":{\"id\":\"80499e52-b28d-4de3-9a7c-70f03628ee27\",\"type\":\"BasicTickFormatter\"},\"plot\":{\"id\":\"d47c3215-a78d-4e5b-a06a-10c8e40606d6\",\"subtype\":\"Figure\",\"type\":\"Plot\"},\"ticker\":{\"id\":\"c0f8e5ec-97b5-4bd0-b133-04e4a546e47e\",\"type\":\"BasicTicker\"}},\"id\":\"0aafc771-8e32-4a5c-9805-e57dcd05bca4\",\"type\":\"LinearAxis\"},{\"attributes\":{\"callback\":null,\"column_names\":[\"y\",\"x\"],\"data\":{\"x\":{\"__ndarray__\":\"0pEuwOapUcB2iF2/PQL0vl9yPcCb7+C/uPu8vwMzj79W4qW+gAIwwR6SZcDa07K/xWstwLDeAMCl+ijACO3yv1xyQsAdEEDAiCXLv+NBXcC8Ww7AiH/xvxH/ScA/PT3AaWo1wLrMVcA0/6O/UY8gwF0nRcDTDjfA9pODv5oTOb/Yq17A4La3v2Txk78ELzfAggKNvzD2OMBAox/APwYnwHeoL8DclSy/y9EawAODub8KOsQ8Gcs6PwR1GMDHBbC+BckcwELlz7+Km6a/te4QwPplTMDFNia/f3Xgv5RtZsC+xCbAhCpbwHt3C8CYbDzAGudpwPDZPcEOrPy/LG+IvzQPW8Ag9xDATxAlwF1+Ub94Qny+xi9GwQAOR8HIo+S+QbBfv3iEHsDbeBdCtduUv/tcI8AuKRPCnfwcwI98gr+EnaO9pQ5hvx1Psb8Nqwu/Skiyv1Co9r+lFgHA1vX7v6IC7b8EF8G/o0cGwJ1DEcDSlUDAtj8cwnsXOMDoaJW/TE8wwOoQn788BxXA\",\"dtype\":\"float32\",\"shape\":[99]},\"y\":{\"__ndarray__\":\"NJcIwlGh08Fz+7vBzay+wSGV2sE9u7zBkdH+wYq/2sGzyZDBdE+IwVUqwsF1RvXB2W/PwQq43sFksgHC8j0Ewtzr38HpwQLCGnjvwUrFzsGa39/B7EUIwmctA8IhY8DBuLmiwVd6pMGRWtjBngYDwg+X9sHiZ/rBcQvwwYpGu8HvMM3B3Svowecq8MHbWAfCnaftweaiBsJSpafBx43PwdJQBMIYzMfB3hwGwrV+A8Iie4vBIrGFwQb/2cHyd5HBS86iwU0UyMHT6uXBCOoBwnjr3sFdwrnB6JIGwnP/wcEh5wDCL5DPwRkEB8K9bsbBItW+wXmBh8E0YOrBhfnFwaT5ycG9fArCVaYIwgDQ2sH4pZDBB8aHwZjTh8E9+LbBBVPewQ8N78HUzxHBYu6jwZgR9cE+yjZA2DQFwl2B3MGovo7BR52/wa7uBMK9ir/Be0HxwccfCcLgngTCwhzswc6bB8JUCQfC+CX7wU898MEZtwbCwhMAQIbov8EcSMTBp8fMwXbf9cE/rQjC\",\"dtype\":\"float32\",\"shape\":[99]}}},\"id\":\"0970ec13-b6d2-46f5-a50d-99bfcc16a323\",\"type\":\"ColumnDataSource\"},{\"attributes\":{\"fill_alpha\":{\"value\":0.1},\"fill_color\":{\"value\":\"#1f77b4\"},\"line_alpha\":{\"value\":0.1},\"line_color\":{\"value\":\"#1f77b4\"},\"size\":{\"units\":\"screen\",\"value\":7},\"x\":{\"field\":\"x\"},\"y\":{\"field\":\"y\"}},\"id\":\"ab8bb279-3257-4630-b882-9ae69a245cf5\",\"type\":\"Circle\"},{\"attributes\":{\"callback\":null},\"id\":\"d98fc59f-4491-45d9-a1cb-376c3a0d2452\",\"type\":\"DataRange1d\"},{\"attributes\":{\"data_source\":{\"id\":\"d68489d2-9a37-47c9-9a39-a220baadb1b1\",\"type\":\"ColumnDataSource\"},\"glyph\":{\"id\":\"6a1d86e1-8f5e-4f6d-ba23-62067ddcad19\",\"type\":\"Circle\"},\"hover_glyph\":null,\"muted_glyph\":null,\"nonselection_glyph\":{\"id\":\"bd537efa-dc1e-4757-af62-deeba4d95e6e\",\"type\":\"Circle\"},\"selection_glyph\":null,\"view\":{\"id\":\"94d91deb-d24d-471d-ba8c-12b7a4120b9e\",\"type\":\"CDSView\"}},\"id\":\"b5cc65d4-5b92-4cf9-b8d1-25da0ff87562\",\"type\":\"GlyphRenderer\"},{\"attributes\":{\"label\":{\"value\":\"3\"},\"renderers\":[{\"id\":\"ce18e44d-3e3f-420c-8dd9-cda0ab6e2939\",\"type\":\"GlyphRenderer\"}]},\"id\":\"eaf3b108-5f83-4c16-a444-e47aa08e56ab\",\"type\":\"LegendItem\"},{\"attributes\":{\"plot\":null,\"text\":\"\"},\"id\":\"b05cfd2d-b62f-41df-8adb-c5769d19e60d\",\"type\":\"Title\"},{\"attributes\":{\"fill_alpha\":{\"value\":0.1},\"fill_color\":{\"value\":\"#1f77b4\"},\"line_alpha\":{\"value\":0.1},\"line_color\":{\"value\":\"#1f77b4\"},\"size\":{\"units\":\"screen\",\"value\":7},\"x\":{\"field\":\"x\"},\"y\":{\"field\":\"y\"}},\"id\":\"05fae2b2-7909-45cf-a21a-d2edb728a913\",\"type\":\"Circle\"},{\"attributes\":{\"callback\":null,\"column_names\":[\"y\",\"x\"],\"data\":{\"x\":{\"__ndarray__\":\"DyeDwcGlpMH20tHBgf/NwRcny8FCKJ7BWajNwd5KFMEayszBkYGewUIolcHSqpXBs7XKweukx8GEWY/BvFPFwazjncHzvqHBHl26wT70ksF95YvBLnm2wde40sElP6PBHpgFwTOo0cHQ0I3Bx47KwVT90sFf3JPBAfgnwb2VgMEuW5vB3msSQv57mMHLcrrB/fXIwbuRrsHt7Y7BHf+xQLxVnsEpNrDBzDuDwf3quMFaULHBtMK+wRDIw8ExG5rBOHC3wVTBvsHiBq3BITewwTVKjcGJIw3Bf97Fwbn/usEkc5LBLX7LwfR04sBrwafBHVCTwZpWpcGQgLjBdlWnwZtUxsFqOKDBkDjIweccrMGhy7DBSwCWwUkdHsLtCMTBs1RAwQplysEyS7HBcuirwTNvbcHHCKPBmjTTwU3qssE2jc/B50fPwYbdmsHqEJfBC2apwaZSn8HQXs3BWLHSwXeX0sHkpMzBPAnQwdFazsGaDY7Bw/+YwQ==\",\"dtype\":\"float32\",\"shape\":[94]},\"y\":{\"__ndarray__\":\"ru18QWexiUG017hBthTDQT9gvkFor6ZBLm29QXCqmUAIgbpBxgKjQZSFjEFQ7JRBvE3DQVbhv0F1ZKFBhF+xQSAkqEGPmpVBzZWxQU94kkH+gYtBXU2uQRx0u0Foj4hByUoEQbjVwUFgPZ9BCjfDQYgpvUFn24JBLmfYQJdeiUEgpKNB+ki8wC/6jUHIAKZByxO6Qf+Hq0EhSqFB4Hc7wcQPn0GXH51BAvVuQddqq0En161BBBW0QV4/uEEQYp9BejKxQYZXtEGwealBu0+pQWvPf0FovwNBC8K6QXWTskHcEHxBhdS1QfHtBkFtl5lBH3GkQSxwoEEg+KNBhRKNQdQ9vUHXpZxBSp/AQYSPpkGw37NBMXuTQUKvRUCDh7dBkfhxwerSvEFO8p1BU2WpQSGfccECi59B5Yy+QSCSrkGn8b5BzZW3QQDKmkHyYY9BXs2pQf9clEGKG8NBy8vAQfJCukHhB7lB7azCQW5At0Ecq4NBNkKmQQ==\",\"dtype\":\"float32\",\"shape\":[94]}}},\"id\":\"8db70732-57fe-485e-b0f5-c15eff1444eb\",\"type\":\"ColumnDataSource\"},{\"attributes\":{\"fill_alpha\":{\"value\":0.4},\"fill_color\":{\"value\":\"blue\"},\"line_alpha\":{\"value\":0.4},\"line_color\":{\"value\":\"blue\"},\"size\":{\"units\":\"screen\",\"value\":7},\"x\":{\"field\":\"x\"},\"y\":{\"field\":\"y\"}},\"id\":\"738dd7ba-7663-4561-adda-d126d6074024\",\"type\":\"Circle\"}],\"root_ids\":[\"d47c3215-a78d-4e5b-a06a-10c8e40606d6\"]},\"title\":\"Bokeh Application\",\"version\":\"0.12.9\"}};\n",
       "    var render_items = [{\"docid\":\"d4e16fde-9f86-4cb5-b9ef-aedcacf42ec1\",\"elementid\":\"ec57e0ad-fd98-4834-a1e8-9dfa5f1b5539\",\"modelid\":\"d47c3215-a78d-4e5b-a06a-10c8e40606d6\"}];\n",
       "\n",
       "    root.Bokeh.embed.embed_items(docs_json, render_items);\n",
       "  }\n",
       "\n",
       "  if (root.Bokeh !== undefined) {\n",
       "    embed_document(root);\n",
       "  } else {\n",
       "    var attempts = 0;\n",
       "    var timer = setInterval(function(root) {\n",
       "      if (root.Bokeh !== undefined) {\n",
       "        embed_document(root);\n",
       "        clearInterval(timer);\n",
       "      }\n",
       "      attempts++;\n",
       "      if (attempts > 100) {\n",
       "        console.log(\"Bokeh: ERROR: Unable to embed document because BokehJS library is missing\")\n",
       "        clearInterval(timer);\n",
       "      }\n",
       "    }, 10, root)\n",
       "  }\n",
       "})(window);"
      ],
      "application/vnd.bokehjs_exec.v0+json": ""
     },
     "metadata": {
      "application/vnd.bokehjs_exec.v0+json": {
       "id": "d47c3215-a78d-4e5b-a06a-10c8e40606d6"
      }
     },
     "output_type": "display_data"
    }
   ],
   "source": [
    "## Your code here\n",
    "hidden_features = get_activations(model, model.layers[-1], X_train)\n",
    "X_tsne = tsne.fit_transform(hidden_features[:1000]) ## Reduced for computational issues\n",
    "\n",
    "p = figure(plot_width=600, plot_height=600)\n",
    "colors = [x for x in 'blue-green-red-cyan-magenta-yellow-black-purple-coral-lime'.split('-')]\n",
    "colors_map = colors_map[:1000]\n",
    "for cl in range(nb_classes):\n",
    "    indices = np.where(colors_map==cl)\n",
    "    p.circle(X_tsne[indices, 0].ravel(), X_tsne[indices, 1].ravel(), size=7, \n",
    "             color=colors[cl], alpha=0.4, legend=str(cl))\n",
    "# show the results\n",
    "p.legend.location = 'bottom_right'\n",
    "show(p)"
   ]
  },
  {
   "cell_type": "code",
   "execution_count": null,
   "metadata": {
    "collapsed": true
   },
   "outputs": [],
   "source": []
  }
 ],
 "metadata": {
  "kernelspec": {
   "display_name": "Python [default]",
   "language": "python",
   "name": "python3"
  },
  "language_info": {
   "codemirror_mode": {
    "name": "ipython",
    "version": 3
   },
   "file_extension": ".py",
   "mimetype": "text/x-python",
   "name": "python",
   "nbconvert_exporter": "python",
   "pygments_lexer": "ipython3",
   "version": "3.5.2"
  },
  "latex_envs": {
   "LaTeX_envs_menu_present": true,
   "autocomplete": true,
   "bibliofile": "biblio.bib",
   "cite_by": "apalike",
   "current_citInitial": 1,
   "eqLabelWithNumbers": true,
   "eqNumInitial": 1,
   "hotkeys": {
    "equation": "Ctrl-E",
    "itemize": "Ctrl-I"
   },
   "labels_anchors": false,
   "latex_user_defs": false,
   "report_style_numbering": false,
   "user_envs_cfg": false
  },
  "notify_time": "10",
  "toc": {
   "colors": {
    "hover_highlight": "#DAA520",
    "navigate_num": "#000000",
    "navigate_text": "#333333",
    "running_highlight": "#FF0000",
    "selected_highlight": "#FFD700",
    "sidebar_border": "#EEEEEE",
    "wrapper_background": "#FFFFFF"
   },
   "moveMenuLeft": true,
   "nav_menu": {
    "height": "435px",
    "width": "252px"
   },
   "navigate_menu": true,
   "number_sections": true,
   "sideBar": true,
   "threshold": 4,
   "toc_cell": false,
   "toc_position": {
    "height": "700px",
    "left": "0px",
    "right": "1162.8px",
    "top": "68px",
    "width": "370px"
   },
   "toc_section_display": "block",
   "toc_window_display": true,
   "widenNotebook": false
  },
  "varInspector": {
   "cols": {
    "lenName": 16,
    "lenType": 16,
    "lenVar": 40
   },
   "kernels_config": {
    "python": {
     "delete_cmd_postfix": "",
     "delete_cmd_prefix": "del ",
     "library": "var_list.py",
     "varRefreshCmd": "print(var_dic_list())"
    },
    "r": {
     "delete_cmd_postfix": ") ",
     "delete_cmd_prefix": "rm(",
     "library": "var_list.r",
     "varRefreshCmd": "cat(var_dic_list()) "
    }
   },
   "types_to_exclude": [
    "module",
    "function",
    "builtin_function_or_method",
    "instance",
    "_Feature"
   ],
   "window_display": false
  }
 },
 "nbformat": 4,
 "nbformat_minor": 1
}
